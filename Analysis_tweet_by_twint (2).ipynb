{
  "nbformat": 4,
  "nbformat_minor": 0,
  "metadata": {
    "kernelspec": {
      "display_name": "Python 3",
      "language": "python",
      "name": "python3"
    },
    "language_info": {
      "codemirror_mode": {
        "name": "ipython",
        "version": 3
      },
      "file_extension": ".py",
      "mimetype": "text/x-python",
      "name": "python",
      "nbconvert_exporter": "python",
      "pygments_lexer": "ipython3",
      "version": "3.7.4"
    },
    "colab": {
      "name": "Analysis tweet by twint.ipynb",
      "provenance": []
    }
  },
  "cells": [
    {
      "cell_type": "markdown",
      "metadata": {
        "id": "4ZzLXnYibPEP",
        "colab_type": "text"
      },
      "source": [
        "**GETTING THE USER DETAILS AND SAVING THE DATA TO A CSV FILE** "
      ]
    },
    {
      "cell_type": "code",
      "metadata": {
        "id": "zeySy3izbPEQ",
        "colab_type": "code",
        "colab": {
          "base_uri": "https://localhost:8080/",
          "height": 607
        },
        "outputId": "e2cf34fc-553a-44e7-8df3-1d7420047079"
      },
      "source": [
        "!pip install twint"
      ],
      "execution_count": 59,
      "outputs": [
        {
          "output_type": "stream",
          "text": [
            "Requirement already satisfied: twint in /usr/local/lib/python3.6/dist-packages (2.1.16)\n",
            "Requirement already satisfied: schedule in /usr/local/lib/python3.6/dist-packages (from twint) (0.6.0)\n",
            "Requirement already satisfied: pysocks in /usr/local/lib/python3.6/dist-packages (from twint) (1.7.1)\n",
            "Requirement already satisfied: googletransx in /usr/local/lib/python3.6/dist-packages (from twint) (2.4.2)\n",
            "Requirement already satisfied: elasticsearch in /usr/local/lib/python3.6/dist-packages (from twint) (7.6.0)\n",
            "Requirement already satisfied: aiohttp in /usr/local/lib/python3.6/dist-packages (from twint) (3.6.2)\n",
            "Requirement already satisfied: pandas in /usr/local/lib/python3.6/dist-packages (from twint) (1.0.3)\n",
            "Requirement already satisfied: aiodns in /usr/local/lib/python3.6/dist-packages (from twint) (2.0.0)\n",
            "Requirement already satisfied: geopy in /usr/local/lib/python3.6/dist-packages (from twint) (1.17.0)\n",
            "Requirement already satisfied: cchardet in /usr/local/lib/python3.6/dist-packages (from twint) (2.1.6)\n",
            "Requirement already satisfied: beautifulsoup4 in /usr/local/lib/python3.6/dist-packages (from twint) (4.6.3)\n",
            "Requirement already satisfied: fake-useragent in /usr/local/lib/python3.6/dist-packages (from twint) (0.1.11)\n",
            "Requirement already satisfied: aiohttp-socks in /usr/local/lib/python3.6/dist-packages (from twint) (0.3.6)\n",
            "Requirement already satisfied: requests in /usr/local/lib/python3.6/dist-packages (from googletransx->twint) (2.21.0)\n",
            "Requirement already satisfied: urllib3>=1.21.1 in /usr/local/lib/python3.6/dist-packages (from elasticsearch->twint) (1.24.3)\n",
            "Requirement already satisfied: typing-extensions>=3.6.5; python_version < \"3.7\" in /usr/local/lib/python3.6/dist-packages (from aiohttp->twint) (3.6.6)\n",
            "Requirement already satisfied: async-timeout<4.0,>=3.0 in /usr/local/lib/python3.6/dist-packages (from aiohttp->twint) (3.0.1)\n",
            "Requirement already satisfied: chardet<4.0,>=2.0 in /usr/local/lib/python3.6/dist-packages (from aiohttp->twint) (3.0.4)\n",
            "Requirement already satisfied: yarl<2.0,>=1.0 in /usr/local/lib/python3.6/dist-packages (from aiohttp->twint) (1.4.2)\n",
            "Requirement already satisfied: multidict<5.0,>=4.5 in /usr/local/lib/python3.6/dist-packages (from aiohttp->twint) (4.7.5)\n",
            "Requirement already satisfied: attrs>=17.3.0 in /usr/local/lib/python3.6/dist-packages (from aiohttp->twint) (19.3.0)\n",
            "Requirement already satisfied: idna-ssl>=1.0; python_version < \"3.7\" in /usr/local/lib/python3.6/dist-packages (from aiohttp->twint) (1.1.0)\n",
            "Requirement already satisfied: python-dateutil>=2.6.1 in /usr/local/lib/python3.6/dist-packages (from pandas->twint) (2.8.1)\n",
            "Requirement already satisfied: pytz>=2017.2 in /usr/local/lib/python3.6/dist-packages (from pandas->twint) (2018.9)\n",
            "Requirement already satisfied: numpy>=1.13.3 in /usr/local/lib/python3.6/dist-packages (from pandas->twint) (1.18.2)\n",
            "Requirement already satisfied: typing; python_version < \"3.7\" in /usr/local/lib/python3.6/dist-packages (from aiodns->twint) (3.6.6)\n",
            "Requirement already satisfied: pycares>=3.0.0 in /usr/local/lib/python3.6/dist-packages (from aiodns->twint) (3.1.1)\n",
            "Requirement already satisfied: geographiclib<2,>=1.49 in /usr/local/lib/python3.6/dist-packages (from geopy->twint) (1.50)\n",
            "Requirement already satisfied: idna<2.9,>=2.5 in /usr/local/lib/python3.6/dist-packages (from requests->googletransx->twint) (2.8)\n",
            "Requirement already satisfied: certifi>=2017.4.17 in /usr/local/lib/python3.6/dist-packages (from requests->googletransx->twint) (2019.11.28)\n",
            "Requirement already satisfied: six>=1.5 in /usr/local/lib/python3.6/dist-packages (from python-dateutil>=2.6.1->pandas->twint) (1.12.0)\n",
            "Requirement already satisfied: cffi>=1.5.0 in /usr/local/lib/python3.6/dist-packages (from pycares>=3.0.0->aiodns->twint) (1.14.0)\n",
            "Requirement already satisfied: pycparser in /usr/local/lib/python3.6/dist-packages (from cffi>=1.5.0->pycares>=3.0.0->aiodns->twint) (2.20)\n"
          ],
          "name": "stdout"
        }
      ]
    },
    {
      "cell_type": "code",
      "metadata": {
        "id": "HrOoMnv0bPEV",
        "colab_type": "code",
        "colab": {
          "base_uri": "https://localhost:8080/",
          "height": 1000
        },
        "outputId": "755cf2cf-bc7e-4b6d-ecab-1d1e4f65ee6c"
      },
      "source": [
        "import twint \n",
        "from datetime import date\n",
        "\n",
        "today1 = str(date.today())\n",
        "print(\"Today's date:\", today1)\n",
        "\n",
        "first_day=str(date.today().replace(day=1))\n",
        "print(first_day)\n",
        "name_of_user=input(\"HI THERE! PLEASE ENTER YOUR TWITTER USERNAME\\n\")\n",
        "c=twint.Config()\n",
        "c.Username = \"{}\".format(name_of_user)\n",
        "c.Store_csv=True\n",
        "c.Output=\"data_user.csv\"\n",
        "c.Since=first_day\n",
        "c.Lang='en'\n",
        "c.Until=today1\n",
        "twint.run.Search(c)\n"
      ],
      "execution_count": 63,
      "outputs": [
        {
          "output_type": "stream",
          "text": [
            "Today's date: 2020-03-31\n",
            "2020-03-01\n",
            "HI THERE! PLEASE ENTER YOUR TWITTER USERNAME\n",
            "realDonaldTrump\n",
            "1244728753617620994 2020-03-30 20:50:35 UTC <realDonaldTrump> White House news conference at 5:00 P.M. Eastern. Thank you!\n",
            "1244673740866191362 2020-03-30 17:11:59 UTC <realDonaldTrump> On #NationalDoctorsDay, we recognize the remarkable men & women who treat their fellow Americans, find cures for the diseases & illnesses we face, and never waver in their efforts to treat every patient with the dignity, respect, and empathy they deserve. https://www.whitehouse.gov/presidential-actions/proclamation-national-doctors-day-2020/ …\n",
            "1244584449309892609 2020-03-30 11:17:10 UTC <realDonaldTrump> Nancy Pelosi and the Democrats delayed the Workers Help/Stimulus Bill by over a week, trying to add real “junk” into the Bill. Got some bad things, having nothing to do with those affected by the Virus, included. Republicans need their votes until we WIN BACK THE HOUSE IN 2020!\n",
            "1244581994614398981 2020-03-30 11:07:25 UTC <realDonaldTrump> Thank you Dr. Hahn & the FDA for your fast approval of this respected Ohio company recommended by Governor @MikeDeWine. Great potential! https://twitter.com/stevefda/status/1244472087831552004 …\n",
            "1244493463355342848 2020-03-30 05:15:37 UTC <realDonaldTrump> Will be interviewed on @foxandfriends at 7:55 A.M. USA STRONG!\n",
            "1244368213133144065 2020-03-29 20:57:55 UTC <realDonaldTrump> Will be starting The White House news conference at 5:30 P.M. Eastern.\n",
            "1244355295033331718 2020-03-29 20:06:35 UTC <realDonaldTrump> So proud of the @USACEHQ, @FEMA, and the Federal Government for the 2,900 bed hospital they built in 4 days (way ahead of schedule) in the Javits Center for NY. We are now moving the teams to join others so they can continue to build more hospitals/beds. Keep up the GREAT WORK!\n",
            "1244354540486512640 2020-03-29 20:03:36 UTC <realDonaldTrump> Thank you very much to Ken Langone for being a great American and for your wonderful comments on @TeamCavuto.\n",
            "1244338645198352386 2020-03-29 19:00:26 UTC <realDonaldTrump> I am a great friend and admirer of the Queen & the United Kingdom. It was reported that Harry and Meghan, who left the Kingdom, would reside permanently in Canada. Now they have left Canada for the U.S. however, the U.S. will not pay for their security protection. They must pay!\n",
            "1244326171594162181 2020-03-29 18:10:52 UTC <realDonaldTrump> Happy National Vietnam War Veterans Day to all of our Vietnam era Veterans. You have earned our gratitude and thanks by your actions years ago and what you have done since returning home. The Nation thanks you and your families for your service and sacrifice. We love you! https://twitter.com/mobbs_mentality/status/1244279566040010754 …\n",
            "1244320704826310665 2020-03-29 17:49:09 UTC <realDonaldTrump> ...The CBS News poll said 13 percent of Republicans trusted the news media for information about the virus.” Michael M. Grynbaum @NYTimes\n",
            "1244320572777136128 2020-03-29 17:48:37 UTC <realDonaldTrump> ...alone attracted 6.2 million viewers for the president’s briefing — an astounding number for a 6 p.m. cable broadcast, more akin to the viewership for a popular prime-time sitcom...\n",
            "1244320571653074951 2020-03-29 17:48:37 UTC <realDonaldTrump> ...On Monday, nearly 12.2 million people watched Mr. Trump’s briefing on CNN, Fox News and MSNBC, according to Nielsen — ‘Monday Night Football’ numbers. Millions more are watching on ABC, CBS, NBC and online streaming sites, and the audience is expanding. On Monday, Fox News...\n",
            "1244320570315018240 2020-03-29 17:48:36 UTC <realDonaldTrump> “President Trump is a ratings hit. Since reviving the daily White House briefing Mr. Trump and his coronavirus updates have attracted an average audience of 8.5 million on cable news, roughly the viewership of the season finale of ‘The Bachelor.’ Numbers are continuing to rise...\n",
            "1244309931874017280 2020-03-29 17:06:20 UTC <realDonaldTrump> Because the “Ratings” of my News Conferences etc. are so high, “Bachelor finale, Monday Night Football type numbers” according to the @nytimes, the Lamestream Media is going CRAZY. “Trump is reaching too many people, we must stop him.” said one lunatic. See you at 5:00 P.M.!\n",
            "1244306707536326657 2020-03-29 16:53:31 UTC <realDonaldTrump> Polls are showing tremendous disapproval of Lamestream Media coverage of the Virus crisis. The Fake News just hasn’t figured that out yet!\n",
            "1244301861781475328 2020-03-29 16:34:16 UTC <realDonaldTrump> The Lamestream Media wants us to fail. That will NEVER happen!\n",
            "1244296475254968320 2020-03-29 16:12:52 UTC <realDonaldTrump> Hope the FDA can approve Mask Sterilization equipment ASAP. As per Governor @MikeDeWine, there is a company in Ohio, @Battelle, which has equipment that can sterilize masks quickly.\n",
            "1244295140837122048 2020-03-29 16:07:34 UTC <realDonaldTrump> “With the Tax Cuts and new Trade Deals, we were set for a tremendous growth rate this year.... and then the Virus came along.” @larry_kudlow @MariaBartiromo We were breaking all records, especially on employment. It will all come roaring back again, and fast!\n",
            "1244281520065576961 2020-03-29 15:13:26 UTC <realDonaldTrump> Highly recommended by Governor @MikeDeWine of Ohio. @FDA must move quickly! https://twitter.com/PaigePfleger/status/1243972525262082048 …\n",
            "1244263531933044739 2020-03-29 14:01:57 UTC <realDonaldTrump> Will be doing a press conference today at 5:00 P.M. The White House. People are working harder than I have ever seen people work. It is a beautiful thing to watch!\n",
            "1244056559577071616 2020-03-29 00:19:31 UTC <realDonaldTrump> ....Federal Government. A quarantine will not be necessary. Full details will be released by CDC tonight. Thank you!\n",
            "1244056534583312384 2020-03-29 00:19:25 UTC <realDonaldTrump> On the recommendation of the White House CoronaVirus Task Force, and upon consultation with the Governor’s of New York, New Jersey and Connecticut, I have asked the @CDCgov to issue a strong Travel Advisory, to be administered by the Governors, in consultation with the....\n",
            "1244029041432244224 2020-03-28 22:30:11 UTC <realDonaldTrump> With the courage of our doctors and nurses, with the skill of our scientists and innovators, with the determination of the American People, and with the grace of God, WE WILL WIN THIS WAR. When we achieve this victory, we will emerge stronger and more united than ever before! pic.twitter.com/sFmxKzXdGC\n",
            "1243953994743103489 2020-03-28 17:31:58 UTC <realDonaldTrump> I am giving consideration to a QUARANTINE of developing “hot spots”, New York, New Jersey, and Connecticut. A decision will be made, one way or another, shortly.\n",
            "1243945092244631552 2020-03-28 16:56:36 UTC <realDonaldTrump> Heading to the Great State of Virginia now, will be there shortly. The #USNSComfort is “loaded to the gills” at Naval Station Norfolk, departing for New York City this afternoon. pic.twitter.com/1ZSUweoX7x\n",
            "1243904684257091585 2020-03-28 14:16:02 UTC <realDonaldTrump> ....very often FAKE NEWS. Lamestream Media should be forced to reveal sources, very much as they did in the long ago past. If they did that, the media would be trusted again, and Fake News would largely be a thing of the past!\n",
            "1243878874922041345 2020-03-28 12:33:28 UTC <realDonaldTrump> One of the reasons that Fake News has become so prevalent & far reaching is the fact that corrupt “journalists” base their stories on SOURCES that they make up in order to totally distort a narrative or story. When you see, “five sources say”, don’t believe the story, it is....\n",
            "1243873875047448576 2020-03-28 12:13:36 UTC <realDonaldTrump> So much of the Lamestream Media is writing and broadcasting stories with facts that are made up and knowingly wrong. They are doing it by quoting unnamed sources that simply do not exist. These are very dangerous & corrupt people, who will do anything to win. NAME YOUR SOURCES!\n",
            "1243762111328784384 2020-03-28 04:49:29 UTC <realDonaldTrump> Thank you James! https://twitter.com/realjameswoods/status/1243664419453685760 …\n",
            "1243759793103306754 2020-03-28 04:40:17 UTC <realDonaldTrump> More Fake News! https://twitter.com/santucci/status/1243708703972433927 …\n",
            "1243755076214231040 2020-03-28 04:21:32 UTC <realDonaldTrump> Such Fake reporting by the @nytimes, @washingtonpost, @CNN & others. They use a small portion of a sentence out of a full paragraph in order to demean. They really are corrupt and disgusting. No wonder the media is, according to polls, record setting low & untrusted.  #MAGA\n",
            "1243726993537073152 2020-03-28 02:29:57 UTC <realDonaldTrump> I love Michigan, one of the reasons we are doing such a GREAT job for them during this horrible Pandemic. Yet your Governor, Gretchen “Half” Whitmer is way in over her head, she doesn’t have a clue. Likes blaming everyone for her own ineptitude! #MAGA\n",
            "1243705647192997893 2020-03-28 01:05:07 UTC <realDonaldTrump> She is a third rate reporter who has nothing going. A Fake News “journalist”. https://twitter.com/greg_price11/status/1243677737761615872 …\n",
            "1243647273462005760 2020-03-27 21:13:10 UTC <realDonaldTrump> We are marshalling the full power of government and society to achieve victory over the virus. Together, we will endure, we will prevail, and we will WIN! #CARESAct pic.twitter.com/zb2PJTldGQ\n",
            "1243637430483390470 2020-03-27 20:34:03 UTC <realDonaldTrump> I just signed the CARES Act, the single biggest economic relief package in American History – twice as large as any relief bill ever enacted. At $2.2 Trillion Dollars, this bill will deliver urgently-needed relief for our nation’s families, workers, and businesses. #CARESAct🇺🇸 https://twitter.com/senategop/status/1243613618186465280 …\n",
            "1243637134457810945 2020-03-27 20:32:53 UTC <realDonaldTrump> News conference live from the @WhiteHouse today. 5:30 P.M. Eastern!\n",
            "1243628257871831043 2020-03-27 19:57:36 UTC <realDonaldTrump> Thank you to Rachel @Maddow for putting our Military on full display, and showing how GREAT a job the Federal Government is doing! Also, a special thanks to General Semonite, a Patriot of the highest order and a truly talented engineer and builder! pic.twitter.com/JRQlNpLbxv\n",
            "1243572588200280064 2020-03-27 16:16:24 UTC <realDonaldTrump> Never knew John Kerry had such a good sense of humor! Very impressed! https://twitter.com/JohnKerry/status/1243552337429438464 …\n",
            "1243566007605755904 2020-03-27 15:50:15 UTC <realDonaldTrump> Thousand of Federal Government (delivered) Ventilators found in New York storage. N.Y. must distribute NOW!\n",
            "1243564774182567936 2020-03-27 15:45:21 UTC <realDonaldTrump> Will someone please explain to the Fake News New York Times (ALL THE NEWS THAT’S NOT FIT TO PRINT) that the Democrats make it almost impossible for us to fill positions within government. They “maximum” delay even the best candidates, including Judges, leaving little time!\n",
            "1243561301768581120 2020-03-27 15:31:33 UTC <realDonaldTrump> We have just purchased many Ventilators from some wonderful companies. Names and numbers will be announced later today!\n",
            "1243560795415470080 2020-03-27 15:29:32 UTC <realDonaldTrump> Invoke “P” means Defense Production Act!\n",
            "1243559373395410957 2020-03-27 15:23:53 UTC <realDonaldTrump> General Motors MUST immediately open their stupidly abandoned Lordstown plant in Ohio, or some other plant, and START MAKING VENTILATORS, NOW!!!!!!  FORD, GET GOING ON VENTILATORS, FAST!!!!!!  @GeneralMotors @Ford\n",
            "1243557418556162050 2020-03-27 15:16:07 UTC <realDonaldTrump> As usual with “this” General Motors, things just never seem to work out. They said they were going to give us 40,000 much needed Ventilators, “very quickly”. Now they are saying it will only be 6000, in late April, and they want top dollar. Always a mess with Mary B. Invoke “P”.\n",
            "1243545579063595008 2020-03-27 14:29:04 UTC <realDonaldTrump> Thank you Byron. Many polls are much better than this. If it is the Fake News @washingtonpost, add 10 points! https://twitter.com/byronyork/status/1243484004403339265 …\n",
            "1243541556424048643 2020-03-27 14:13:05 UTC <realDonaldTrump> By empowering the Radical Left Democrats, do nothing Kentucky politician @RepThomasMassie is making their War on the 2nd Amendment more and more difficult to win (But don’t worry, we will win anyway!). He is a disaster for America, and for the Great State of Kentucky!\n",
            "1243534445367492608 2020-03-27 13:44:50 UTC <realDonaldTrump> ...& costly. Workers & small businesses need money now in order to survive. Virus wasn’t their fault. It is “HELL” dealing with the Dems, had to give up some stupid things in order to get the “big picture” done. 90% GREAT! WIN BACK HOUSE, but throw Massie out of Republican Party!\n",
            "1243534441772974081 2020-03-27 13:44:49 UTC <realDonaldTrump> Looks like a third rate Grandstander named @RepThomasMassie, a Congressman from, unfortunately, a truly GREAT State, Kentucky, wants to vote against the new Save Our Workers Bill in Congress. He just wants the publicity. He can’t stop it, only delay, which is both dangerous......\n",
            "1243407157321560071 2020-03-27 05:19:02 UTC <realDonaldTrump> Just finished a very good conversation with President Xi of China. Discussed in great detail the CoronaVirus that is ravaging large parts of our Planet. China has been through much & has developed a strong understanding of the Virus. We are working closely together. Much respect!\n",
            "1243324360523493378 2020-03-26 23:50:02 UTC <realDonaldTrump> The world is at war with a hidden enemy. WE WILL WIN! pic.twitter.com/QLceNWcL6Z\n",
            "1243313399284498434 2020-03-26 23:06:28 UTC <realDonaldTrump> Our great Oil & Gas industry is under under seige after having one of the best years in recorded history. It will get better than ever as soon as our Country starts up again. Vital that it does for our National Security!\n",
            "1243280878991785986 2020-03-26 20:57:15 UTC <realDonaldTrump> Will be going out in 10 minutes for the press conference.\n",
            "1243200193593565185 2020-03-26 15:36:38 UTC <realDonaldTrump> I will be doing a News Conference live from the @WhiteHouse at 5:00 P.M. (Eastern) to discuss the mtg of the G20 Leaders that took place this morning at 7:55 A.M. by World Teleconference. Also, my 12:00 P.M. Teleconference call w/50 Governors, plus Territories, will be discussed.\n",
            "1243037202793316354 2020-03-26 04:48:58 UTC <realDonaldTrump> 96-0 in the United States Senate. Congratulations AMERICA!\n",
            "1242929614344859649 2020-03-25 21:41:27 UTC <realDonaldTrump> ....I have been packed all day with meetings, I have no time for stupidity. We’re working around the clock to KEEP AMERICA SAFE!\n",
            "1242929613262725122 2020-03-25 21:41:26 UTC <realDonaldTrump> I hear that Fake News CNN just reported that I am isolated in the White House, wondering out loud, “when will life return to normal?” Does anybody really believe that? There was no leak, they made it up – they are CORRUPT & FAKE NEWS....\n",
            "1242905328209080331 2020-03-25 20:04:56 UTC <realDonaldTrump> The LameStream Media is the dominant force in trying to get me to keep our Country closed as long as possible in the hope that it will be detrimental to my election success. The real people want to get back to work ASAP.  We will be stronger than ever before!\n",
            "1242840063303659527 2020-03-25 15:45:36 UTC <realDonaldTrump> Today is National #MedalofHonorDay. Join me in a #MomentofHonor to remember those who have earned our Nation's highest award for valor in combat. The Nation is eternally grateful to these patriots who so valiantly fought for America’s values and the American way of life! pic.twitter.com/T5JAobQ7K6\n",
            "1242827275080531969 2020-03-25 14:54:47 UTC <realDonaldTrump> Congratulations to Prime Minister Abe of Japan, and the IOC, on their very wise decision to present the Olympics in 2021. It will be a great success, and I look forward to being there!\n",
            "1242826052310794240 2020-03-25 14:49:56 UTC <realDonaldTrump> The four hospitals that we (FEMA) are building in NYC at the Javits Convention Center are moving along very well, ahead of schedule. Many additional ventilators also delivered. Good conversation with Governor Cuomo!\n",
            "1242824631230308353 2020-03-25 14:44:17 UTC <realDonaldTrump> Just reported that the United States has done far more “testing” than any other nation, by far! In fact, over an eight day span, the United States now does more testing than what South Korea (which has been a very successful tester) does over an eight week span. Great job!\n",
            "1242787050337832961 2020-03-25 12:14:57 UTC <realDonaldTrump> The Democrat’s Best & Finest! https://twitter.com/danscavino/status/1242678298213302272 …\n",
            "1242780126674333697 2020-03-25 11:47:26 UTC <realDonaldTrump> Gee, that’s too bad. Such a fine guy. Presidential aspirations you know! https://twitter.com/GreggJarrett/status/1241950379341840384 …\n",
            "1242777450662244352 2020-03-25 11:36:48 UTC <realDonaldTrump> This is really great news! I am so happy I can barely speak. He may have been a terrible presidential candidate and an even worse U.S. Senator, but he is a RINO, and I like him a lot! https://twitter.com/BreitbartNews/status/1242544640953405446 …\n",
            "1242763375924391936 2020-03-25 10:40:52 UTC <realDonaldTrump> I am working very hard to help New York City & State. Dealing with both Mayor & Governor and producing tremendously for them, including four new medical centers and four new hospitals. Fake News that I won’t help them because I don’t like Cuomo (I do). Just sent 4000 ventilators!\n",
            "1242756708902076417 2020-03-25 10:14:23 UTC <realDonaldTrump> “President Trump’s decision to very early on restrict travel from China saved tens of thousands of lives.”  @LouDobbs @FoxBusiness\n",
            "1242528658767654912 2020-03-24 19:08:11 UTC <realDonaldTrump> Price transparency is so important for the people of our Country. In many ways, it will prove to be as important as healthcare itself. A great issue for both Republicans and Democrats. Hopefully it will be approved!\n",
            "1242482460140736512 2020-03-24 16:04:37 UTC <realDonaldTrump> Will be doing a Town Hall on @FoxNews at 12:05 P.M. (Now). I will go on around 1:00 P.M. Enjoy!\n",
            "1242455267603877894 2020-03-24 14:16:34 UTC <realDonaldTrump> Our people want to return to work. They will practice Social Distancing and all else, and Seniors will be watched over protectively & lovingly. We can do two things together. THE CURE CANNOT BE WORSE (by far) THAN THE PROBLEM! Congress MUST ACT NOW. We will come back strong!\n",
            "1242432301885198337 2020-03-24 12:45:18 UTC <realDonaldTrump> Congress must approve the deal, without all of the nonsense, today. The longer it takes, the harder it will be to start up our economy. Our workers will be hurt!\n",
            "1242422012682919937 2020-03-24 12:04:25 UTC <realDonaldTrump> This is not about the ridiculous Green New Deal. It is about putting our great workers and companies BACK TO WORK!\n",
            "1242421041193988096 2020-03-24 12:00:33 UTC <realDonaldTrump> The Defense Production Act is in full force, but haven’t had to use it because no one has said NO! Millions of masks coming as back up to States.\n",
            "1242416827558498304 2020-03-24 11:43:49 UTC <realDonaldTrump> Keep Charlie Number One. Great Book! https://twitter.com/charliekirk11/status/1225159300089143296 …\n",
            "1242414001562292226 2020-03-24 11:32:35 UTC <realDonaldTrump> Thank you Kirstie! https://twitter.com/kirstiealley/status/1242247422048382976 …\n",
            "1242410695188193281 2020-03-24 11:19:27 UTC <realDonaldTrump> Buy the book and give Liz some Great Reviews! @OANN https://twitter.com/Liz_Wheeler/status/1159262293009428480 …\n",
            "1242405446041903104 2020-03-24 10:58:35 UTC <realDonaldTrump> A respected coal miner and great dad! Rest In Peace! https://twitter.com/EmeraldRobinson/status/1216508747209723904 …\n",
            "1242403723932045313 2020-03-24 10:51:45 UTC <realDonaldTrump> The Media is hopeless. Too bad! https://twitter.com/EmeraldRobinson/status/1241901361446486016 …\n",
            "1242402843887362048 2020-03-24 10:48:15 UTC <realDonaldTrump> Thank you Tony! https://twitter.com/lizrnc/status/1242199020208037891 …\n",
            "1242394374224392192 2020-03-24 10:14:36 UTC <realDonaldTrump> The World market for face masks and ventilators is Crazy. We are helping the states to get equipment, but it is not easy. Just got 400 Ventilators for @NYCMayor Bill de Blasio. Work beginning on 4 hospitals in New York! Millions of different type items coming!\n",
            "1242304251520524289 2020-03-24 04:16:29 UTC <realDonaldTrump> This will never be approved by me, or any other Republican! https://twitter.com/NRO/status/1242277698904494080 …\n",
            "1242296014633086976 2020-03-24 03:43:45 UTC <realDonaldTrump> The Hill/HarrisX: 61% to 39% Approval Rating on handling of Coronavirus situation. Thank you!\n",
            "1242293340151873536 2020-03-24 03:33:07 UTC <realDonaldTrump> Republicans had a deal until Nancy Pelosi rode into town from her extended vacation. The Democrats want the Virus to win? They are asking for things that have nothing to do with our great workers or companies. They want Open Borders & Green New Deal. Republicans shouldn’t agree!\n",
            "1242281185084149762 2020-03-24 02:44:49 UTC <realDonaldTrump> ....us since the beginning of this crisis.” They meant the opposite? Forgot to mention that I closed our Country to China (and Europe) very early, long before it was considered acceptable to do so. Sleepy Joe said I was “xenophobic”, but I saved thousands of lives! Fake News!\n",
            "1242281182349451264 2020-03-24 02:44:48 UTC <realDonaldTrump> This is the way the @nytimes finished a story on me. “You can see the contrast between the steady, assured, informed and strong leadership that VP Biden (Sleepy Joe) has shown, and the bungling, chaotic and dishonest start-stop approach that Mr. (not Pres.) Trump has shown....\n",
            "1242202291718979587 2020-03-23 21:31:20 UTC <realDonaldTrump> ....is NOT their fault in any way, shape, or form. They are working closely with us to get rid of it. WE WILL PREVAIL TOGETHER!\n",
            "1242202290393677829 2020-03-23 21:31:19 UTC <realDonaldTrump> It is very important that we totally protect our Asian American community in the United States, and all around the world. They are amazing people, and the spreading of the Virus....\n",
            "1242120391054757900 2020-03-23 16:05:53 UTC <realDonaldTrump> A great early result from a drug that will start tomorrow in New York and other places! #COVIDー19 https://nypost.com/2020/03/22/florida-man-with-coronavirus-says-drug-touted-by-trump-saved-his-life/ …\n",
            "1242095933296443395 2020-03-23 14:28:42 UTC <realDonaldTrump> The New York Times changed headlines 3 times in order to satisfy the Radical Left. What should have been a good story got “worse & worse”, until the headline alone made it very unfair. Fake & Corrupt News that is very dangerous for our Country!\n",
            "1242092738973249536 2020-03-23 14:16:00 UTC <realDonaldTrump> THIS IS WHY WE NEED BORDERS!\n",
            "1242075604952002573 2020-03-23 13:07:55 UTC <realDonaldTrump> STRONG & UNITED, WE WILL PREVAIL! GOD BLESS THE USA!! pic.twitter.com/T6UCyaPRIy\n",
            "1242058470742020096 2020-03-23 11:59:50 UTC <realDonaldTrump> Robert, we will end up stronger than ever before. Thank you! https://twitter.com/Barnes_Law/status/1241938361087979521 …\n",
            "1242056984104521728 2020-03-23 11:53:55 UTC <realDonaldTrump> We will be guided by the wishes of Prime Minister Abe of Japan, a great friend of the United States and a man who has done a magnificent job on the Olympic Venue, as to attending the Olympic Games in Japan. He will make the proper decision!\n",
            "1241935285916782593 2020-03-23 03:50:20 UTC <realDonaldTrump> WE CANNOT LET THE CURE BE WORSE THAN THE PROBLEM ITSELF. AT THE END OF THE 15 DAY PERIOD, WE WILL MAKE A DECISION AS TO WHICH WAY WE WANT TO GO!\n",
            "1241929664987148289 2020-03-23 03:28:00 UTC <realDonaldTrump> I watch and listen to the Fake News, CNN, MSDNC, ABC, NBC, CBS, some of FOX (desperately & foolishly pleading to be politically correct), the @nytimes, & the @washingtonpost, and all I see is hatred of me at any cost. Don’t they understand that they are destroying themselves?\n",
            "1241897485779468288 2020-03-23 01:20:08 UTC <realDonaldTrump> My friend (always there when I’ve needed him!), Senator @RandPaul, was just tested “positive” from the Chinese Virus. That is not good! He is strong and will get better. Just spoke to him and he was in good spirits.\n",
            "1241779803344248835 2020-03-22 17:32:30 UTC <realDonaldTrump> The hard working men and women of @UPS are working overtime to maintain our supply chain and deliver medical supplies to those in need. Your work is critical to the health of our nation, keep it up!\n",
            "1241760294776561667 2020-03-22 16:14:59 UTC <realDonaldTrump> .@JBPritzker, Governor of Illinois, and a very small group of certain other Governors, together with Fake News @CNN & Concast (MSDNC), shouldn’t be blaming the Federal Government for their own shortcomings. We are there to back you up should you fail, and always will be!\n",
            "1241739447122776064 2020-03-22 14:52:09 UTC <realDonaldTrump> Working very well with States and our Nation’s Governors. #TEAMWORK\n",
            "1241738770640232448 2020-03-22 14:49:27 UTC <realDonaldTrump> Thank you to Fred Smith and @FedEx for the rapid emergency deliveries you are making all over our Nation. Keep it going!\n",
            "1241732681366482944 2020-03-22 14:25:16 UTC <realDonaldTrump> Ford, General Motors and Tesla are being given the go ahead to make ventilators and other metal products, FAST! @fema  Go for it auto execs, lets see how good you are? @RepMarkMeadows @GOPLeader @senatemajldr\n",
            "1241668853161168897 2020-03-22 10:11:38 UTC <realDonaldTrump> So true! https://twitter.com/Judgenap/status/1238183192168980482 …\n",
            "1241667793218678784 2020-03-22 10:07:25 UTC <realDonaldTrump> That doesn’t sound like Michael, does it? https://twitter.com/cvpayne/status/1241360249149370368 …\n",
            "1241666830311272448 2020-03-22 10:03:36 UTC <realDonaldTrump> Maria is Great! https://twitter.com/MariaBartiromo/status/1241399132541124612 …\n",
            "1241571999270555649 2020-03-22 03:46:46 UTC <realDonaldTrump> Thank you @JennPellegrino @OANN https://twitter.com/TeaBoots/status/1241437476172038145 …\n",
            "1241565139981262848 2020-03-22 03:19:31 UTC <realDonaldTrump> Thank you David, so true! https://twitter.com/DavidJHarrisJr/status/1241463929311842304 …\n",
            "1241563772134834178 2020-03-22 03:14:05 UTC <realDonaldTrump> Thank you! https://twitter.com/RyanAFournier/status/1241559670222921728 …\n",
            "1241558583193583617 2020-03-22 02:53:27 UTC <realDonaldTrump> CHINESE VIRUS FACT CHECK pic.twitter.com/qJugCylvE2\n",
            "1241367245143642113 2020-03-21 14:13:09 UTC <realDonaldTrump> ....be put in use IMMEDIATELY. PEOPLE ARE DYING, MOVE FAST, and GOD BLESS EVERYONE! @US_FDA @SteveFDA @CDCgov @DHSgov\n",
            "1241367239900778501 2020-03-21 14:13:08 UTC <realDonaldTrump> HYDROXYCHLOROQUINE & AZITHROMYCIN, taken together, have a real chance to be one of the biggest game changers in the history of medicine. The FDA has moved mountains - Thank You! Hopefully they will BOTH (H works better with A, International Journal of Antimicrobial Agents).....\n",
            "1241354162144784384 2020-03-21 13:21:10 UTC <realDonaldTrump> Great story. Thank you to Mr. Young of Jonesboro, Arkansas! https://twitter.com/Scavino45/status/1240838576641921024 …\n",
            "1241097732456099842 2020-03-20 20:22:12 UTC <realDonaldTrump> Today I spoke with our Nation’s Small Businesses, which employ nearly half of America’s workforce. We are taking the MOST aggressive action in history to deliver fast relief to your businesses and workers. We will always protect our Small Businesses! @SBAgov https://twitter.com/IvankaTrump/status/1241095451883065344 …\n",
            "1240860872949542912 2020-03-20 04:41:00 UTC <realDonaldTrump> A Great Guy! https://twitter.com/SenatorTimScott/status/1240042379748524033 …\n",
            "1240859940908138498 2020-03-20 04:37:18 UTC <realDonaldTrump> Steve is one of the very best in the Senate. He is competing against a failed Democrat Presidential candidate who never got close to 1%, and was sent packing. Had to be talked into this run by Schumer. Bad for 2nd A! I strongly Endorse @SteveDaines! https://twitter.com/SenateGOP/status/1240315121383231489 …\n",
            "1240765945968234496 2020-03-19 22:23:48 UTC <realDonaldTrump> America’s Private Sector is stepping up to help us be STRONG! Many of the Nation’s distillers, large and small, are producing and donating hand sanitizer to help fight #COVID19. THANK YOU! https://www.nbcnews.com/news/us-news/distilleries-using-high-proof-alcohol-make-hand-sanitizer-n1161371 …\n",
            "1240764105155391488 2020-03-19 22:16:29 UTC <realDonaldTrump> THANK YOU to our Police Officers, Fire Fighters, and EMS who help us defeat the Virus every day. Our proud nation is grateful for the unwavering dedication and sacrifice of our First Responders and their families. TOGETHER we will beat this!\n",
            "1240763308539510784 2020-03-19 22:13:19 UTC <realDonaldTrump> THANK YOU! #ThankATrucker https://twitter.com/TRUCKINGdotORG/status/1240448958343847936 …\n",
            "1240645364975271937 2020-03-19 14:24:39 UTC <realDonaldTrump> SOCIAL DISTANCING! pic.twitter.com/H2jR59wArx\n",
            "1240622747732127746 2020-03-19 12:54:47 UTC <realDonaldTrump> We are going to WIN, sooner rather than later!\n",
            "1240394725783416840 2020-03-18 21:48:42 UTC <realDonaldTrump> STRONG & UNITED, WE WILL PREVAIL! pic.twitter.com/T6UCyaPRIy\n",
            "1240391871026864130 2020-03-18 21:37:22 UTC <realDonaldTrump> I only signed the Defense Production Act to combat the Chinese Virus should we need to invoke it in a worst case scenario in the future. Hopefully there will be no need, but we are all in this TOGETHER!\n",
            "1240380132226928640 2020-03-18 20:50:43 UTC <realDonaldTrump> Thank you @HerschelWalker! https://twitter.com/HerschelWalker/status/1240317386059853825 …\n",
            "1240379840987115532 2020-03-18 20:49:33 UTC <realDonaldTrump> Today I spoke with American physicians and nurses to thank them for their tireless work. Doctors and nurses are at the front lines of this war and are true American HEROES! With their help, America will WIN.\n",
            "1240355986541613062 2020-03-18 19:14:46 UTC <realDonaldTrump> ...It cannot overcome the dedication of our doctors, nurses, and scientists — and it cannot beat the LOVE, PATRIOTISM, and DETERMINATION of our citizens. Strong and United, WE WILL PREVAIL!\n",
            "1240355985673392128 2020-03-18 19:14:46 UTC <realDonaldTrump> I want all Americans to understand: we are at war with an invisible enemy, but that enemy is no match for the spirit and resolve of the American people...\n",
            "1240347278453411843 2020-03-18 18:40:10 UTC <realDonaldTrump> 15 DAYS TO SLOW THE SPREAD! pic.twitter.com/ytgBP3hJv1\n",
            "1240303426254372864 2020-03-18 15:45:55 UTC <realDonaldTrump> Thank you to our great American businesses for going above and beyond to keep our most vulnerable citizens safe! https://twitter.com/TargetNews/status/1240026296375226369 …\n",
            "1240271178692005889 2020-03-18 13:37:46 UTC <realDonaldTrump> We will be, by mutual consent, temporarily closing our Northern Border with Canada to non-essential traffic. Trade will not be affected. Details to follow!\n",
            "1240269231410774016 2020-03-18 13:30:02 UTC <realDonaldTrump> ....Also, according to the Daily Caller, leading Sleepy Joe Biden in Florida, 48% to 42%.\n",
            "1240269212871995393 2020-03-18 13:29:58 UTC <realDonaldTrump> 95% Approval Rating in the Republican Party, 53% overall. Not bad considering I get nothing but Fake & Corrupt News, day and night. “Russia, Russia, Russia”, then “the Ukraine Scam (where’s the Whistleblower?)”, the “Impeachment Hoax”, and more, more, more....\n",
            "1240265729108303873 2020-03-18 13:16:07 UTC <realDonaldTrump> The DNC will have gotten their fondest wish and defeated Bernie Sanders, far ahead of schedule. Now they are doing everything possible to be nice to him in order to keep his supporters. Bernie has given up, just like he did last time. He will be dropping out soon! MAGA/KAG\n",
            "1240243188708839424 2020-03-18 11:46:33 UTC <realDonaldTrump> I always treated the Chinese Virus very seriously, and have done a very good job from the beginning, including my very early decision to close the “borders” from China - against the wishes of almost all. Many lives were saved. The Fake News new narrative is disgraceful & false!\n",
            "1240234698053431305 2020-03-18 11:12:49 UTC <realDonaldTrump> I will be having a news conference today to discuss very important news from the FDA concerning the Chinese Virus!\n",
            "1240229954044002304 2020-03-18 10:53:58 UTC <realDonaldTrump> I will totally protect your Medicare & Social Security!\n",
            "1240226752447873027 2020-03-18 10:41:14 UTC <realDonaldTrump> For the people that are now out of work because of the important and necessary containment policies, for instance the shutting down of hotels, bars and restaurants, money will soon be coming to you. The onslaught of the Chinese Virus is not your fault! Will be stronger than ever!\n",
            "1239997820242923521 2020-03-17 19:31:33 UTC <realDonaldTrump> The world is at war with a hidden enemy. WE WILL WIN!\n",
            "1239907845719691265 2020-03-17 13:34:01 UTC <realDonaldTrump> Federal Government is working very well with the Governors and State officials. Good things will happen! #KILLTHEVIRUS\n",
            "1239906156463652868 2020-03-17 13:27:18 UTC <realDonaldTrump> Failing  Michigan Governor must work harder and be much more proactive. We are pushing her to get the job done. I stand with Michigan!\n",
            "1239889767267008512 2020-03-17 12:22:11 UTC <realDonaldTrump> Cuomo wants “all states to be treated the same.” But all states aren’t the same. Some are being hit hard by the Chinese Virus, some are being hit practically not at all. New York is a very big “hotspot”, West Virginia has, thus far, zero cases. Andrew, keep politics out of it....\n",
            "1239755298811908096 2020-03-17 03:27:51 UTC <realDonaldTrump> The “Times” is a disgrace to journalism! https://twitter.com/MattWolking/status/1239716039518294016 …\n",
            "1239753277358686209 2020-03-17 03:19:49 UTC <realDonaldTrump> Great news Lindsey! https://twitter.com/LindseyGrahamSC/status/1239361193992732673 …\n",
            "1239685852093169664 2020-03-16 22:51:54 UTC <realDonaldTrump> The United States will be powerfully supporting those industries, like Airlines and others, that are particularly affected by the Chinese Virus. We will be stronger than ever before!\n",
            "1239650086491230209 2020-03-16 20:29:46 UTC <realDonaldTrump> I ask all Americans to band together and support your neighbors by not hoarding unnecessary amounts of food and essentials. TOGETHER we will stay STRONG and overcome this challenge!\n",
            "1239650018832891905 2020-03-16 20:29:30 UTC <realDonaldTrump> Yesterday I spoke with the great American Grocers and Supply Chain Executives. We are confident that supply will continue to meet demand nationwide. These beacons of our community will remain open for you, no matter what. We are working hard to remove any barriers to that effort!\n",
            "1239620630523322368 2020-03-16 18:32:44 UTC <realDonaldTrump> Just had a  very good tele-conference with Nation’s Governors. Went very well. Cuomo of New York has to “do more”.\n",
            "1239567267312152576 2020-03-16 15:00:41 UTC <realDonaldTrump> Everybody is so well unified and working so hard. It is a beautiful thing to see. They love our great Country. We will end up being stronger than ever before!\n",
            "1239532209427623936 2020-03-16 12:41:22 UTC <realDonaldTrump> God Bless the USA!\n",
            "1239383648018804739 2020-03-16 02:51:02 UTC <realDonaldTrump> I must say, that was a VERY boring debate. Biden lied when he said I want to cut Social Security and Medicare. That’s what they ALL said 4 years ago, and nothing happened, in fact, I saved Social Security and Medicare. I will not be cutting, but they will. Be careful!\n",
            "1239323762987851778 2020-03-15 22:53:05 UTC <realDonaldTrump> The individual Governors of States, and local officials, must step up their efforts on drive up testing and testing sights, working in conjunction with @CDCgov and the Federal Government!\n",
            "1239252169150410752 2020-03-15 18:08:35 UTC <realDonaldTrump> The Fake and Corrupt News never called Google. They said this was not true. Even in times such as these, they are not truthful. Watch for their apology, it won’t happen. More importantly, thank you to Google! https://twitter.com/Google_Comms/status/1238989156610707456 …\n",
            "1239242219019735042 2020-03-15 17:29:03 UTC <realDonaldTrump> So now it is reported that, after destroying his life & the life of his wonderful family (and many others also), the FBI, working in conjunction with the Justice Department, has “lost” the records of General Michael Flynn. How convenient. I am strongly considering a Full Pardon!\n",
            "1239237382458806277 2020-03-15 17:09:50 UTC <realDonaldTrump> Can’t believe they are not going after Schumer for the threats he made to our cherished United States Supreme Court, and our two great Justices. If a Republican did that, there would be an endless price to pay. Pathetic!\n",
            "1239235411463020544 2020-03-15 17:02:00 UTC <realDonaldTrump> ....The USA was never set up for this, just look at the catastrophe of the H1N1 Swine Flu (Biden in charge, 17,000 people lost, very late response time), but it soon will be. Great decision to close our China, and other, borders early. Saved many lives!\n",
            "1239235409491767298 2020-03-15 17:02:00 UTC <realDonaldTrump> There will be a News Conference by the CoronaVirus Task Force today at the White House, 5 P.M. @VP  We are working closely with the Governors of our Country’s great States, which are a very big factor. They are working hard, along with us, to get the job properly done.....\n",
            "1239228460863819778 2020-03-15 16:34:23 UTC <realDonaldTrump> We are doing very precise Medical Screenings at our airports. Pardon the interruptions and delays, we are moving as quickly as possible, but it is very important that we be vigilant and careful. We must get it right. Safety first!\n",
            "1239209878469644288 2020-03-15 15:20:33 UTC <realDonaldTrump> I am watching a great and beautiful service by Pastor Jentezen Franklin. Thank you! @Jentezen\n",
            "1239205277381132290 2020-03-15 15:02:16 UTC <realDonaldTrump> TODAY IS A NATIONAL DAY OF PRAYER. GOD BLESS EVERYONE!\n",
            "1239204333851488266 2020-03-15 14:58:31 UTC <realDonaldTrump> Great Job by Judicial Watch. Potentially a treasure trove. Too bad you are not given more help, but it will all work out! https://twitter.com/JudicialWatch/status/1238574680199573512 …\n",
            "1239202025029734400 2020-03-15 14:49:20 UTC <realDonaldTrump> This took place in the Rose Garden, just coming out of a cold Winter! https://twitter.com/Scavino45/status/1238565759980371969 …\n",
            "1239201055315025920 2020-03-15 14:45:29 UTC <realDonaldTrump> Amazing how the Fake News never covers this. No Interest on Student Loans. The Dems are just talk! https://twitter.com/Scavino45/status/1238652219479789568 …\n",
            "1239200405587976193 2020-03-15 14:42:54 UTC <realDonaldTrump> Thank you Sara. Keep writing, great talent! https://twitter.com/SaraCarterDC/status/1238571565308088321 …\n",
            "1239198573016817665 2020-03-15 14:35:37 UTC <realDonaldTrump> Thank you! https://twitter.com/kayleighmcenany/status/1238157200423563264 …\n",
            "1238964078640578560 2020-03-14 23:03:49 UTC <realDonaldTrump> Tomorrow I have called for a National Day of Prayer. I will be tuning in to Pastor @Jentezen at the @FreeChapel Church in Gainesville, Georgia at 11:00 AM EDT. God Bless the USA!  http://freechapel.org/live  https://twitter.com/Jentezen/status/1238804829654450178 …\n",
            "1238906131302494215 2020-03-14 19:13:34 UTC <realDonaldTrump> The @CDCgov has published guidelines on  http://CoronaVirus.gov  to enable every American to respond to this epidemic and to protect themselves, their families and their communities.\n",
            "1238904264908582914 2020-03-14 19:06:09 UTC <realDonaldTrump> Just had a nice conversation with Prime Minister @JustinTrudeau of Canada. Great to hear that his wonderful wife Sophie is doing very well. The United States and Canada will continue to coordinate closely together on COVID-19.\n",
            "1238886316013760519 2020-03-14 17:54:49 UTC <realDonaldTrump> COVID-19 UPDATE https://www.pscp.tv/w/cTvAJzFvTlFsTFJub1dwUXd8MVJER2xRd21WTmdKTOc-nPU0c8BOEFxYQyeHosPlsYvdfhg6NKCT5SlDVd4c?t=33s …\n",
            "1238880558052257794 2020-03-14 17:31:56 UTC <realDonaldTrump> THE UNITED STATES LOVES ITALY! pic.twitter.com/DESUJ4QM41\n",
            "1238860976176467969 2020-03-14 16:14:08 UTC <realDonaldTrump> Just finished a meeting on Covid-19 in the Situation Room, news conference coming up shortly.  https://twitter.com/realDonaldTrump/status/1238823680735612930 … pic.twitter.com/x9lSEXjnea\n",
            "1238856787824164865 2020-03-14 15:57:29 UTC <realDonaldTrump> News Conference at White House in 10 minutes.\n",
            "1238824050924883968 2020-03-14 13:47:24 UTC <realDonaldTrump> SOCIAL DISTANCING!\n",
            "1238823680735612930 2020-03-14 13:45:56 UTC <realDonaldTrump> Attending meetings on Covid-19 in the White House. Working with States and local governments, many of whom have done a great job. Full report latter!\n",
            "1238799084263260161 2020-03-14 12:08:12 UTC <realDonaldTrump> BIGGEST STOCK MARKET RISE IN HISTORY YESTERDAY!\n",
            "1238797759161008128 2020-03-14 12:02:56 UTC <realDonaldTrump> Larry, I am not surprised that Candace was great. I would only be surprised if she wasn’t great! https://twitter.com/larryelder/status/1238286804022775809 …\n",
            "1238791333252399104 2020-03-14 11:37:24 UTC <realDonaldTrump> Good teamwork between Republicans & Democrats as the House passes the big CoronaVirus Relief Bill. People really pulled together. Nice to see!\n",
            "1238637949530537985 2020-03-14 01:27:54 UTC <realDonaldTrump> To those families and citizens who are worried and concerned for themselves and their loved ones, I want you to know that your Federal Government will unleash every authority, resource and tool at its disposal to safeguard the lives and health of our people. pic.twitter.com/uVDY12vXAM\n",
            "1238626531510976512 2020-03-14 00:42:32 UTC <realDonaldTrump> ....the health and well-being of American families FIRST. Look forward to signing the final Bill, ASAP!\n",
            "1238626530361847810 2020-03-14 00:42:32 UTC <realDonaldTrump> ....the Secretary of the Treasury and the Secretary of Labor to issue regulations that will provide flexibility so that in no way will Small Businesses be hurt. I encourage all Republicans and Democrats to come together and VOTE YES! I will always put....\n",
            "1238626501555298308 2020-03-14 00:42:25 UTC <realDonaldTrump> I fully support H.R. 6201: Families First CoronaVirus Response Act, which will be voted on in the House this evening. This Bill will follow my direction for free CoronaVirus tests, and paid sick leave for our impacted American workers. I have directed....\n",
            "1238603402457812992 2020-03-13 23:10:37 UTC <realDonaldTrump> Americans are the strongest and most resilient people on earth...We will remove or eliminate every obstacle necessary to deliver our people the care that they need, and that they are entitled to. No resource will be spared. pic.twitter.com/gySUqewd4u\n",
            "1238599373417787394 2020-03-13 22:54:37 UTC <realDonaldTrump> ....No matter where you may be, I encourage you to turn towards prayer in an act of faith. Together, we will easily PREVAIL!\n",
            "1238599369466753026 2020-03-13 22:54:36 UTC <realDonaldTrump> It is my great honor to declare Sunday, March 15th as a National Day of Prayer. We are a Country that, throughout our history, has looked to God for protection and strength in times like these....\n",
            "1238590988593086464 2020-03-13 22:21:18 UTC <realDonaldTrump> At my request, effective midnight tonight, Carnival, Royal Caribbean, Norwegian, and MSC have all agreed to suspend outbound cruises for thirty days. It is a great and important industry – it will be kept that way!\n",
            "1238575476916006915 2020-03-13 21:19:39 UTC <realDonaldTrump> We will remove or eliminate every obstacle necessary to deliver our people the care they need. No resource will be spared! pic.twitter.com/KcDZ9YoXZE\n",
            "1238570595710836738 2020-03-13 21:00:16 UTC <realDonaldTrump> To unleash the full power of the Federal Government in this effort, today I am officially declaring a National Emergency. pic.twitter.com/yu2GBcxWD6\n",
            "1238478818135945216 2020-03-13 14:55:34 UTC <realDonaldTrump> I will be having a news conference today at 3:00 P.M., The White House. Topic: CoronaVirus!\n",
            "1238478167695863817 2020-03-13 14:52:59 UTC <realDonaldTrump> To this point, and because we have had a very strong border policy, we have had 40 deaths related to CoronaVirus. If we had weak or open borders, that number would be many times higher!\n",
            "1238460927328075778 2020-03-13 13:44:29 UTC <realDonaldTrump> The Federal Reserve must FINALLY lower the Fed Rate to something comparable to their competitor Central Banks. Jay Powell and group are putting us at a decided economic & physiological disadvantage. Should never have been this way. Also, STIMULATE!\n",
            "1238442385048305664 2020-03-13 12:30:48 UTC <realDonaldTrump> If you want to get money into the hands of people quickly & efficiently, let them have the full money that they earned, APPROVE A PAYROLL TAX CUT until the end of the year, December 31. Then you are doing something that is really meaningful. Only that will make a big difference!\n",
            "1238410051758575617 2020-03-13 10:22:19 UTC <realDonaldTrump> .... Their response to H1N1 Swine Flu was a full scale disaster, with thousands dying, and nothing meaningful done to fix the testing problem, until now. The changes have been made and testing will soon happen on a very large scale basis. All Red Tape has been cut, ready to go!\n",
            "1238410044263333894 2020-03-13 10:22:17 UTC <realDonaldTrump> For decades the @CDCgov looked at, and studied,  its testing system, but did nothing about it. It would always be inadequate and slow for a large scale pandemic, but a pandemic would never happen, they hoped. President Obama made changes that only complicated things further.....\n",
            "1238292145242603522 2020-03-13 02:33:48 UTC <realDonaldTrump> “The Obama White House had to immediately issue an apology for Joe Biden’s remarks, and any alarm that he might have caused, an alarm about a Swine Flu outbreak that took 6 months for President Obama to declare a National Emergency, and that killed 12,000 Americans.” @LouDobbs\n",
            "1238288908431036423 2020-03-13 02:20:56 UTC <realDonaldTrump> Sleepy Joe Biden was in charge of the H1N1 Swine Flu epidemic which killed thousands of people. The response was one of the worst on record. Our response is one of the best, with fast action of border closings & a 78% Approval Rating, the highest on record. His was lowest!\n",
            "1238283146350809088 2020-03-13 01:58:02 UTC <realDonaldTrump> Just had a great conversation with Prime Minister Abe of Japan. I told him that the just completed Olympic venue is magnificent. He has done an incredible job, one that will make him very proud. Good things will happen for Japan and their great Prime Minister. Lots of options!\n",
            "1238193633825882113 2020-03-12 20:02:21 UTC <realDonaldTrump> 108 countries are dealing with the CoronaVirus problem, some of which we are helping!\n",
            "1238163357049511937 2020-03-12 18:02:02 UTC <realDonaldTrump> KEEPING THE WORKPLACE SAFE, ENCOURAGE YOUR EMPLOYEES TO.... pic.twitter.com/Fgt0HTv2KU\n",
            "1238163344902799364 2020-03-12 18:02:00 UTC <realDonaldTrump> KEEPING COMMERCIAL ESTABLISHMENTS SAFE, ENCOURAGE YOUR EMPLOYEES AND CUSTOMERS TO.... pic.twitter.com/Fxx6DlHmPf\n",
            "1238163334412881920 2020-03-12 18:01:57 UTC <realDonaldTrump> KEEPING THE SCHOOL SAFE, ENCOURAGE YOUR FACULTY, STAFF, AND STUDENTS TO.... pic.twitter.com/mfLgNN3b19\n",
            "1238163326372364289 2020-03-12 18:01:55 UTC <realDonaldTrump> KEEPING THE HOME SAFE, ENCOURAGE YOUR FAMILY MEMBERS TO.... pic.twitter.com/2hUQuUvGQb\n",
            "1238113667754995712 2020-03-12 14:44:36 UTC <realDonaldTrump> Many Republican Senators want me to Veto the FISA Bill until we find out what led to, and happened with, the illegal attempted “coup” of the duly elected President of the United States, and others!\n",
            "1238046001744826369 2020-03-12 10:15:43 UTC <realDonaldTrump> “Nancy Pelosi all of a sudden doesn’t like the payroll tax cut, but when Obama proposed it she thought it was a brilliant thing that all of the working families would benefit from because if you get a paycheck, you’re going to take home more money.” @kilmeade @foxandfriends\n",
            "1237924658185469954 2020-03-12 02:13:32 UTC <realDonaldTrump> Hoping to get the payroll tax cut approved by both Republicans and Democrats, and please remember, very important for all countries & businesses to know that trade will in no way be affected by the 30-day restriction on travel from Europe. The restriction stops people not goods.\n",
            "1237861968721010689 2020-03-11 22:04:26 UTC <realDonaldTrump> The Media should view this as a time of unity and strength. We have a common enemy, actually, an enemy of the World, the CoronaVirus. We must beat it as quickly and safely as possible. There is nothing more important to me than the life & safety of the United States!\n",
            "1237841878889840642 2020-03-11 20:44:36 UTC <realDonaldTrump> I will be addressing the Nation this evening at 9:00 P.M. (Eastern) from the Oval Office.\n",
            "1237820230296010752 2020-03-11 19:18:35 UTC <realDonaldTrump> I am fully prepared to use the full power of the Federal Government to deal with our current challenge of the CoronaVirus!\n",
            "1237820044198977536 2020-03-11 19:17:50 UTC <realDonaldTrump> ....We have the greatest healthcare system, experts, scientists and doctors anywhere in the world. Together, we will PREVAIL!\n",
            "1237820042735226887 2020-03-11 19:17:50 UTC <realDonaldTrump> I want to thank all of our Great Government officials on the CoronaVirus Task Force who are working around the clock, in response to the CoronaVirus. Continue to check  http://CDC.gov  for updates, and follow all recommendations that are available....\n",
            "1237813728558678026 2020-03-11 18:52:45 UTC <realDonaldTrump> ....Together we are putting into policy a plan to prevent, detect, treat and create a vaccine against CoronaVirus to save lives in America and the world. America will get it done!\n",
            "1237813727409229824 2020-03-11 18:52:44 UTC <realDonaldTrump> America is the Greatest Country in the world. We have the best scientists, doctors, nurses and health care professionals. They are amazing people who do phenomenal things every day....\n",
            "1237813081394348034 2020-03-11 18:50:10 UTC <realDonaldTrump> Someone needs to tell the Democrats in Congress that CoronaVirus doesn’t care what party you are in. We need to protect ALL Americans!\n",
            "1237745593876873217 2020-03-11 14:22:00 UTC <realDonaldTrump> Vanity Fair Magazine, which will soon be out of business, and their third rate Fake reporters, who make up sources which don’t exist, wrote yet another phony & boring hit piece. The facts are just the opposite. Our team is doing a great job with CoronaVirus!\n",
            "1237742116564013056 2020-03-11 14:08:11 UTC <realDonaldTrump> Thank you Gavin. Team is doing a great job! https://twitter.com/TeamTrump/status/1237523131041861632 …\n",
            "1237612361353007104 2020-03-11 05:32:35 UTC <realDonaldTrump> THANK YOU IDAHO! #KAG2020 pic.twitter.com/aNhwiYsx96\n",
            "1237603152490147850 2020-03-11 04:55:59 UTC <realDonaldTrump> Pocahontas, working in conjunction with the Democrat Party, totally destroyed the campaign of Bernie Sanders. If she would have quit 3 days earlier, Sanders would have beaten Biden in a route, it wouldn’t even have been close. They also got two other losers to support Sleepy Joe!\n",
            "1237581053373497344 2020-03-11 03:28:10 UTC <realDonaldTrump> THANK YOU WASHINGTON! #KAG2020 pic.twitter.com/h04VbW71TH\n",
            "1237580932472692736 2020-03-11 03:27:42 UTC <realDonaldTrump> THANK YOU NORTH DAKOTA! #KAG2020 pic.twitter.com/fOPyY03iyh\n",
            "1237557412048986120 2020-03-11 01:54:14 UTC <realDonaldTrump> ....(which is under siege), is strong on Crime and the Border, and truly LOVES our Military and our Vets. He will be a great Senator for the people of Alabama. Coach Tommy Tuberville, a winner, has my Complete and Total Endorsement. I love Alabama!\n",
            "1237557409943416834 2020-03-11 01:54:13 UTC <realDonaldTrump> Tommy Tuberville (@TTuberville) is running for the U.S. Senate from the Great State of Alabama. Tommy was a terrific head football coach at Auburn University. He is a REAL LEADER who will never let MAGA/KAG, or our Country, down! Tommy will protect your Second Amendment....\n",
            "1237545548430770178 2020-03-11 01:07:05 UTC <realDonaldTrump> THANK YOU MICHIGAN! #KAG2020 pic.twitter.com/9Ibuma0JfP\n",
            "1237542616813539328 2020-03-11 00:55:26 UTC <realDonaldTrump> THANK YOU MISSOURI! #KAG2020 pic.twitter.com/FH7NcIPqDp\n",
            "1237541916398325761 2020-03-11 00:52:39 UTC <realDonaldTrump> THANK YOU MISSISSIPPI! #KAG2020 pic.twitter.com/r4DRnssHya\n",
            "1237498359134466051 2020-03-10 21:59:35 UTC <realDonaldTrump> Best unemployment numbers in the history of our Country. Best employment number EVER, almost 160 million people working right now. Vote Republican, unless you want to see these numbers obliterated!\n",
            "1237491395436240897 2020-03-10 21:31:54 UTC <realDonaldTrump> If you like automobiles, how can you vote for a Democrat who all want to get rid of cars, as quickly as possible, especially if they are powered by gasoline. Remember also, no more than one car per family. I, on the other hand, have new plants being built all over Michigan, Plus!\n",
            "1237448419284783105 2020-03-10 18:41:08 UTC <realDonaldTrump> Great meeting on Capitol Hill with the @SenateGOP! pic.twitter.com/eNB8zMRCup\n",
            "1237419080707170311 2020-03-10 16:44:33 UTC <realDonaldTrump> Thank you @SenateGOP! pic.twitter.com/XysOvXbTMF\n",
            "1237389825520648192 2020-03-10 14:48:18 UTC <realDonaldTrump> Ronald Reagan’s great economist, the recipient of the Presidential Medal of Freedom, has just said great things about a Payroll Tax Cut!\n",
            "1237388788776800256 2020-03-10 14:44:11 UTC <realDonaldTrump> Our CoronaVirus Team has been doing a great job. Even Democrat governors have been VERY complimentary!\n",
            "1237388340778782725 2020-03-10 14:42:24 UTC <realDonaldTrump> Nancy Pelosi just said, “I don’t know if we can be ready this week.” In other words, it’s off to vacation for the Do Nothing Democrats. That’s been the story with them for 1 1/2 years!\n",
            "1237384954004340738 2020-03-10 14:28:57 UTC <realDonaldTrump> There is another Russia, Russia, Russia meeting today. It is headed up by corrupt politician Adam “Shifty” Schiff, so I wouldn’t expect too much! @DHS_Wolf\n",
            "1237378225417961472 2020-03-10 14:02:12 UTC <realDonaldTrump> The Federal Reserve must be a leader, not a very late follower, which it has been!\n",
            "1237377697917140992 2020-03-10 14:00:07 UTC <realDonaldTrump> Our pathetic, slow moving Federal Reserve, headed by Jay Powell, who raised rates too fast and lowered too late, should get our Fed Rate down to the levels of our competitor nations. They now have as much as a two point advantage, with even bigger currency help. Also, stimulate!\n",
            "1237374729545228288 2020-03-10 13:48:19 UTC <realDonaldTrump> Well deserved Jack. A great honor! https://twitter.com/gen_jackkeane/status/1235573950169653249 …\n",
            "1237374208314834946 2020-03-10 13:46:15 UTC <realDonaldTrump> True, with number 1 being more important! https://twitter.com/josedeynes/status/1236889209434255360 …\n",
            "1237368448533004288 2020-03-10 13:23:21 UTC <realDonaldTrump> Going to be a BAD day for Crazy Bernie!\n",
            "1237341582145105920 2020-03-10 11:36:36 UTC <realDonaldTrump> Polls say they BOTH lose to “Trump”. https://twitter.com/brooklynnygirl/status/1237313865144123398 …\n",
            "1237340894610759680 2020-03-10 11:33:52 UTC <realDonaldTrump> Wow! @foxandfriends blew away the competition of Morning Joke (which did very poorly) on MSDNC (Another Comcast sleaze production), and @CNN’s New Day, in the Morning Television Ratings. A total blowout, but that’s what you get when you treat “Trump” fairly!\n",
            "1237334397172490240 2020-03-10 11:08:03 UTC <realDonaldTrump> Going up fast. We need the Wall more than ever! https://twitter.com/charliekirk11/status/1237306970429775872 …\n",
            "1237239192222158848 2020-03-10 04:49:44 UTC <realDonaldTrump> Fake News!! https://twitter.com/bennyjohnson/status/1237155509121298432 …\n",
            "1237236320935849985 2020-03-10 04:38:20 UTC <realDonaldTrump> Oklahoma, Vote for your GREAT Senator Today. Nobody better than Jim! https://twitter.com/realDonaldTrump/status/1237130072571731968 …\n",
            "1237130072571731968 2020-03-09 21:36:08 UTC <realDonaldTrump> THANK YOU, Jim, for your incredible support of our #MAGA Agenda! You are a tremendous Senator for the people of the Great State of Oklahoma and you have my Complete and Total Endorsement! https://twitter.com/inhofeforsenate/status/1235612591319220224 …\n",
            "1237129690877476864 2020-03-09 21:34:37 UTC <realDonaldTrump> Congressman @StevenPalazzo is doing a fantastic job for the people of Mississippi. He strongly supports our #MAGA Agenda. Steven will continue to protect your #2A, & Support our INCREDIBLE Vets & Military. Steven has my Complete Endorsement. VOTE for Steven tomorrow, March 10th!\n",
            "1237128422712905738 2020-03-09 21:29:35 UTC <realDonaldTrump> Congressman Michael Guest (@GuestCongress) is an incredible fighter for the Great State of Mississippi. Michael is strong on Crime and the Border, he loves our Military and Vets. Michael has my Complete and Total Endorsement! Get out and Vote for Michael tomorrow, March 10th!\n",
            "1237027356314869761 2020-03-09 14:47:59 UTC <realDonaldTrump> So last year 37,000 Americans died from the common Flu. It averages between 27,000 and 70,000 per year. Nothing is shut down, life & the economy go on. At this moment there are 546 confirmed cases of CoronaVirus, with 22 deaths. Think about that!\n",
            "1237024551294382081 2020-03-09 14:36:50 UTC <realDonaldTrump> Saudi Arabia and Russia are arguing over the price and flow of oil. That, and the Fake News, is the reason for the market drop!\n",
            "1237024549046288385 2020-03-09 14:36:49 UTC <realDonaldTrump> Good for the consumer, gasoline prices coming down!\n",
            "1237004509156642816 2020-03-09 13:17:12 UTC <realDonaldTrump> So much FAKE NEWS!\n",
            "1237004230847868929 2020-03-09 13:16:05 UTC <realDonaldTrump> The BEST decision made was the toughest of them all - which saved many lives. Our VERY early decision to stop travel to and from certain parts of the world!\n",
            "1237003145743605761 2020-03-09 13:11:47 UTC <realDonaldTrump> Great job being done by the @VP and the CoronaVirus Task Force. Thank you!\n",
            "1236980284744241154 2020-03-09 11:40:56 UTC <realDonaldTrump> The Obama/Biden Administration is the most corrupt Administration in the history of our Country!\n",
            "1236979946175725568 2020-03-09 11:39:35 UTC <realDonaldTrump> “Trump has outmastered the Deep State. He’s light years ahead of us.” MSDNC. I disagree. We have a long way to go. There are still some very bad, sick people in our government - people who do not love our Country (In fact, they hate our Country!).\n",
            "1236978443042148352 2020-03-09 11:33:37 UTC <realDonaldTrump> Now the Democrats are trying to smear Bernie with Russia, Russia, Russia. They are driving him Crazy!\n",
            "1236977607062761472 2020-03-09 11:30:18 UTC <realDonaldTrump> Elizabeth “Pocahontas” Warren singlehandedly destroyed the Bernie Sanders campaign by stripping voters away from his count on Super T. He lost states that he easily would have won if she had dropped out 3 days earlier. The DNC is doing it to Bernie again! Will he ever get angry?\n",
            "1236976241305169921 2020-03-09 11:24:52 UTC <realDonaldTrump> Cryin’ Chuck Schumer said, “You will pay the price for this. You won’t know what HIT YOU.” That is far beyond simple rhetoric. That is a physical threat, or at least a threat that you better vote for us.” Trouble ahead!\n",
            "1236975196642390022 2020-03-09 11:20:43 UTC <realDonaldTrump> The Fake News Media and their partner, the Democrat Party, is doing everything within its semi-considerable power (it used to be greater!) to inflame the CoronaVirus situation, far beyond what the facts would warrant. Surgeon General, “The risk is low to the average American.”\n",
            "1236972698313666565 2020-03-09 11:10:47 UTC <realDonaldTrump> A great book, support Charlie, BUY IT!  Already Number One. https://twitter.com/charliekirk11/status/1225159300089143296 …\n",
            "1236959207917858819 2020-03-09 10:17:11 UTC <realDonaldTrump> Working hard Lori! https://twitter.com/Lrihendry/status/1236889583926771712 …\n",
            "1236885723946631173 2020-03-09 05:25:11 UTC <realDonaldTrump> There are no mixed messages, only political weaponization by people like you and your brother, Fredo! https://twitter.com/MSNBC/status/1236579191900037120 …\n",
            "1236778368533700609 2020-03-08 22:18:35 UTC <realDonaldTrump> Who knows what this means, but it sounds good to me! https://twitter.com/DanScavino/status/1236519422917062656 …\n",
            "1236689044366557184 2020-03-08 16:23:39 UTC <realDonaldTrump> The New York Times is an embarrassment to journalism. They were a dead paper before I went into politics, and they will be a dead paper after I leave, which will be in 5 years. Fake News is the Enemy of the people!\n",
            "1236634209516752896 2020-03-08 12:45:45 UTC <realDonaldTrump> We have a perfectly coordinated and fine tuned plan at the White House for our attack on CoronaVirus. We moved VERY early to close borders to certain areas, which was a Godsend. V.P. is doing a great job. The Fake News Media is doing everything possible to make us look bad. Sad!\n",
            "1236523073689567234 2020-03-08 05:24:08 UTC <realDonaldTrump> Thank you @SenatorTimScott! pic.twitter.com/7Sp0mj1AL0\n",
            "1236512502210613249 2020-03-08 04:42:08 UTC <realDonaldTrump> .....least 5 States & the Nomination. Did the DNC & Dems tell Elizabeth Warren to wait? If so, they were deadly, the race would have been over, & Bernie would have won. Dirty double dealing? Nobody knows for sure, & history will be the judge. But I say, here we go AGAIN, Bernie!\n",
            "1236512499563999234 2020-03-08 04:42:07 UTC <realDonaldTrump> We have now learned for sure that the Democrats don’t want anything to do with Crazy Bernie. Rigged? First @amyklobuchar & @PeteButtigieg quit the race & come out for Sleepy Joe BEFORE Super Tuesday. Pocahontas says NO & quits race AFTER ELECTION, thereby depriving Bernie of at..\n",
            "1236501057192316928 2020-03-08 03:56:39 UTC <realDonaldTrump> I agree with Joe! https://twitter.com/DanScavino/status/1236461268594294785 …\n",
            "1236498759670009857 2020-03-08 03:47:31 UTC <realDonaldTrump> Thank you to the Great State of Tennessee. We are with you all the way! https://twitter.com/DanScavino/status/1236356583048822784 …\n",
            "1236135907201294336 2020-03-07 03:45:41 UTC <realDonaldTrump> Thank you @GovBillLee and @MariaLeeTN. My Administration will always be there for the Great People of Tennessee. Together, we will prevail!  https://twitter.com/MariaLeeTN/status/1236052152398876672 … pic.twitter.com/SqvRzbw3TL\n",
            "1236096307858681857 2020-03-07 01:08:20 UTC <realDonaldTrump> ....I want to thank Acting Chief Mick Mulvaney for having served the Administration so well. He will become the United States Special Envoy for Northern Ireland. Thank you!\n",
            "1236096307103707136 2020-03-07 01:08:19 UTC <realDonaldTrump> I am pleased to announce that Congressman Mark Meadows will become White House Chief of Staff. I have long known and worked with Mark, and the relationship is a very good one....\n",
            "1236083901673570304 2020-03-07 00:19:02 UTC <realDonaldTrump> Congratulations to @FoxNews! https://www.foxnews.com/media/trump-fox-news-town-hall-most-watched-cable-history …\n",
            "1236038573087961088 2020-03-06 21:18:54 UTC <realDonaldTrump> Thank you @GovBillLee. We are a phone call away, and here for you! https://twitter.com/GovBillLee/status/1236018997184860160 …\n",
            "1236033562425659396 2020-03-06 20:59:00 UTC <realDonaldTrump> My Administration is with you all of the way, Tennessee. We love you! https://www.foxnews.com/politics/trump-to-visit-tennessee-tornadoes …\n",
            "1235955288064135168 2020-03-06 15:47:58 UTC <realDonaldTrump> Spoke to Governor @GavinNewsom early this morning about the cruise ship quarantined off the California Coast. CoronaVirus test kits have been delivered, testing is taking place now. pic.twitter.com/Pqda00HVCC\n",
            "1235952805581447173 2020-03-06 15:38:06 UTC <realDonaldTrump> It is FAKE NEWS that @HHSGov @SecAzar is “sidelined” from the great job he is doing on the CoronaVirus Task Force. He has the total confidence of the @VP and myself, and is doing a fantastic job, as the numbers would indicate!\n",
            "1235945259370041344 2020-03-06 15:08:07 UTC <realDonaldTrump> I will protect your Social Security and Medicare, just as I have for the past 3 years. Sleepy Joe Biden will destroy both in very short order, and he won’t even know he’s doing it!\n",
            "1235933477092159489 2020-03-06 14:21:18 UTC <realDonaldTrump> JOBS, JOBS, JOBS!!! https://www.cnbc.com/2020/03/06/us-jobs-report-february-2020.html …\n",
            "1235797615041753088 2020-03-06 05:21:26 UTC <realDonaldTrump> Thanks Linda, but they were really good last night! https://twitter.com/LindaSuhler/status/1235720698527502338 …\n",
            "1235796153981075456 2020-03-06 05:15:37 UTC <realDonaldTrump> Thank you! https://twitter.com/CompoundBoss/status/1235720954258604032 …\n",
            "1235774524295131136 2020-03-06 03:49:40 UTC <realDonaldTrump> My great honor! https://twitter.com/DonaldJTrumpJr/status/1234878513993224192 …\n",
            "1235770412275032064 2020-03-06 03:33:20 UTC <realDonaldTrump> Thank you Audrey! pic.twitter.com/2bhoVVoV6r\n",
            "1235768913692065792 2020-03-06 03:27:23 UTC <realDonaldTrump> The WALL is well under construction. So far we’re up to 129 miles, and by early next year we will have 500 miles completed! pic.twitter.com/bXxOnoU4WM\n",
            "1235766710038298625 2020-03-06 03:18:37 UTC <realDonaldTrump> We have appointed 220 Federal Judges and two Supreme Court Justices. PROMISES MADE, PROMISES KEPT! pic.twitter.com/fVw6tJ89Wd\n",
            "1235765896934821894 2020-03-06 03:15:23 UTC <realDonaldTrump> Thank you David, a lifelong Democrat from Pennsylvania. We will continue MAKING AMERICA GREAT AGAIN and then, KEEP AMERICA GREAT!!!! pic.twitter.com/hvVfB5cPrG\n",
            "1235748252185739264 2020-03-06 02:05:17 UTC <realDonaldTrump> Thank you Scranton, Pennsylvania. It was a great evening! pic.twitter.com/EtzRLoEZHs\n",
            "1235746729770848256 2020-03-06 01:59:14 UTC <realDonaldTrump> Tonight’s Fox News Town Hall with @MarthaMacCallum and @BretBaier will rebroadcast at 11:00 P.M. Eastern on @FoxNews. Enjoy!\n",
            "1235665981709709319 2020-03-05 20:38:22 UTC <realDonaldTrump> Thank you Nan! https://twitter.com/DanScavino/status/1235401450970402817 …\n",
            "1235665090432708608 2020-03-05 20:34:49 UTC <realDonaldTrump> Gallup just gave us the highest rating ever for the way we are handling the CoronaVirus situation. The April 2009-10 Swine Flu, where nearly 13,000 people died in the U.S., was poorly handled. Ask MSDNC & lightweight Washington failure @RonaldKlain, who the President was then?\n",
            "1235641895772139523 2020-03-05 19:02:39 UTC <realDonaldTrump> The Department of Education is NOT closing hundreds of schools in rural areas of our Country. This is just more Fake News. We are investing greatly in our schools, and always will!\n",
            "1235633381595066373 2020-03-05 18:28:49 UTC <realDonaldTrump> Mini Mike, you’re easy!  pic.twitter.com/rxFiqSB9RQ  https://twitter.com/MikeBloomberg/status/1235232463045177344 …\n",
            "1235604572850343937 2020-03-05 16:34:21 UTC <realDonaldTrump> With approximately 100,000 CoronaVirus cases worldwide, and 3,280 deaths, the United States, because of quick action on closing our borders, has, as of now, only 129 cases (40 Americans brought in) and 11 deaths. We are working very hard to keep these numbers as low as possible!\n",
            "1235601483367923718 2020-03-05 16:22:04 UTC <realDonaldTrump> “Joe Biden represents the past. President Trump represents the future.” @LisaMarieBoothe @edhenry @FoxNews\n",
            "1235598653114511360 2020-03-05 16:10:49 UTC <realDonaldTrump> Elizabeth “Pocahontas” Warren, who was going nowhere except into Mini Mike’s head, just dropped out of the Democrat Primary...THREE DAYS TOO LATE. She cost Crazy Bernie, at least, Massachusetts, Minnesota and Texas. Probably cost him the nomination! Came in third in Mass.\n",
            "1235596612099084288 2020-03-05 16:02:43 UTC <realDonaldTrump> .@GOPLeader Kevin McCarthy informed me that I was 20 for 20 on Tuesday with respect to my Endorsement of candidates. Sadly, I didn’t get that information from the Fake News Media. They don’t report those things, or the far more than Dems cumulative votes, despite no opposition!\n",
            "1235594306297253889 2020-03-05 15:53:33 UTC <realDonaldTrump> “I want to commend the President for how he has handled the CoronaVirus situation, especially his early decision to shut down access into our Country from China, despite strong opposition to that decision.” @SenTomCotton Thank you Tom!\n",
            "1235588587690676224 2020-03-05 15:30:50 UTC <realDonaldTrump> Schumer has brought great danger to the steps of the United States Supreme Court!\n",
            "1235573492004904961 2020-03-05 14:30:50 UTC <realDonaldTrump> I NEVER said people that are feeling sick should go to work. This is just more Fake News and disinformation put out by the Democrats, in particular MSDNC. Comcast covers the CoronaVirus situation horribly, only looking to do harm to the incredible & successful effort being made!\n",
            "1235568602696355840 2020-03-05 14:11:25 UTC <realDonaldTrump> As per recent Federal Court ruling, the Federal Government will be withholding funds from Sanctuary Cities. They should change their status and go non-Sanctuary. Do not protect criminals!\n",
            "1235385447813197831 2020-03-05 02:03:37 UTC <realDonaldTrump> I will be interviewed by @seanhannity on @FoxNews at 9:10 P.M.\n",
            "1235375346494644224 2020-03-05 01:23:29 UTC <realDonaldTrump> Retired Four Star General Jack Keane will receive the PRESIDENTIAL MEDAL OF FREEDOM next week!\n",
            "1235370217712300038 2020-03-05 01:03:06 UTC <realDonaldTrump> There can be few things worse in a civilized, law abiding nation, than a United States Senator openly, and for all to see and hear, threatening the Supreme Court or its Justices. This is what Chuck Schumer just did. He must pay a severe price for this!\n",
            "1235359627082117120 2020-03-05 00:21:01 UTC <realDonaldTrump> This is a direct & dangerous threat to the U.S. Supreme Court by Schumer. If a Republican did this, he or she would be arrested, or impeached. Serious action MUST be taken NOW! https://twitter.com/Jim_Jordan/status/1235306945864663044 …\n",
            "1235351764737675264 2020-03-04 23:49:47 UTC <realDonaldTrump> Thank you, keep up the great work! https://twitter.com/NIHDirector/status/1235200651728220160 …\n",
            "1235351025349013505 2020-03-04 23:46:50 UTC <realDonaldTrump> Congress has agreed to provide $8 Billion to fight Coronavirus! This means @CDCgov, @HHSGov, and @DHSgov will have the resources they need to Keep America Safe and keep the risk to workers and families very low. This is great news for our Health, our Economy, and our Nation!\n",
            "1235350184982388737 2020-03-04 23:43:30 UTC <realDonaldTrump> Will be interviewed by @SeanHannity tonight at 9:00 P.M. Eastern on @FoxNews. Enjoy!\n",
            "1235295497008672769 2020-03-04 20:06:11 UTC <realDonaldTrump> Pandering Mini Mike Bloomberg, along with his wacky friend, Tom Steyer, have found out the hard way that you can’t buy the election! They both wish they had it to do over again!\n",
            "1235286435697233925 2020-03-04 19:30:11 UTC <realDonaldTrump> Today, it was my great honor to address the @LatinoCoalition Legislative Summit. With the hard work, love & devotion of millions of incredible Hispanic-Americans, our Country is thriving, our people are prospering, and our future has never looked brighter! https://www.pscp.tv/w/cS6ngDFvTlFsTFJub1dwUXd8MVlwS2tRTWxyUXdKaiBXf8w7xXjWW0N-jDBSOzrjgRF-QSpw3rVdtZxaHl9d?t=1s …\n",
            "1235235070040059904 2020-03-04 16:06:04 UTC <realDonaldTrump> Mini Mike, “Three months ago I entered the race for President to defeat Donald Trump, (and I failed miserably!).\n",
            "1235232818692792320 2020-03-04 15:57:08 UTC <realDonaldTrump> Mini Mike Bloomberg will now FIRE Tim O’Brien, and all of the fools and truly dumb people who got him into this MESS. This has been the worst, and most embarrassing, experience of his life...and now on to Sleepy Joe!\n",
            "1235228511314620416 2020-03-04 15:40:01 UTC <realDonaldTrump> Mini Mike Bloomberg just “quit” the race for President. I could have told him long ago that he didn’t have what it takes, and he would have saved himself a billion dollars, the real cost. Now he will pour money into Sleepy Joe’s campaign, hoping to save face. It won’t work!\n",
            "1235226619528335369 2020-03-04 15:32:30 UTC <realDonaldTrump> The Mayor of Los Angeles, @ericgarcetti, is dealing with us trying to get the Federal Government to fix the terrible problem he and the Dems have caused with the homeless, and the horrendous effects it is having on the City, which is a mess. I then watch him talk “trash” on me!\n",
            "1235223911538872323 2020-03-04 15:21:44 UTC <realDonaldTrump> Wow! If Elizabeth Warren wasn’t in the race, Bernie Sanders would have EASILY won Massachusetts, Minnesota and Texas, not to mention various other states. Our modern day Pocahontas won’t go down in history as a winner, but she may very well go down as the all time great SPOILER!\n",
            "1235217440285560835 2020-03-04 14:56:01 UTC <realDonaldTrump> The great people of Montana can have no better VOICE than Senator @SteveDaines. He is doing an incredible job! Whoever the Democrat nominee may be, please understand that I will be working hard with Steve all the way, & last night I was 20 for 20 (per @GOPLeader). WE NEED STEVE!\n",
            "1235208558666543104 2020-03-04 14:20:44 UTC <realDonaldTrump> I will be going to the Great State of Tennessee on Friday. The USA stands with the people of Tennessee 100%, whatever they need! The tornadoes were of record size & velocity. God bless your loved ones & all of the families affected! Thanks to @GovBillLee & @MarshaBlackburn\n",
            "1235185319257006080 2020-03-04 12:48:23 UTC <realDonaldTrump> MAKE AMERICA GREAT AGAIN and then, KEEP AMERICA GREAT!!!!\n",
            "1235181043881299969 2020-03-04 12:31:24 UTC <realDonaldTrump> This is what happens to someone who loyally gets appointed Attorney General of the United States & then doesn’t have the wisdom or courage to stare down & end the phony Russia Witch Hunt. Recuses himself on FIRST DAY in office, and the Mueller Scam begins! https://twitter.com/politico/status/1235056416995586048 …\n",
            "1235176283740524546 2020-03-04 12:12:29 UTC <realDonaldTrump> So selfish for Elizabeth Warren to stay in the race. She has Zero chance of even coming close to winning, but hurts Bernie badly. So much for their wonderful liberal friendship. Will he ever speak to her again? She cost him Massachusetts (and came in third), he shouldn’t!\n",
            "1235171235505598465 2020-03-04 11:52:25 UTC <realDonaldTrump> The Democrat establishment came together and crushed Bernie Sanders, AGAIN! Even the fact that Elizabeth Warren stayed in the race was devastating to Bernie and allowed Sleepy Joe to unthinkably win Massachusetts. It was a perfect storm, with many good states remaining for Joe!\n",
            "1235082320161325057 2020-03-04 05:59:06 UTC <realDonaldTrump> THANK YOU CALIFORNIA! #KAG2020 pic.twitter.com/7BrkAKYWU0\n",
            "1235082200690745344 2020-03-04 05:58:38 UTC <realDonaldTrump> THANK YOU UTAH! #KAG2020 pic.twitter.com/LrCvXgmp3X\n",
            "1235047203464286208 2020-03-04 03:39:34 UTC <realDonaldTrump> But they really knew who was going to win! https://twitter.com/bopinion/status/1234901070180212736 …\n",
            "1235046124328755200 2020-03-04 03:35:16 UTC <realDonaldTrump> Elizabeth “Pocahontas” Warren, other than Mini Mike, was the loser of the night. She didn’t even come close to winning her home state of Massachusetts. Well, now she can just sit back with her husband and have a nice cold beer!\n",
            "1235043280846381058 2020-03-04 03:23:58 UTC <realDonaldTrump> The biggest loser tonight, by far, is Mini Mike Bloomberg. His “political” consultants took him for a ride. $700 million washed down the drain, and he got nothing for it but the nickname Mini Mike, and the complete destruction of his reputation. Way to go Mike!\n",
            "1235040164461699072 2020-03-04 03:11:35 UTC <realDonaldTrump> THANK YOU ARKANSAS! #KAG2020 pic.twitter.com/X3XqvrVZoe\n",
            "1235040011197837312 2020-03-04 03:10:59 UTC <realDonaldTrump> THANK YOU MINNESOTA! #KAG2020 pic.twitter.com/gX4qWdbJHF\n",
            "1235034836705959936 2020-03-04 02:50:25 UTC <realDonaldTrump> THANK YOU COLORADO! #KAG2020 pic.twitter.com/HUIkHc7hIW\n",
            "1235023845477601280 2020-03-04 02:06:45 UTC <realDonaldTrump> THANK YOU TEXAS! #KAG2020 pic.twitter.com/UujGu4eUNJ\n",
            "1235017324006125569 2020-03-04 01:40:50 UTC <realDonaldTrump> THANK YOU MAINE! #KAG2020 pic.twitter.com/gJ50FwOuj3\n",
            "1235014604574556162 2020-03-04 01:30:01 UTC <realDonaldTrump> THANK YOU TENNESSEE! #KAG2020 pic.twitter.com/yrDlRAcrRt\n",
            "1235014340077473792 2020-03-04 01:28:58 UTC <realDonaldTrump> THANK YOU MASSACHUSETTS! #KAG2020 pic.twitter.com/99dkzK0xfA\n",
            "1235013938150092800 2020-03-04 01:27:22 UTC <realDonaldTrump> THANK YOU OKLAHOMA! #KAG2020 pic.twitter.com/V5DNRn6yNB\n",
            "1235013832105431040 2020-03-04 01:26:57 UTC <realDonaldTrump> THANK YOU ALABAMA! #KAG2020 pic.twitter.com/IdJ721oOsq\n",
            "1235005879226961924 2020-03-04 00:55:21 UTC <realDonaldTrump> THANK YOU NORTH CAROLINA! #KAG2020 pic.twitter.com/RPX0fqWmB1\n",
            "1235005746523385861 2020-03-04 00:54:49 UTC <realDonaldTrump> THANK YOU VERMONT! #KAG2020 pic.twitter.com/XgwOjKwYoR\n",
            "1234981396684263424 2020-03-03 23:18:04 UTC <realDonaldTrump> The National Institutes of Health is home to some of the greatest doctors, scientists, and researchers in the world. Thank you for all your doing @NIH, keep up the great work!  https://twitter.com/WhiteHouse/status/1234928714053369856 … pic.twitter.com/oLi8HbSzlY\n",
            "1234949358644289541 2020-03-03 21:10:46 UTC <realDonaldTrump> I am calling on Congress to send me a Bill that fully and permanently funds the LWCF and restores our National Parks. When I sign it into law, it will be HISTORIC for our beautiful public lands. ALL thanks to @SenCoryGardner and @SteveDaines, two GREAT Conservative Leaders!\n",
            "1234909058529943552 2020-03-03 18:30:37 UTC <realDonaldTrump> I commend the hard work of Senator @SteveDaines and @SenCoryGardner in protecting funding for the Land and Water Conservation Fund for years to come. The citizens of Montana and Colorado thank you both!\n",
            "1234893805389844481 2020-03-03 17:30:01 UTC <realDonaldTrump> It was my great honor to address the National Association of Counties Legislative Conference where 1,200 County Leaders whose incredible devotion, talent, and drive directly and profoundly improve the lives of millions of Americans each and every day. https://www.pscp.tv/w/cS05wTFvTlFsTFJub1dwUXd8MVBsS1FtcXB6THFLRbJLtWFdZgfb9vw8XQybnZWCC6kD-zLdW9J71FcelQtl?t=2s …\n",
            "1234869067892305923 2020-03-03 15:51:43 UTC <realDonaldTrump> The Federal Reserve is cutting but must further ease and, most importantly, come into line with other countries/competitors. We are not playing on a level field. Not fair to USA. It is finally time for the Federal Reserve to LEAD. More easing and cutting!\n",
            "1234853287712694272 2020-03-03 14:49:00 UTC <realDonaldTrump> Prayers for all of those affected by the devastating tornadoes in Tennessee. We will continue to monitor the developments. The Federal Government is with you all of the way during this difficult time. https://twitter.com/MarshaBlackburn/status/1234823263429238784 …\n",
            "1234848619699810306 2020-03-03 14:30:27 UTC <realDonaldTrump> Mini Mike Bloomberg can never recover from his incompetent debate performances. Also, as mayor he was very bad under pressure - a choker!\n",
            "1234841094745137154 2020-03-03 14:00:33 UTC <realDonaldTrump> New book by @charliekirk11, already number 1, “The MAGA Doctrine”. Really great, SUPPORT CHARLIE KIRK. Buy now!\n",
            "1234833494607564800 2020-03-03 13:30:21 UTC <realDonaldTrump> Go Admiral Ronny! https://twitter.com/realDonaldTrump/status/1233583517117775872 …\n",
            "1234832097065480193 2020-03-03 13:24:48 UTC <realDonaldTrump> Texas & Oklahoma: Mini Mike Bloomberg will kill your drilling, fracking and pipelines. Petroleum based “anything” is dead. Energy jobs gone. Don’t vote for Mini Mike!\n",
            "1234728725574561792 2020-03-03 06:34:02 UTC <realDonaldTrump> ....paying higher rates than many others, when we should be paying less. Tough on our exporters and puts the USA at a competitive disadvantage. Must be the other way around. Should ease and cut rate big. Jerome Powell led Federal Reserve has called it wrong from day one. Sad!\n",
            "1234728724219691008 2020-03-03 06:34:02 UTC <realDonaldTrump> Australia’s Central Bank cut interest rates and stated it will most likely further ease in order to make up for China’s Coronavirus situation and slowdown. They reduced to 0.5%, a record low. Other countries are doing the same thing, if not more so. Our Federal Reserve has us....\n",
            "1234700386453409792 2020-03-03 04:41:26 UTC <realDonaldTrump> Thank you @JackBrewerBSI. We’re with you all the way. The American people know what’s going on, they totally get it. Watch what happens in November 2020! Thank you for your continued support. Together, we are going to KEEP AMERICA GREAT! #BlackVoicesforTrump https://twitter.com/TeamTrump/status/1234686346603552768 …\n",
            "1234695977656881154 2020-03-03 04:23:55 UTC <realDonaldTrump> WOW! Sleepy Joe doesn’t know where he is, or what he’s doing. Honestly, I don’t think he even knows what office he's running for! pic.twitter.com/454v9GFpgF\n",
            "1234694301734580231 2020-03-03 04:17:15 UTC <realDonaldTrump> The Democrats in the House should propose a very simple one year Payroll Tax cut. Great for the middle class, great for the USA!\n",
            "1234657888762765313 2020-03-03 01:52:34 UTC <realDonaldTrump> This is an incredible time for our nation—we are in the midst of the Great American Comeback! Jobs are booming, incomes are soaring, poverty is plummeting, confidence is surging, and we have completely rebuilt the awesome power of the U.S. Military. PROMISES MADE, PROMISES KEPT! pic.twitter.com/d5RqU1n3Y0\n",
            "1234653427789070336 2020-03-03 01:34:50 UTC <realDonaldTrump> I was thrilled to be back in the Great city of Charlotte, North Carolina with thousands of hardworking American Patriots who love our Country, cherish our values, respect our laws, and always put AMERICA FIRST! Thank you for a wonderful evening!! #KAG2020 pic.twitter.com/dNJZfRsl9y\n",
            "1234615984880640001 2020-03-02 23:06:03 UTC <realDonaldTrump> WOW! Thank you, just landed, see everyone soon! #KAG2020🇺🇸 pic.twitter.com/QGdfIsOp4u\n",
            "1234596295324717060 2020-03-02 21:47:49 UTC <realDonaldTrump> Departing for the Great State of North Carolina! pic.twitter.com/BjnyTnnHUt\n",
            "1234592543821705219 2020-03-02 21:32:54 UTC <realDonaldTrump> They are staging a coup against Bernie!\n",
            "1234568071249088513 2020-03-02 19:55:40 UTC <realDonaldTrump> THANK YOU! https://www.breitbart.com/tech/2020/03/01/florida-am-student-donald-trump-deserves-credit-for-progress-at-historically-black-colleges/ …\n",
            "1234567934141399041 2020-03-02 19:55:07 UTC <realDonaldTrump> Michelle @FischbachMN7 is running for Congress in Minnesota. Michelle will protect the unborn, is Strong on Crime & Borders, Cutting Taxes, your #2A, Loves our Military, Vets, & will stand w/ our Great Farmers. Michelle has my Complete & Total Endorsement! https://secure.winred.com/MichelleFischbach/website-donations …\n",
            "1234567077513572352 2020-03-02 19:51:43 UTC <realDonaldTrump> Congresswoman Kay @GrangerCampaign has worked hard for Texas and been a strong supporter of our #MAGA Agenda. She’s strong on #2A and Securing our Border and is 100% pro-life. Kay has my Complete and Total Endorsement! https://secure.winred.com/kaygranger/donate …\n",
            "1234566159774756864 2020-03-02 19:48:04 UTC <realDonaldTrump> THANK YOU @BillCassidy for all of your support with our #MAGA Agenda. You are doing an outstanding job representing the people of Louisiana & the U.S.A. You have my Complete and Total Endorsement! #KAG2020 https://twitter.com/BillCassidy/status/1230189738742685698 …\n",
            "1234524212993372160 2020-03-02 17:01:23 UTC <realDonaldTrump> The only people in favor of Mini Mike continuing with his hapless campaign are me and his political consultants, who are getting richer and richer by the day!\n",
            "1234519726702956545 2020-03-02 16:43:33 UTC <realDonaldTrump> .@FoxNews is working hard pushing the Radical Left, Do Nothing Democrats. They want to be, unlike their competitors, @CNN & MSDNC (Comcast), Fair & Balanced. When will they ever learn. The Radical Left never even gave @FoxNews permission to partake in their low rated debates!\n",
            "1234497837129457664 2020-03-02 15:16:34 UTC <realDonaldTrump> ....competitive disadvantage. We should be leading, not following!\n",
            "1234497829298679809 2020-03-02 15:16:33 UTC <realDonaldTrump> As usual, Jay Powell and the Federal Reserve are slow to act. Germany and others are pumping money into their economies. Other Central Banks are much more aggressive. The U.S. should have, for all of the right reasons, the lowest Rate. We don’t, putting us at a.....\n",
            "1234483443712561157 2020-03-02 14:19:23 UTC <realDonaldTrump> Jack Welch, former Chairman and CEO of GE, a business legend, has died. There was no corporate leader like “neutron” Jack. He was my friend and supporter. We made wonderful deals together. He will never be forgotten. My warmest sympathies to his wonderful wife & family!\n",
            "1234462291652993032 2020-03-02 12:55:20 UTC <realDonaldTrump> I was criticized by the Democrats when I closed the Country down to China many weeks ahead of what almost everyone recommended. Saved many lives. Dems were working the Impeachment Hoax. They didn’t have a clue! Now they are fear mongering. Be calm & vigilant!\n",
            "1234459143790112770 2020-03-02 12:42:49 UTC <realDonaldTrump> “Ever since (Mini Mike) Bloomberg’s bad debate performances, his support has dropped.” @abcnews  Dropped a lot. Only his highly paid consultants, who are laughing all the way to the bank, still support him...And by the way, he did not poll well as mayor in handling crisis!\n",
            "1234455007765942273 2020-03-02 12:26:23 UTC <realDonaldTrump> I am meeting with the major pharmaceutical companies today at the White House about progress on a vaccine and cure. Progress being made!\n",
            "1234305684298227713 2020-03-02 02:33:02 UTC <realDonaldTrump> “The Democrat Party is a field of lightweights in complete disarray.” @kayleighmcenany @JudgeJeanine\n",
            "1234305307439923201 2020-03-02 02:31:32 UTC <realDonaldTrump> Gallup Poll numbers on the handling of this situation are outstanding, the best. Thank you! https://twitter.com/realDonaldTrump/status/1234211248373403648 …\n",
            "1234300444199071744 2020-03-02 02:12:12 UTC <realDonaldTrump> Watch Mark Levin interview of Charlie Kirk tonight at 11:00 P.M. on @FoxNews. Amazing!!!  And, while you’re at it, go get Charlie’s new book, “The MAGA Doctrine: The Only Ideas That Will Win the Future”...This is a really GREAT book. Support Charlie Kirk!\n",
            "1234284820576063489 2020-03-02 01:10:07 UTC <realDonaldTrump> Sleepy Eyes Chuck Todd is not at the top of his game! Thank you. https://twitter.com/ErinMPerrine/status/1234156399430635522 …\n",
            "1234284276239261696 2020-03-02 01:07:58 UTC <realDonaldTrump> Sleepy Joe Biden also said that guns killed 150 million Americans last year, wants to win Georgia on Super Tuesday (not up), and got his speaking location wrong again! https://twitter.com/FrancisBrennan/status/1234123094865928193 …\n",
            "1234281436070522881 2020-03-02 00:56:40 UTC <realDonaldTrump> Thank you! https://twitter.com/kayleighmcenany/status/1234168112804761600 …\n",
            "1234280791791865857 2020-03-02 00:54:07 UTC <realDonaldTrump> Thank you. I love you too! https://twitter.com/kayleighmcenany/status/1234206530217660417 …\n",
            "1234278963444375553 2020-03-02 00:46:51 UTC <realDonaldTrump> The Black community brilliantly turned their backs on Mini Mike because they know he is a pandering phony who never did right by them! https://twitter.com/jakevcrandall/status/1234179493717213184 …\n",
            "1234269356760104961 2020-03-02 00:08:40 UTC <realDonaldTrump> Mini Mike Bloomberg didn’t bring NYC back, as he said in his fake ad. It was @RudyGiuliani who brought NYC back and who also, with his endorsement, got Mini Mike elected (with barely a thank you). A boring mayor who the people couldn’t stand!\n",
            "1234263037110083587 2020-03-01 23:43:34 UTC <realDonaldTrump> Pete Buttigieg is OUT. All of his SuperTuesday votes will go to Sleepy Joe Biden. Great timing. This is the REAL beginning of the Dems taking Bernie out of play - NO NOMINATION, AGAIN!\n",
            "1234225268207898627 2020-03-01 21:13:29 UTC <realDonaldTrump> People are disgusted and embarrassed by the Fake News Media, as headed by the @nytimes, @washingtonpost, @comcast & MSDNC, @ABC, @CBSNews and more. They no longer believe what they see and read, and for good reason. Fake News is, indeed, THE ENEMY OF THE PEOPLE!\n",
            "1234222094210211846 2020-03-01 21:00:52 UTC <realDonaldTrump> “Who better than @RepRatcliffe, who got to the bottom of the FISAGATE & RUSSIAGATE HOAX. It makes a lot of sense to put John Ratcliffe in there (DNI).The Senate should quickly approve him. @DevinNunes @MariaBartiromo  John will do a great job for the American people!\n",
            "1234211248373403648 2020-03-01 20:17:46 UTC <realDonaldTrump> A Poll in today’s New York Post says that 77% of “U.S. adults have confidence in their government’s ability to handle the Coronavirus (Number One), compared to other health threats.” 64% for Zika, 58% for Ebola. Others way down on list. Our professionals are doing a great job!\n",
            "1234134094797295617 2020-03-01 15:11:11 UTC <realDonaldTrump> The food is GREAT at Sammy’s Mexican Grill in Phoenix, Arizona. Congratulations to Betty & Jorge Rivas on doing such a wonderful job. I will try hard to stop by the next time I am in Phoenix. Support Sammy’s! @foxandfriends\n",
            "1234109126864707585 2020-03-01 13:31:59 UTC <realDonaldTrump> Coronavirus: In addition to screening travelers “prior to boarding” from certain designated high risk countries, or areas within those countries, they will also be screened when they arrive in America. Thank you! @VP @SecAzar @CDCgov @CDCDirector\n",
            "1234107028295077888 2020-03-01 13:23:38 UTC <realDonaldTrump> .....a very dark and lonely path! Your reputation will never be the same!\n",
            "1234107011614285824 2020-03-01 13:23:34 UTC <realDonaldTrump> Mini Mike Bloomberg’s consultants and so-called “advisors”(how did that advice work out? Don’t ask!), are on the “gravy train” and all making a fortune for themselves pushing Mini hard, when they knew he never had what it takes. Don’t pay them anymore Mike, they led you down....\n",
            "1233990259802767360 2020-03-01 05:39:39 UTC <realDonaldTrump> I would find it hard to believe that failed presidential candidates Tom Steyer, or Mini Mike Bloombeg, would contribute to the Democrat Party, even against me, after the way they have been treated - laughed at & mocked. The real politicians ate them up and spit them out!\n",
            "1233987865350148097 2020-03-01 05:30:08 UTC <realDonaldTrump> Tom Steyer who, other than Mini Mike Bloomberg, spent more dollars for NOTHING than any candidate in history, quit the race today proclaiming how thrilled he was to be a part of the the Democrat Clown Show. Go away Tom and save whatever little money you have left!\n",
            "1233977649552384005 2020-03-01 04:49:32 UTC <realDonaldTrump> Congratulations to Sleepy Joe Biden!\n",
            "1233976658572566529 2020-03-01 04:45:36 UTC <realDonaldTrump> Democrats are working hard to destroy the name and reputation of Crazy Bernie Sanders, and take the nomination away from him!\n",
            "1233908953026908161 2020-03-01 00:16:33 UTC <realDonaldTrump> Sleepy Joe Biden’s victory in the South Carolina Democrat Primary should be the end of Mini Mike Bloomberg’s Joke of a campaign. After the worst debate performance in the history of presidential debates,  Mini Mike now has Biden split up his very few voters, taking many away!\n"
          ],
          "name": "stdout"
        }
      ]
    },
    {
      "cell_type": "code",
      "metadata": {
        "id": "LHrFB-f8bPEY",
        "colab_type": "code",
        "colab": {}
      },
      "source": [
        "import pandas as pd \n",
        "import warnings\n",
        "import re \n",
        "import nltk \n",
        "import string\n",
        "\n",
        "warnings.filterwarnings('ignore')"
      ],
      "execution_count": 0,
      "outputs": []
    },
    {
      "cell_type": "code",
      "metadata": {
        "id": "pwvSVaSpbPEb",
        "colab_type": "code",
        "colab": {
          "base_uri": "https://localhost:8080/",
          "height": 35
        },
        "outputId": "1c1f9be4-cc50-4b31-ee66-bbf980ec133c"
      },
      "source": [
        "data=pd.read_csv(\"data_user.csv\")\n",
        "data.shape"
      ],
      "execution_count": 65,
      "outputs": [
        {
          "output_type": "execute_result",
          "data": {
            "text/plain": [
              "(385, 34)"
            ]
          },
          "metadata": {
            "tags": []
          },
          "execution_count": 65
        }
      ]
    },
    {
      "cell_type": "code",
      "metadata": {
        "id": "2vLaRVibHYwQ",
        "colab_type": "code",
        "colab": {}
      },
      "source": [
        "# from datetime import date\n",
        "# today_main=date.today()\n",
        "# data['date'] = pd.to_datetime(data['date'])\n",
        "# data=data[(data.date.dt.month==today_main.month)]"
      ],
      "execution_count": 0,
      "outputs": []
    },
    {
      "cell_type": "code",
      "metadata": {
        "id": "U7HW5N2pbPEe",
        "colab_type": "code",
        "colab": {
          "base_uri": "https://localhost:8080/",
          "height": 477
        },
        "outputId": "8d9f28eb-379c-46d0-bad8-2b84809ad464"
      },
      "source": [
        "data.head()"
      ],
      "execution_count": 67,
      "outputs": [
        {
          "output_type": "execute_result",
          "data": {
            "text/html": [
              "<div>\n",
              "<style scoped>\n",
              "    .dataframe tbody tr th:only-of-type {\n",
              "        vertical-align: middle;\n",
              "    }\n",
              "\n",
              "    .dataframe tbody tr th {\n",
              "        vertical-align: top;\n",
              "    }\n",
              "\n",
              "    .dataframe thead th {\n",
              "        text-align: right;\n",
              "    }\n",
              "</style>\n",
              "<table border=\"1\" class=\"dataframe\">\n",
              "  <thead>\n",
              "    <tr style=\"text-align: right;\">\n",
              "      <th></th>\n",
              "      <th>id</th>\n",
              "      <th>conversation_id</th>\n",
              "      <th>created_at</th>\n",
              "      <th>date</th>\n",
              "      <th>time</th>\n",
              "      <th>timezone</th>\n",
              "      <th>user_id</th>\n",
              "      <th>username</th>\n",
              "      <th>name</th>\n",
              "      <th>place</th>\n",
              "      <th>tweet</th>\n",
              "      <th>mentions</th>\n",
              "      <th>urls</th>\n",
              "      <th>photos</th>\n",
              "      <th>replies_count</th>\n",
              "      <th>retweets_count</th>\n",
              "      <th>likes_count</th>\n",
              "      <th>hashtags</th>\n",
              "      <th>cashtags</th>\n",
              "      <th>link</th>\n",
              "      <th>retweet</th>\n",
              "      <th>quote_url</th>\n",
              "      <th>video</th>\n",
              "      <th>near</th>\n",
              "      <th>geo</th>\n",
              "      <th>source</th>\n",
              "      <th>user_rt_id</th>\n",
              "      <th>user_rt</th>\n",
              "      <th>retweet_id</th>\n",
              "      <th>reply_to</th>\n",
              "      <th>retweet_date</th>\n",
              "      <th>translate</th>\n",
              "      <th>trans_src</th>\n",
              "      <th>trans_dest</th>\n",
              "    </tr>\n",
              "  </thead>\n",
              "  <tbody>\n",
              "    <tr>\n",
              "      <th>0</th>\n",
              "      <td>1244728753617620994</td>\n",
              "      <td>1244728753617620994</td>\n",
              "      <td>1585601435000</td>\n",
              "      <td>2020-03-30</td>\n",
              "      <td>20:50:35</td>\n",
              "      <td>UTC</td>\n",
              "      <td>25073877</td>\n",
              "      <td>realdonaldtrump</td>\n",
              "      <td>Donald J. Trump</td>\n",
              "      <td>NaN</td>\n",
              "      <td>White House news conference at 5:00 P.M. Easte...</td>\n",
              "      <td>[]</td>\n",
              "      <td>[]</td>\n",
              "      <td>[]</td>\n",
              "      <td>16546</td>\n",
              "      <td>14207</td>\n",
              "      <td>104405</td>\n",
              "      <td>[]</td>\n",
              "      <td>[]</td>\n",
              "      <td>https://twitter.com/realDonaldTrump/status/124...</td>\n",
              "      <td>False</td>\n",
              "      <td>NaN</td>\n",
              "      <td>0</td>\n",
              "      <td>NaN</td>\n",
              "      <td>NaN</td>\n",
              "      <td>NaN</td>\n",
              "      <td>NaN</td>\n",
              "      <td>NaN</td>\n",
              "      <td>NaN</td>\n",
              "      <td>[{'user_id': '25073877', 'username': 'realDona...</td>\n",
              "      <td>NaN</td>\n",
              "      <td>NaN</td>\n",
              "      <td>NaN</td>\n",
              "      <td>NaN</td>\n",
              "    </tr>\n",
              "    <tr>\n",
              "      <th>1</th>\n",
              "      <td>1244673740866191362</td>\n",
              "      <td>1244673740866191362</td>\n",
              "      <td>1585588319000</td>\n",
              "      <td>2020-03-30</td>\n",
              "      <td>17:11:59</td>\n",
              "      <td>UTC</td>\n",
              "      <td>25073877</td>\n",
              "      <td>realdonaldtrump</td>\n",
              "      <td>Donald J. Trump</td>\n",
              "      <td>NaN</td>\n",
              "      <td>On #NationalDoctorsDay, we recognize the remar...</td>\n",
              "      <td>[]</td>\n",
              "      <td>['https://www.whitehouse.gov/presidential-acti...</td>\n",
              "      <td>[]</td>\n",
              "      <td>10692</td>\n",
              "      <td>18925</td>\n",
              "      <td>77597</td>\n",
              "      <td>['#nationaldoctorsday']</td>\n",
              "      <td>[]</td>\n",
              "      <td>https://twitter.com/realDonaldTrump/status/124...</td>\n",
              "      <td>False</td>\n",
              "      <td>NaN</td>\n",
              "      <td>0</td>\n",
              "      <td>NaN</td>\n",
              "      <td>NaN</td>\n",
              "      <td>NaN</td>\n",
              "      <td>NaN</td>\n",
              "      <td>NaN</td>\n",
              "      <td>NaN</td>\n",
              "      <td>[{'user_id': '25073877', 'username': 'realDona...</td>\n",
              "      <td>NaN</td>\n",
              "      <td>NaN</td>\n",
              "      <td>NaN</td>\n",
              "      <td>NaN</td>\n",
              "    </tr>\n",
              "    <tr>\n",
              "      <th>2</th>\n",
              "      <td>1244584449309892609</td>\n",
              "      <td>1244584449309892609</td>\n",
              "      <td>1585567030000</td>\n",
              "      <td>2020-03-30</td>\n",
              "      <td>11:17:10</td>\n",
              "      <td>UTC</td>\n",
              "      <td>25073877</td>\n",
              "      <td>realdonaldtrump</td>\n",
              "      <td>Donald J. Trump</td>\n",
              "      <td>NaN</td>\n",
              "      <td>Nancy Pelosi and the Democrats delayed the Wor...</td>\n",
              "      <td>[]</td>\n",
              "      <td>[]</td>\n",
              "      <td>[]</td>\n",
              "      <td>36862</td>\n",
              "      <td>42417</td>\n",
              "      <td>185215</td>\n",
              "      <td>[]</td>\n",
              "      <td>[]</td>\n",
              "      <td>https://twitter.com/realDonaldTrump/status/124...</td>\n",
              "      <td>False</td>\n",
              "      <td>NaN</td>\n",
              "      <td>0</td>\n",
              "      <td>NaN</td>\n",
              "      <td>NaN</td>\n",
              "      <td>NaN</td>\n",
              "      <td>NaN</td>\n",
              "      <td>NaN</td>\n",
              "      <td>NaN</td>\n",
              "      <td>[{'user_id': '25073877', 'username': 'realDona...</td>\n",
              "      <td>NaN</td>\n",
              "      <td>NaN</td>\n",
              "      <td>NaN</td>\n",
              "      <td>NaN</td>\n",
              "    </tr>\n",
              "    <tr>\n",
              "      <th>3</th>\n",
              "      <td>1244581994614398981</td>\n",
              "      <td>1244581994614398981</td>\n",
              "      <td>1585566445000</td>\n",
              "      <td>2020-03-30</td>\n",
              "      <td>11:07:25</td>\n",
              "      <td>UTC</td>\n",
              "      <td>25073877</td>\n",
              "      <td>realdonaldtrump</td>\n",
              "      <td>Donald J. Trump</td>\n",
              "      <td>NaN</td>\n",
              "      <td>Thank you Dr. Hahn &amp; the FDA for your fast app...</td>\n",
              "      <td>['mikedewine']</td>\n",
              "      <td>['https://twitter.com/stevefda/status/12444720...</td>\n",
              "      <td>[]</td>\n",
              "      <td>2150</td>\n",
              "      <td>11504</td>\n",
              "      <td>49169</td>\n",
              "      <td>[]</td>\n",
              "      <td>[]</td>\n",
              "      <td>https://twitter.com/realDonaldTrump/status/124...</td>\n",
              "      <td>False</td>\n",
              "      <td>https://twitter.com/SteveFDA/status/1244472087...</td>\n",
              "      <td>0</td>\n",
              "      <td>NaN</td>\n",
              "      <td>NaN</td>\n",
              "      <td>NaN</td>\n",
              "      <td>NaN</td>\n",
              "      <td>NaN</td>\n",
              "      <td>NaN</td>\n",
              "      <td>[{'user_id': '25073877', 'username': 'realDona...</td>\n",
              "      <td>NaN</td>\n",
              "      <td>NaN</td>\n",
              "      <td>NaN</td>\n",
              "      <td>NaN</td>\n",
              "    </tr>\n",
              "    <tr>\n",
              "      <th>4</th>\n",
              "      <td>1244493463355342848</td>\n",
              "      <td>1244493463355342848</td>\n",
              "      <td>1585545337000</td>\n",
              "      <td>2020-03-30</td>\n",
              "      <td>05:15:37</td>\n",
              "      <td>UTC</td>\n",
              "      <td>25073877</td>\n",
              "      <td>realdonaldtrump</td>\n",
              "      <td>Donald J. Trump</td>\n",
              "      <td>NaN</td>\n",
              "      <td>Will be interviewed on @foxandfriends at 7:55 ...</td>\n",
              "      <td>['foxandfriends']</td>\n",
              "      <td>[]</td>\n",
              "      <td>[]</td>\n",
              "      <td>15260</td>\n",
              "      <td>15367</td>\n",
              "      <td>92824</td>\n",
              "      <td>[]</td>\n",
              "      <td>[]</td>\n",
              "      <td>https://twitter.com/realDonaldTrump/status/124...</td>\n",
              "      <td>False</td>\n",
              "      <td>NaN</td>\n",
              "      <td>0</td>\n",
              "      <td>NaN</td>\n",
              "      <td>NaN</td>\n",
              "      <td>NaN</td>\n",
              "      <td>NaN</td>\n",
              "      <td>NaN</td>\n",
              "      <td>NaN</td>\n",
              "      <td>[{'user_id': '25073877', 'username': 'realDona...</td>\n",
              "      <td>NaN</td>\n",
              "      <td>NaN</td>\n",
              "      <td>NaN</td>\n",
              "      <td>NaN</td>\n",
              "    </tr>\n",
              "  </tbody>\n",
              "</table>\n",
              "</div>"
            ],
            "text/plain": [
              "                    id      conversation_id  ...  trans_src trans_dest\n",
              "0  1244728753617620994  1244728753617620994  ...        NaN        NaN\n",
              "1  1244673740866191362  1244673740866191362  ...        NaN        NaN\n",
              "2  1244584449309892609  1244584449309892609  ...        NaN        NaN\n",
              "3  1244581994614398981  1244581994614398981  ...        NaN        NaN\n",
              "4  1244493463355342848  1244493463355342848  ...        NaN        NaN\n",
              "\n",
              "[5 rows x 34 columns]"
            ]
          },
          "metadata": {
            "tags": []
          },
          "execution_count": 67
        }
      ]
    },
    {
      "cell_type": "code",
      "metadata": {
        "id": "cBy_PsdNHQQf",
        "colab_type": "code",
        "colab": {
          "base_uri": "https://localhost:8080/",
          "height": 35
        },
        "outputId": "9055e37c-1843-419a-827c-1661cd0c1582"
      },
      "source": [
        "data.shape"
      ],
      "execution_count": 68,
      "outputs": [
        {
          "output_type": "execute_result",
          "data": {
            "text/plain": [
              "(385, 34)"
            ]
          },
          "metadata": {
            "tags": []
          },
          "execution_count": 68
        }
      ]
    },
    {
      "cell_type": "code",
      "metadata": {
        "id": "eR0v09XfbPEn",
        "colab_type": "code",
        "colab": {
          "base_uri": "https://localhost:8080/",
          "height": 242
        },
        "outputId": "07d7dd10-183f-43cf-988a-bf1e33aeb832"
      },
      "source": [
        "from nltk.corpus import sentiwordnet as swn\n",
        "from nltk import pos_tag, map_tag\n",
        "from nltk.stem import WordNetLemmatizer\n",
        "from nltk.stem import PorterStemmer\n",
        "import nltk\n",
        "nltk.download('punkt')\n",
        "nltk.download('averaged_perceptron_tagger')\n",
        "nltk.download('universal_tagset')\n",
        "nltk.download('sentiwordnet')\n",
        "nltk.download('wordnet')"
      ],
      "execution_count": 69,
      "outputs": [
        {
          "output_type": "stream",
          "text": [
            "[nltk_data] Downloading package punkt to /root/nltk_data...\n",
            "[nltk_data]   Package punkt is already up-to-date!\n",
            "[nltk_data] Downloading package averaged_perceptron_tagger to\n",
            "[nltk_data]     /root/nltk_data...\n",
            "[nltk_data]   Package averaged_perceptron_tagger is already up-to-\n",
            "[nltk_data]       date!\n",
            "[nltk_data] Downloading package universal_tagset to /root/nltk_data...\n",
            "[nltk_data]   Package universal_tagset is already up-to-date!\n",
            "[nltk_data] Downloading package sentiwordnet to /root/nltk_data...\n",
            "[nltk_data]   Package sentiwordnet is already up-to-date!\n",
            "[nltk_data] Downloading package wordnet to /root/nltk_data...\n",
            "[nltk_data]   Package wordnet is already up-to-date!\n"
          ],
          "name": "stdout"
        },
        {
          "output_type": "execute_result",
          "data": {
            "text/plain": [
              "True"
            ]
          },
          "metadata": {
            "tags": []
          },
          "execution_count": 69
        }
      ]
    },
    {
      "cell_type": "markdown",
      "metadata": {
        "id": "hy_6x7_gb6U2",
        "colab_type": "text"
      },
      "source": [
        "**FINDING THE SENTIMENT OF EACH TWEET**"
      ]
    },
    {
      "cell_type": "code",
      "metadata": {
        "id": "GgEzJ_QCbPEr",
        "colab_type": "code",
        "colab": {}
      },
      "source": [
        "lem = WordNetLemmatizer()\n",
        "pstem = PorterStemmer()\n",
        "\n",
        "def pos_senti(data):#takes\n",
        "    li_swn=[]\n",
        "    li_swn_pos=[]\n",
        "    li_swn_neg=[]\n",
        "    missing_words=[]\n",
        "    for i in range(len(data.index)):\n",
        "        text = data.loc[i]['tweet']\n",
        "        tokens = nltk.word_tokenize(text)\n",
        "        tagged_sent = pos_tag(tokens)\n",
        "        store_it = [(word, map_tag('en-ptb', 'universal', tag)) for word, tag in tagged_sent]\n",
        "        #print(\"Tagged Parts of Speech:\",store_it)\n",
        "\n",
        "        pos_total=0\n",
        "        neg_total=0\n",
        "        for word,tag in store_it:\n",
        "            if(tag=='NOUN'):\n",
        "                tag='n'\n",
        "            elif(tag=='VERB'):\n",
        "                tag='v'\n",
        "            elif(tag=='ADJ'):\n",
        "                tag='a'\n",
        "            elif(tag=='ADV'):\n",
        "                tag = 'r'\n",
        "            else:\n",
        "                tag='nothing'\n",
        "\n",
        "            if(tag!='nothing'):\n",
        "                concat = word+'.'+tag+'.01'\n",
        "                try:\n",
        "                    this_word_pos=swn.senti_synset(concat).pos_score()\n",
        "                    this_word_neg=swn.senti_synset(concat).neg_score()\n",
        "                    #print(word,tag,':',this_word_pos,this_word_neg)\n",
        "                except Exception as e:\n",
        "                    wor = lem.lemmatize(word)\n",
        "                    concat = wor+'.'+tag+'.01'\n",
        "                    # Checking if there's a possiblity of lemmatized word be accepted into SWN corpus\n",
        "                    try:\n",
        "                        this_word_pos=swn.senti_synset(concat).pos_score()\n",
        "                        this_word_neg=swn.senti_synset(concat).neg_score()\n",
        "                    except Exception as e:\n",
        "                        wor = pstem.stem(word)\n",
        "                        concat = wor+'.'+tag+'.01'\n",
        "                        # Checking if there's a possiblity of lemmatized word be accepted\n",
        "                        try:\n",
        "                            this_word_pos=swn.senti_synset(concat).pos_score()\n",
        "                            this_word_neg=swn.senti_synset(concat).neg_score()\n",
        "                        except:\n",
        "                            missing_words.append(word)\n",
        "                            continue\n",
        "                pos_total+=this_word_pos\n",
        "                neg_total+=this_word_neg\n",
        "        li_swn_pos.append(pos_total)\n",
        "        li_swn_neg.append(neg_total)\n",
        "\n",
        "        if(pos_total!=0 or neg_total!=0):\n",
        "            if(pos_total>neg_total):\n",
        "                li_swn.append(1)\n",
        "            else:\n",
        "                li_swn.append(-1)\n",
        "        else:\n",
        "            li_swn.append(0)\n",
        "            \n",
        "    data['pos_score']=li_swn_pos\n",
        "    data['neg_score']=li_swn_neg\n",
        "    data['sentiment_score']=li_swn\n",
        "    return data\n",
        "\n",
        "\n",
        "data=pos_senti(data)"
      ],
      "execution_count": 0,
      "outputs": []
    },
    {
      "cell_type": "code",
      "metadata": {
        "id": "g41EKxGeIhat",
        "colab_type": "code",
        "colab": {}
      },
      "source": [
        "data1=data.copy()"
      ],
      "execution_count": 0,
      "outputs": []
    },
    {
      "cell_type": "markdown",
      "metadata": {
        "id": "AHvv2v2XbPEt",
        "colab_type": "text"
      },
      "source": [
        "**CHECK FOR RETWEETS AND IGNORES THE ONES WHICH ARE RETWEETS**"
      ]
    },
    {
      "cell_type": "code",
      "metadata": {
        "id": "fNMznSBLbPEu",
        "colab_type": "code",
        "colab": {}
      },
      "source": [
        "data.tweet.str.contains('@RT').unique()\n",
        "data=data[data.retweet==False]"
      ],
      "execution_count": 0,
      "outputs": []
    },
    {
      "cell_type": "code",
      "metadata": {
        "scrolled": true,
        "id": "1FUp6h6GbPEw",
        "colab_type": "code",
        "colab": {
          "base_uri": "https://localhost:8080/",
          "height": 225
        },
        "outputId": "fc263003-88e7-4758-a25d-79a7fe0e14a6"
      },
      "source": [
        "data.tweet=data.tweet.str.lower()\n",
        "data['tweet']"
      ],
      "execution_count": 12,
      "outputs": [
        {
          "output_type": "execute_result",
          "data": {
            "text/plain": [
              "0      white house news conference at 5:00 p.m. easte...\n",
              "1      on #nationaldoctorsday, we recognize the remar...\n",
              "2      nancy pelosi and the democrats delayed the wor...\n",
              "3      thank you dr. hahn & the fda for your fast app...\n",
              "4      will be interviewed on @foxandfriends at 7:55 ...\n",
              "                             ...                        \n",
              "380    i would find it hard to believe that failed pr...\n",
              "381    tom steyer who, other than mini mike bloomberg...\n",
              "382                 congratulations to sleepy joe biden!\n",
              "383    democrats are working hard to destroy the name...\n",
              "384    sleepy joe biden’s victory in the south caroli...\n",
              "Name: tweet, Length: 385, dtype: object"
            ]
          },
          "metadata": {
            "tags": []
          },
          "execution_count": 12
        }
      ]
    },
    {
      "cell_type": "markdown",
      "metadata": {
        "id": "QrQwh0VFbPE0",
        "colab_type": "text"
      },
      "source": [
        "**DROPPING THE DUPLICATE TWEETS**"
      ]
    },
    {
      "cell_type": "code",
      "metadata": {
        "id": "_xJjCH66bPE0",
        "colab_type": "code",
        "colab": {}
      },
      "source": [
        "data=data.drop_duplicates(subset='tweet',keep='first')"
      ],
      "execution_count": 0,
      "outputs": []
    },
    {
      "cell_type": "code",
      "metadata": {
        "id": "K-0AdSEHbPE4",
        "colab_type": "code",
        "colab": {
          "base_uri": "https://localhost:8080/",
          "height": 35
        },
        "outputId": "4b9a4d28-26cc-48f9-f07c-923a0b554bd0"
      },
      "source": [
        "data.shape"
      ],
      "execution_count": 14,
      "outputs": [
        {
          "output_type": "execute_result",
          "data": {
            "text/plain": [
              "(385, 37)"
            ]
          },
          "metadata": {
            "tags": []
          },
          "execution_count": 14
        }
      ]
    },
    {
      "cell_type": "markdown",
      "metadata": {
        "id": "OypU4NYGbPE7",
        "colab_type": "text"
      },
      "source": [
        "**analyze tweets by two steps. First, preprocessing tweets by Ignoring a duplicate words or tweets, medical or educational words, numbers, URLs, mentions, images, punctuation and spaces and removes tweets that contain advertisements, and retweet tweets and filters the dataset by dictionary (Sentiwordnet) and calculating the sentiment of each tweet.**\n",
        "Second, classifier tweet by niave bayes algorithm and show results monthly, weekly and daily percent**"
      ]
    },
    {
      "cell_type": "markdown",
      "metadata": {
        "id": "itv42zIzbPE8",
        "colab_type": "text"
      },
      "source": [
        "**REMOVING WORDS RELATED TO EDUCATION** \n",
        "\n",
        "I have taken the words from https://www.mondovo.com/keywords/education-keywords"
      ]
    },
    {
      "cell_type": "code",
      "metadata": {
        "id": "ELLrWtbobPE8",
        "colab_type": "code",
        "colab": {}
      },
      "source": [
        "education_dataframe=pd.read_csv(\"education_keywords.csv\")\n",
        "education=list(education_dataframe['keywords'])\n"
      ],
      "execution_count": 0,
      "outputs": []
    },
    {
      "cell_type": "code",
      "metadata": {
        "id": "ZALcrbRZbPE_",
        "colab_type": "code",
        "colab": {}
      },
      "source": [
        "def education_removal(text): \n",
        "    inter = list(text.split(\" \"))\n",
        "    for i in inter:\n",
        "        if i in education:\n",
        "            inter.remove(i)\n",
        "    text=' '.join(inter)\n",
        "    return text\n",
        "\n",
        "data['tweet'] = data['tweet'].apply(lambda x: education_removal(x))"
      ],
      "execution_count": 0,
      "outputs": []
    },
    {
      "cell_type": "markdown",
      "metadata": {
        "id": "6cBlvWvMbPFB",
        "colab_type": "text"
      },
      "source": [
        "**REMOVING WORDS RELATED TO MEDICAL** \n",
        "\n",
        "I have taken the words from https://figshare.com/articles/List_of_Health_Keywords/1084358/1"
      ]
    },
    {
      "cell_type": "code",
      "metadata": {
        "id": "GPfyGTKYbPFC",
        "colab_type": "code",
        "colab": {}
      },
      "source": [
        "medical_dataframe=pd.read_csv(\"medical_keywords.csv\")\n",
        "medical_dataframe\n",
        "\n",
        "def remove_punct(text):\n",
        "    text  = \"\".join([char for char in text if char not in string.punctuation])\n",
        "    text = re.sub('[0-9]+', '', text)\n",
        "    return text\n",
        "\n",
        "medical_dataframe['keywords'] = medical_dataframe['keywords'].apply(lambda x: remove_punct(x))\n",
        "\n",
        "medical=list(medical_dataframe['keywords'])\n",
        "medical.remove(\"depression\")"
      ],
      "execution_count": 0,
      "outputs": []
    },
    {
      "cell_type": "code",
      "metadata": {
        "id": "kN2s9OyhbPFE",
        "colab_type": "code",
        "colab": {}
      },
      "source": [
        "def medical_removal(text): \n",
        "    inter = list(text.split(\" \"))\n",
        "    for i in inter:\n",
        "        if i in medical:\n",
        "            inter.remove(i)\n",
        "    text=' '.join(inter)\n",
        "    return text\n",
        "    \n",
        "    \n",
        "\n",
        "data['tweet'] = data['tweet'].apply(lambda x: medical_removal(x))"
      ],
      "execution_count": 0,
      "outputs": []
    },
    {
      "cell_type": "code",
      "metadata": {
        "id": "MDcpFtw_bPFI",
        "colab_type": "code",
        "colab": {}
      },
      "source": [
        ""
      ],
      "execution_count": 0,
      "outputs": []
    },
    {
      "cell_type": "markdown",
      "metadata": {
        "id": "dvz4Gxv0bPFK",
        "colab_type": "text"
      },
      "source": [
        "**REMOVING URLS**"
      ]
    },
    {
      "cell_type": "code",
      "metadata": {
        "id": "6pOYZSzdbPFL",
        "colab_type": "code",
        "colab": {
          "base_uri": "https://localhost:8080/",
          "height": 55
        },
        "outputId": "8467470f-a681-4332-f807-511e7cff8c84"
      },
      "source": [
        "def remove_url(text):\n",
        "\n",
        "    text = re.sub(r\"http\\S+\", \"\", text)\n",
        "    text= re.sub(r\"https\\S+\", \"\", text)\n",
        "    return text\n",
        "\n",
        "\n",
        "data['tweet'] = data['tweet'].apply(lambda x: remove_url(x))\n",
        "\n",
        "data['tweet'][3]"
      ],
      "execution_count": 19,
      "outputs": [
        {
          "output_type": "execute_result",
          "data": {
            "text/plain": [
              "'thank you dr. hahn & the fda for your fast approval of this respected ohio company recommended by governor @mikedewine. great potential! \\xa0…'"
            ]
          },
          "metadata": {
            "tags": []
          },
          "execution_count": 19
        }
      ]
    },
    {
      "cell_type": "markdown",
      "metadata": {
        "id": "H856-ZxpbPFO",
        "colab_type": "text"
      },
      "source": [
        "**REMOVING PHOTOS** "
      ]
    },
    {
      "cell_type": "code",
      "metadata": {
        "id": "Gn1vJResbPFO",
        "colab_type": "code",
        "colab": {
          "base_uri": "https://localhost:8080/",
          "height": 55
        },
        "outputId": "634bca6b-55ee-4632-cdac-58baa33fe353"
      },
      "source": [
        "def remove_photos(text):\n",
        "\n",
        "    text = re.sub(r\"pic.twitter\\S+\", \"\", text)\n",
        "    return text\n",
        "\n",
        "\n",
        "data['tweet'] = data['tweet'].apply(lambda x: remove_photos(x))\n",
        "\n",
        "data['tweet'][10]"
      ],
      "execution_count": 20,
      "outputs": [
        {
          "output_type": "execute_result",
          "data": {
            "text/plain": [
              "'...the cbs news poll said 13 percent of republicans trusted the news media for information about the virus.” michael m. grynbaum @nytimes'"
            ]
          },
          "metadata": {
            "tags": []
          },
          "execution_count": 20
        }
      ]
    },
    {
      "cell_type": "markdown",
      "metadata": {
        "id": "RK9bVUYabPFR",
        "colab_type": "text"
      },
      "source": [
        "**REMOVING MENTIONS** "
      ]
    },
    {
      "cell_type": "code",
      "metadata": {
        "id": "Q4W0gxmRbPFR",
        "colab_type": "code",
        "colab": {}
      },
      "source": [
        "def remove_mentions(text):\n",
        "    inter = list(text.split(\" \"))\n",
        "    for i in inter: \n",
        "        if i.startswith(\"@\"):\n",
        "            inter.remove(i)\n",
        "    text=' '.join(inter)\n",
        "    return text\n",
        "\n",
        "data['tweet'] = data['tweet'].apply(lambda x: remove_mentions(x))"
      ],
      "execution_count": 0,
      "outputs": []
    },
    {
      "cell_type": "markdown",
      "metadata": {
        "id": "8Tg1-V4DbPFT",
        "colab_type": "text"
      },
      "source": [
        "**REMOVING ADVERTISEMENTS**"
      ]
    },
    {
      "cell_type": "code",
      "metadata": {
        "id": "fzSfz6jlbPFU",
        "colab_type": "code",
        "colab": {
          "base_uri": "https://localhost:8080/",
          "height": 35
        },
        "outputId": "55367d32-da6a-4408-864f-4d505ba175ef"
      },
      "source": [
        "data=data.drop(data[data.tweet.str.contains(\"#ad\")].index)\n",
        "data=data.drop(data[data.tweet.str.contains(\"#sponsored\")].index)\n",
        "\n",
        "data.shape"
      ],
      "execution_count": 22,
      "outputs": [
        {
          "output_type": "execute_result",
          "data": {
            "text/plain": [
              "(385, 37)"
            ]
          },
          "metadata": {
            "tags": []
          },
          "execution_count": 22
        }
      ]
    },
    {
      "cell_type": "markdown",
      "metadata": {
        "id": "ZZDbY3w5bPFW",
        "colab_type": "text"
      },
      "source": [
        "**REMOVING HASHTAGS WORDS**"
      ]
    },
    {
      "cell_type": "code",
      "metadata": {
        "id": "ChpMJI-WbPFX",
        "colab_type": "code",
        "colab": {}
      },
      "source": [
        "def remove_hashtag(text):\n",
        "    inter = list(text.split(\" \"))\n",
        "    for i in inter: \n",
        "        if i.startswith(\"#\"):\n",
        "            inter.remove(i)\n",
        "    text=' '.join(inter)\n",
        "    return text\n",
        "\n",
        "data['tweet'] = data['tweet'].apply(lambda x: remove_hashtag(x))"
      ],
      "execution_count": 0,
      "outputs": []
    },
    {
      "cell_type": "markdown",
      "metadata": {
        "id": "vzAU80OfbPFZ",
        "colab_type": "text"
      },
      "source": [
        "**REMOVING NUMBERS, PUNCTIONS, TOKENISATION, STOPWORDS, SYMBOLS** "
      ]
    },
    {
      "cell_type": "markdown",
      "metadata": {
        "id": "oFfjx73vbPFZ",
        "colab_type": "text"
      },
      "source": [
        "Remove punctuations\n",
        "\n",
        "Tokenization - Converting a sentence into list of words\n",
        "\n",
        "Remove stopwords"
      ]
    },
    {
      "cell_type": "code",
      "metadata": {
        "id": "wmkndEd0bPFa",
        "colab_type": "code",
        "colab": {}
      },
      "source": [
        "import string\n",
        "import re\n",
        "import nltk"
      ],
      "execution_count": 0,
      "outputs": []
    },
    {
      "cell_type": "markdown",
      "metadata": {
        "id": "wUCK_H2WbPFd",
        "colab_type": "text"
      },
      "source": [
        "**REMOVING PUNCTUATIONS & SYMBOLS & NUMBERS** "
      ]
    },
    {
      "cell_type": "code",
      "metadata": {
        "id": "5Zokju_hbPFd",
        "colab_type": "code",
        "colab": {
          "base_uri": "https://localhost:8080/",
          "height": 69
        },
        "outputId": "ca6c89ab-8138-475c-a1e8-7351fbb40c1c"
      },
      "source": [
        "import nltk\n",
        "nltk.download('stopwords')"
      ],
      "execution_count": 25,
      "outputs": [
        {
          "output_type": "stream",
          "text": [
            "[nltk_data] Downloading package stopwords to /root/nltk_data...\n",
            "[nltk_data]   Package stopwords is already up-to-date!\n"
          ],
          "name": "stdout"
        },
        {
          "output_type": "execute_result",
          "data": {
            "text/plain": [
              "True"
            ]
          },
          "metadata": {
            "tags": []
          },
          "execution_count": 25
        }
      ]
    },
    {
      "cell_type": "code",
      "metadata": {
        "id": "VACBRLJkbPFg",
        "colab_type": "code",
        "colab": {
          "base_uri": "https://localhost:8080/",
          "height": 35
        },
        "outputId": "d8e29d1d-0555-4a75-c9d4-86db071e3704"
      },
      "source": [
        "string.punctuation"
      ],
      "execution_count": 26,
      "outputs": [
        {
          "output_type": "execute_result",
          "data": {
            "text/plain": [
              "'!\"#$%&\\'()*+,-./:;<=>?@[\\\\]^_`{|}~'"
            ]
          },
          "metadata": {
            "tags": []
          },
          "execution_count": 26
        }
      ]
    },
    {
      "cell_type": "markdown",
      "metadata": {
        "id": "0mLQMHqtbPFi",
        "colab_type": "text"
      },
      "source": [
        "puncuation and numbers"
      ]
    },
    {
      "cell_type": "code",
      "metadata": {
        "id": "izNEO0RMbPFj",
        "colab_type": "code",
        "colab": {}
      },
      "source": [
        "def remove_punct(text):\n",
        "    text  = \"\".join([char for char in text if char not in string.punctuation])\n",
        "    text = re.sub('[0-9]+', '', text)\n",
        "    return text\n",
        "\n",
        "data['tweet'] = data['tweet'].apply(lambda x: remove_punct(x))"
      ],
      "execution_count": 0,
      "outputs": []
    },
    {
      "cell_type": "markdown",
      "metadata": {
        "id": "N-aVek5WbPFl",
        "colab_type": "text"
      },
      "source": [
        "**REMOVING TOKENIZATION**"
      ]
    },
    {
      "cell_type": "code",
      "metadata": {
        "id": "0XNNiKAbbPFl",
        "colab_type": "code",
        "colab": {
          "base_uri": "https://localhost:8080/",
          "height": 564
        },
        "outputId": "ac091751-9fa5-4254-ffa0-f03f696f9f50"
      },
      "source": [
        "def tokenization(text):\n",
        "    text = re.split('\\W+', text)\n",
        "    return text\n",
        "\n",
        "data['tweet'] = data['tweet'].apply(lambda x: tokenization(x.lower()))\n",
        "data.head()\n"
      ],
      "execution_count": 28,
      "outputs": [
        {
          "output_type": "execute_result",
          "data": {
            "text/html": [
              "<div>\n",
              "<style scoped>\n",
              "    .dataframe tbody tr th:only-of-type {\n",
              "        vertical-align: middle;\n",
              "    }\n",
              "\n",
              "    .dataframe tbody tr th {\n",
              "        vertical-align: top;\n",
              "    }\n",
              "\n",
              "    .dataframe thead th {\n",
              "        text-align: right;\n",
              "    }\n",
              "</style>\n",
              "<table border=\"1\" class=\"dataframe\">\n",
              "  <thead>\n",
              "    <tr style=\"text-align: right;\">\n",
              "      <th></th>\n",
              "      <th>id</th>\n",
              "      <th>conversation_id</th>\n",
              "      <th>created_at</th>\n",
              "      <th>date</th>\n",
              "      <th>time</th>\n",
              "      <th>timezone</th>\n",
              "      <th>user_id</th>\n",
              "      <th>username</th>\n",
              "      <th>name</th>\n",
              "      <th>place</th>\n",
              "      <th>tweet</th>\n",
              "      <th>mentions</th>\n",
              "      <th>urls</th>\n",
              "      <th>photos</th>\n",
              "      <th>replies_count</th>\n",
              "      <th>retweets_count</th>\n",
              "      <th>likes_count</th>\n",
              "      <th>hashtags</th>\n",
              "      <th>cashtags</th>\n",
              "      <th>link</th>\n",
              "      <th>retweet</th>\n",
              "      <th>quote_url</th>\n",
              "      <th>video</th>\n",
              "      <th>near</th>\n",
              "      <th>geo</th>\n",
              "      <th>source</th>\n",
              "      <th>user_rt_id</th>\n",
              "      <th>user_rt</th>\n",
              "      <th>retweet_id</th>\n",
              "      <th>reply_to</th>\n",
              "      <th>retweet_date</th>\n",
              "      <th>translate</th>\n",
              "      <th>trans_src</th>\n",
              "      <th>trans_dest</th>\n",
              "      <th>pos_score</th>\n",
              "      <th>neg_score</th>\n",
              "      <th>sentiment_score</th>\n",
              "    </tr>\n",
              "  </thead>\n",
              "  <tbody>\n",
              "    <tr>\n",
              "      <th>0</th>\n",
              "      <td>1244728753617620994</td>\n",
              "      <td>1244728753617620994</td>\n",
              "      <td>1585601435000</td>\n",
              "      <td>2020-03-30</td>\n",
              "      <td>20:50:35</td>\n",
              "      <td>UTC</td>\n",
              "      <td>25073877</td>\n",
              "      <td>realdonaldtrump</td>\n",
              "      <td>Donald J. Trump</td>\n",
              "      <td>NaN</td>\n",
              "      <td>[white, house, news, conference, at, pm, easte...</td>\n",
              "      <td>[]</td>\n",
              "      <td>[]</td>\n",
              "      <td>[]</td>\n",
              "      <td>16484</td>\n",
              "      <td>14152</td>\n",
              "      <td>103847</td>\n",
              "      <td>[]</td>\n",
              "      <td>[]</td>\n",
              "      <td>https://twitter.com/realDonaldTrump/status/124...</td>\n",
              "      <td>False</td>\n",
              "      <td>NaN</td>\n",
              "      <td>0</td>\n",
              "      <td>NaN</td>\n",
              "      <td>NaN</td>\n",
              "      <td>NaN</td>\n",
              "      <td>NaN</td>\n",
              "      <td>NaN</td>\n",
              "      <td>NaN</td>\n",
              "      <td>[{'user_id': '25073877', 'username': 'realDona...</td>\n",
              "      <td>NaN</td>\n",
              "      <td>NaN</td>\n",
              "      <td>NaN</td>\n",
              "      <td>NaN</td>\n",
              "      <td>0.00</td>\n",
              "      <td>0.000</td>\n",
              "      <td>0</td>\n",
              "    </tr>\n",
              "    <tr>\n",
              "      <th>1</th>\n",
              "      <td>1244673740866191362</td>\n",
              "      <td>1244673740866191362</td>\n",
              "      <td>1585588319000</td>\n",
              "      <td>2020-03-30</td>\n",
              "      <td>17:11:59</td>\n",
              "      <td>UTC</td>\n",
              "      <td>25073877</td>\n",
              "      <td>realdonaldtrump</td>\n",
              "      <td>Donald J. Trump</td>\n",
              "      <td>NaN</td>\n",
              "      <td>[on, we, recognize, the, remarkable, men, wome...</td>\n",
              "      <td>[]</td>\n",
              "      <td>['https://www.whitehouse.gov/presidential-acti...</td>\n",
              "      <td>[]</td>\n",
              "      <td>10636</td>\n",
              "      <td>18822</td>\n",
              "      <td>77062</td>\n",
              "      <td>['#nationaldoctorsday']</td>\n",
              "      <td>[]</td>\n",
              "      <td>https://twitter.com/realDonaldTrump/status/124...</td>\n",
              "      <td>False</td>\n",
              "      <td>NaN</td>\n",
              "      <td>0</td>\n",
              "      <td>NaN</td>\n",
              "      <td>NaN</td>\n",
              "      <td>NaN</td>\n",
              "      <td>NaN</td>\n",
              "      <td>NaN</td>\n",
              "      <td>NaN</td>\n",
              "      <td>[{'user_id': '25073877', 'username': 'realDona...</td>\n",
              "      <td>NaN</td>\n",
              "      <td>NaN</td>\n",
              "      <td>NaN</td>\n",
              "      <td>NaN</td>\n",
              "      <td>2.25</td>\n",
              "      <td>1.750</td>\n",
              "      <td>1</td>\n",
              "    </tr>\n",
              "    <tr>\n",
              "      <th>2</th>\n",
              "      <td>1244584449309892609</td>\n",
              "      <td>1244584449309892609</td>\n",
              "      <td>1585567030000</td>\n",
              "      <td>2020-03-30</td>\n",
              "      <td>11:17:10</td>\n",
              "      <td>UTC</td>\n",
              "      <td>25073877</td>\n",
              "      <td>realdonaldtrump</td>\n",
              "      <td>Donald J. Trump</td>\n",
              "      <td>NaN</td>\n",
              "      <td>[nancy, pelosi, and, the, democrats, delayed, ...</td>\n",
              "      <td>[]</td>\n",
              "      <td>[]</td>\n",
              "      <td>[]</td>\n",
              "      <td>36794</td>\n",
              "      <td>42337</td>\n",
              "      <td>184864</td>\n",
              "      <td>[]</td>\n",
              "      <td>[]</td>\n",
              "      <td>https://twitter.com/realDonaldTrump/status/124...</td>\n",
              "      <td>False</td>\n",
              "      <td>NaN</td>\n",
              "      <td>0</td>\n",
              "      <td>NaN</td>\n",
              "      <td>NaN</td>\n",
              "      <td>NaN</td>\n",
              "      <td>NaN</td>\n",
              "      <td>NaN</td>\n",
              "      <td>NaN</td>\n",
              "      <td>[{'user_id': '25073877', 'username': 'realDona...</td>\n",
              "      <td>NaN</td>\n",
              "      <td>NaN</td>\n",
              "      <td>NaN</td>\n",
              "      <td>NaN</td>\n",
              "      <td>1.25</td>\n",
              "      <td>1.500</td>\n",
              "      <td>-1</td>\n",
              "    </tr>\n",
              "    <tr>\n",
              "      <th>3</th>\n",
              "      <td>1244581994614398981</td>\n",
              "      <td>1244581994614398981</td>\n",
              "      <td>1585566445000</td>\n",
              "      <td>2020-03-30</td>\n",
              "      <td>11:07:25</td>\n",
              "      <td>UTC</td>\n",
              "      <td>25073877</td>\n",
              "      <td>realdonaldtrump</td>\n",
              "      <td>Donald J. Trump</td>\n",
              "      <td>NaN</td>\n",
              "      <td>[thank, you, dr, hahn, the, fda, for, your, fa...</td>\n",
              "      <td>['mikedewine']</td>\n",
              "      <td>['https://twitter.com/stevefda/status/12444720...</td>\n",
              "      <td>[]</td>\n",
              "      <td>2145</td>\n",
              "      <td>11491</td>\n",
              "      <td>49055</td>\n",
              "      <td>[]</td>\n",
              "      <td>[]</td>\n",
              "      <td>https://twitter.com/realDonaldTrump/status/124...</td>\n",
              "      <td>False</td>\n",
              "      <td>https://twitter.com/SteveFDA/status/1244472087...</td>\n",
              "      <td>0</td>\n",
              "      <td>NaN</td>\n",
              "      <td>NaN</td>\n",
              "      <td>NaN</td>\n",
              "      <td>NaN</td>\n",
              "      <td>NaN</td>\n",
              "      <td>NaN</td>\n",
              "      <td>[{'user_id': '25073877', 'username': 'realDona...</td>\n",
              "      <td>NaN</td>\n",
              "      <td>NaN</td>\n",
              "      <td>NaN</td>\n",
              "      <td>NaN</td>\n",
              "      <td>0.50</td>\n",
              "      <td>0.375</td>\n",
              "      <td>1</td>\n",
              "    </tr>\n",
              "    <tr>\n",
              "      <th>4</th>\n",
              "      <td>1244493463355342848</td>\n",
              "      <td>1244493463355342848</td>\n",
              "      <td>1585545337000</td>\n",
              "      <td>2020-03-30</td>\n",
              "      <td>05:15:37</td>\n",
              "      <td>UTC</td>\n",
              "      <td>25073877</td>\n",
              "      <td>realdonaldtrump</td>\n",
              "      <td>Donald J. Trump</td>\n",
              "      <td>NaN</td>\n",
              "      <td>[will, be, interviewed, on, at, am, usa, strong]</td>\n",
              "      <td>['foxandfriends']</td>\n",
              "      <td>[]</td>\n",
              "      <td>[]</td>\n",
              "      <td>15259</td>\n",
              "      <td>15353</td>\n",
              "      <td>92703</td>\n",
              "      <td>[]</td>\n",
              "      <td>[]</td>\n",
              "      <td>https://twitter.com/realDonaldTrump/status/124...</td>\n",
              "      <td>False</td>\n",
              "      <td>NaN</td>\n",
              "      <td>0</td>\n",
              "      <td>NaN</td>\n",
              "      <td>NaN</td>\n",
              "      <td>NaN</td>\n",
              "      <td>NaN</td>\n",
              "      <td>NaN</td>\n",
              "      <td>NaN</td>\n",
              "      <td>[{'user_id': '25073877', 'username': 'realDona...</td>\n",
              "      <td>NaN</td>\n",
              "      <td>NaN</td>\n",
              "      <td>NaN</td>\n",
              "      <td>NaN</td>\n",
              "      <td>0.25</td>\n",
              "      <td>0.125</td>\n",
              "      <td>1</td>\n",
              "    </tr>\n",
              "  </tbody>\n",
              "</table>\n",
              "</div>"
            ],
            "text/plain": [
              "                    id      conversation_id  ...  neg_score sentiment_score\n",
              "0  1244728753617620994  1244728753617620994  ...      0.000               0\n",
              "1  1244673740866191362  1244673740866191362  ...      1.750               1\n",
              "2  1244584449309892609  1244584449309892609  ...      1.500              -1\n",
              "3  1244581994614398981  1244581994614398981  ...      0.375               1\n",
              "4  1244493463355342848  1244493463355342848  ...      0.125               1\n",
              "\n",
              "[5 rows x 37 columns]"
            ]
          },
          "metadata": {
            "tags": []
          },
          "execution_count": 28
        }
      ]
    },
    {
      "cell_type": "code",
      "metadata": {
        "id": "R9oqZjLibPFq",
        "colab_type": "code",
        "colab": {
          "base_uri": "https://localhost:8080/",
          "height": 225
        },
        "outputId": "2e495325-e522-4436-a937-b70172b2ddcb"
      },
      "source": [
        "data['tweet']"
      ],
      "execution_count": 29,
      "outputs": [
        {
          "output_type": "execute_result",
          "data": {
            "text/plain": [
              "0      [white, house, news, conference, at, pm, easte...\n",
              "1      [on, we, recognize, the, remarkable, men, wome...\n",
              "2      [nancy, pelosi, and, the, democrats, delayed, ...\n",
              "3      [thank, you, dr, hahn, the, fda, for, your, fa...\n",
              "4       [will, be, interviewed, on, at, am, usa, strong]\n",
              "                             ...                        \n",
              "380    [i, would, find, it, hard, to, believe, that, ...\n",
              "381    [tom, steyer, who, other, than, mini, mike, bl...\n",
              "382            [congratulations, to, sleepy, joe, biden]\n",
              "383    [democrats, are, working, hard, to, destroy, t...\n",
              "384    [sleepy, joe, biden, s, victory, in, the, sout...\n",
              "Name: tweet, Length: 385, dtype: object"
            ]
          },
          "metadata": {
            "tags": []
          },
          "execution_count": 29
        }
      ]
    },
    {
      "cell_type": "markdown",
      "metadata": {
        "id": "qZmHzXb2bPFt",
        "colab_type": "text"
      },
      "source": [
        "**REMOVING STOP WORDS**"
      ]
    },
    {
      "cell_type": "code",
      "metadata": {
        "id": "ZN80HnsjbPFt",
        "colab_type": "code",
        "colab": {}
      },
      "source": [
        "stopword = nltk.corpus.stopwords.words('english')"
      ],
      "execution_count": 0,
      "outputs": []
    },
    {
      "cell_type": "code",
      "metadata": {
        "id": "cO-IXRVcbPFw",
        "colab_type": "code",
        "colab": {
          "base_uri": "https://localhost:8080/",
          "height": 225
        },
        "outputId": "fcb6f916-5341-42a1-a32d-4fead0815941"
      },
      "source": [
        "def remove_stopwords(text):\n",
        "    text = [word for word in text if word not in stopword]\n",
        "    return text\n",
        "    \n",
        "data['tweet'] = data['tweet'].apply(lambda x: remove_stopwords(x))\n",
        "data['tweet']"
      ],
      "execution_count": 31,
      "outputs": [
        {
          "output_type": "execute_result",
          "data": {
            "text/plain": [
              "0      [white, house, news, conference, pm, eastern, ...\n",
              "1      [recognize, remarkable, men, women, treat, fel...\n",
              "2      [nancy, pelosi, democrats, delayed, workers, h...\n",
              "3      [thank, dr, hahn, fda, fast, approval, respect...\n",
              "4                             [interviewed, usa, strong]\n",
              "                             ...                        \n",
              "380    [would, find, hard, believe, failed, president...\n",
              "381    [tom, steyer, mini, mike, bloomberg, spent, do...\n",
              "382                [congratulations, sleepy, joe, biden]\n",
              "383    [democrats, working, hard, destroy, name, repu...\n",
              "384    [sleepy, joe, biden, victory, south, carolina,...\n",
              "Name: tweet, Length: 385, dtype: object"
            ]
          },
          "metadata": {
            "tags": []
          },
          "execution_count": 31
        }
      ]
    },
    {
      "cell_type": "markdown",
      "metadata": {
        "id": "aE-B6EGdbPFz",
        "colab_type": "text"
      },
      "source": [
        "**DOING STEMMING**"
      ]
    },
    {
      "cell_type": "code",
      "metadata": {
        "id": "cZBSENfBbPFz",
        "colab_type": "code",
        "colab": {
          "base_uri": "https://localhost:8080/",
          "height": 225
        },
        "outputId": "7775a621-dc2d-45f1-c0c8-9dad00669d76"
      },
      "source": [
        "ps = nltk.PorterStemmer()\n",
        "\n",
        "def stemming(text):\n",
        "    text = [ps.stem(word) for word in text]\n",
        "    return text\n",
        "\n",
        "data['tweet'] = data['tweet'].apply(lambda x: stemming(x))\n",
        "data['tweet']"
      ],
      "execution_count": 32,
      "outputs": [
        {
          "output_type": "execute_result",
          "data": {
            "text/plain": [
              "0        [white, hous, news, confer, pm, eastern, thank]\n",
              "1      [recogn, remark, men, women, treat, fellow, am...\n",
              "2      [nanci, pelosi, democrat, delay, worker, helps...\n",
              "3      [thank, dr, hahn, fda, fast, approv, respect, ...\n",
              "4                               [interview, usa, strong]\n",
              "                             ...                        \n",
              "380    [would, find, hard, believ, fail, presidenti, ...\n",
              "381    [tom, steyer, mini, mike, bloomberg, spent, do...\n",
              "382                      [congratul, sleepi, joe, biden]\n",
              "383    [democrat, work, hard, destroy, name, reput, c...\n",
              "384    [sleepi, joe, biden, victori, south, carolina,...\n",
              "Name: tweet, Length: 385, dtype: object"
            ]
          },
          "metadata": {
            "tags": []
          },
          "execution_count": 32
        }
      ]
    },
    {
      "cell_type": "markdown",
      "metadata": {
        "id": "eQyfYCLebPF2",
        "colab_type": "text"
      },
      "source": [
        "**DOING LEMMATIZATION** "
      ]
    },
    {
      "cell_type": "code",
      "metadata": {
        "id": "AHiNGNGIbPF2",
        "colab_type": "code",
        "colab": {
          "base_uri": "https://localhost:8080/",
          "height": 69
        },
        "outputId": "6296e00f-4333-41a5-9230-f2994b800b2b"
      },
      "source": [
        "import nltk\n",
        "nltk.download('wordnet')"
      ],
      "execution_count": 33,
      "outputs": [
        {
          "output_type": "stream",
          "text": [
            "[nltk_data] Downloading package wordnet to /root/nltk_data...\n",
            "[nltk_data]   Package wordnet is already up-to-date!\n"
          ],
          "name": "stdout"
        },
        {
          "output_type": "execute_result",
          "data": {
            "text/plain": [
              "True"
            ]
          },
          "metadata": {
            "tags": []
          },
          "execution_count": 33
        }
      ]
    },
    {
      "cell_type": "code",
      "metadata": {
        "id": "3J689PWsbPF5",
        "colab_type": "code",
        "colab": {
          "base_uri": "https://localhost:8080/",
          "height": 225
        },
        "outputId": "158d0ec0-ad7d-4d6a-f30b-6b98a54170eb"
      },
      "source": [
        "wn = nltk.WordNetLemmatizer()\n",
        "\n",
        "def lemmatizer(text):\n",
        "    text = [wn.lemmatize(word) for word in text]\n",
        "    return text\n",
        "\n",
        "data['tweet'] = data['tweet'].apply(lambda x: lemmatizer(x))\n",
        "data['tweet']"
      ],
      "execution_count": 34,
      "outputs": [
        {
          "output_type": "execute_result",
          "data": {
            "text/plain": [
              "0        [white, hous, news, confer, pm, eastern, thank]\n",
              "1      [recogn, remark, men, woman, treat, fellow, am...\n",
              "2      [nanci, pelosi, democrat, delay, worker, helps...\n",
              "3      [thank, dr, hahn, fda, fast, approv, respect, ...\n",
              "4                               [interview, usa, strong]\n",
              "                             ...                        \n",
              "380    [would, find, hard, believ, fail, presidenti, ...\n",
              "381    [tom, steyer, mini, mike, bloomberg, spent, do...\n",
              "382                      [congratul, sleepi, joe, biden]\n",
              "383    [democrat, work, hard, destroy, name, reput, c...\n",
              "384    [sleepi, joe, biden, victori, south, carolina,...\n",
              "Name: tweet, Length: 385, dtype: object"
            ]
          },
          "metadata": {
            "tags": []
          },
          "execution_count": 34
        }
      ]
    },
    {
      "cell_type": "code",
      "metadata": {
        "id": "yVZqs1OxbPF8",
        "colab_type": "code",
        "colab": {
          "base_uri": "https://localhost:8080/",
          "height": 407
        },
        "outputId": "9dc7025b-9a9c-4a33-eee3-76813e587bfb"
      },
      "source": [
        "data[['tweet']]"
      ],
      "execution_count": 35,
      "outputs": [
        {
          "output_type": "execute_result",
          "data": {
            "text/html": [
              "<div>\n",
              "<style scoped>\n",
              "    .dataframe tbody tr th:only-of-type {\n",
              "        vertical-align: middle;\n",
              "    }\n",
              "\n",
              "    .dataframe tbody tr th {\n",
              "        vertical-align: top;\n",
              "    }\n",
              "\n",
              "    .dataframe thead th {\n",
              "        text-align: right;\n",
              "    }\n",
              "</style>\n",
              "<table border=\"1\" class=\"dataframe\">\n",
              "  <thead>\n",
              "    <tr style=\"text-align: right;\">\n",
              "      <th></th>\n",
              "      <th>tweet</th>\n",
              "    </tr>\n",
              "  </thead>\n",
              "  <tbody>\n",
              "    <tr>\n",
              "      <th>0</th>\n",
              "      <td>[white, hous, news, confer, pm, eastern, thank]</td>\n",
              "    </tr>\n",
              "    <tr>\n",
              "      <th>1</th>\n",
              "      <td>[recogn, remark, men, woman, treat, fellow, am...</td>\n",
              "    </tr>\n",
              "    <tr>\n",
              "      <th>2</th>\n",
              "      <td>[nanci, pelosi, democrat, delay, worker, helps...</td>\n",
              "    </tr>\n",
              "    <tr>\n",
              "      <th>3</th>\n",
              "      <td>[thank, dr, hahn, fda, fast, approv, respect, ...</td>\n",
              "    </tr>\n",
              "    <tr>\n",
              "      <th>4</th>\n",
              "      <td>[interview, usa, strong]</td>\n",
              "    </tr>\n",
              "    <tr>\n",
              "      <th>...</th>\n",
              "      <td>...</td>\n",
              "    </tr>\n",
              "    <tr>\n",
              "      <th>380</th>\n",
              "      <td>[would, find, hard, believ, fail, presidenti, ...</td>\n",
              "    </tr>\n",
              "    <tr>\n",
              "      <th>381</th>\n",
              "      <td>[tom, steyer, mini, mike, bloomberg, spent, do...</td>\n",
              "    </tr>\n",
              "    <tr>\n",
              "      <th>382</th>\n",
              "      <td>[congratul, sleepi, joe, biden]</td>\n",
              "    </tr>\n",
              "    <tr>\n",
              "      <th>383</th>\n",
              "      <td>[democrat, work, hard, destroy, name, reput, c...</td>\n",
              "    </tr>\n",
              "    <tr>\n",
              "      <th>384</th>\n",
              "      <td>[sleepi, joe, biden, victori, south, carolina,...</td>\n",
              "    </tr>\n",
              "  </tbody>\n",
              "</table>\n",
              "<p>385 rows × 1 columns</p>\n",
              "</div>"
            ],
            "text/plain": [
              "                                                 tweet\n",
              "0      [white, hous, news, confer, pm, eastern, thank]\n",
              "1    [recogn, remark, men, woman, treat, fellow, am...\n",
              "2    [nanci, pelosi, democrat, delay, worker, helps...\n",
              "3    [thank, dr, hahn, fda, fast, approv, respect, ...\n",
              "4                             [interview, usa, strong]\n",
              "..                                                 ...\n",
              "380  [would, find, hard, believ, fail, presidenti, ...\n",
              "381  [tom, steyer, mini, mike, bloomberg, spent, do...\n",
              "382                    [congratul, sleepi, joe, biden]\n",
              "383  [democrat, work, hard, destroy, name, reput, c...\n",
              "384  [sleepi, joe, biden, victori, south, carolina,...\n",
              "\n",
              "[385 rows x 1 columns]"
            ]
          },
          "metadata": {
            "tags": []
          },
          "execution_count": 35
        }
      ]
    },
    {
      "cell_type": "markdown",
      "metadata": {
        "id": "4q4ezPiZbPGA",
        "colab_type": "text"
      },
      "source": [
        "**JOINING THE WORDS TO CREATE A SENTENCE BACK AGAIN** "
      ]
    },
    {
      "cell_type": "code",
      "metadata": {
        "scrolled": true,
        "id": "0VuzFZBSbPGB",
        "colab_type": "code",
        "colab": {
          "base_uri": "https://localhost:8080/",
          "height": 225
        },
        "outputId": "22e80545-381e-489e-c80f-afbbdd441af6"
      },
      "source": [
        "data['tweet']=data['tweet'].str.join(\" \")\n",
        "data['tweet']"
      ],
      "execution_count": 36,
      "outputs": [
        {
          "output_type": "execute_result",
          "data": {
            "text/plain": [
              "0                white hous news confer pm eastern thank\n",
              "1      recogn remark men woman treat fellow american ...\n",
              "2      nanci pelosi democrat delay worker helpstimulu...\n",
              "3      thank dr hahn fda fast approv respect ohio com...\n",
              "4                                   interview usa strong\n",
              "                             ...                        \n",
              "380    would find hard believ fail presidenti candid ...\n",
              "381    tom steyer mini mike bloomberg spent dollar no...\n",
              "382                           congratul sleepi joe biden\n",
              "383    democrat work hard destroy name reput crazi be...\n",
              "384    sleepi joe biden victori south carolina democr...\n",
              "Name: tweet, Length: 385, dtype: object"
            ]
          },
          "metadata": {
            "tags": []
          },
          "execution_count": 36
        }
      ]
    },
    {
      "cell_type": "markdown",
      "metadata": {
        "id": "nh_wlCfwbPGE",
        "colab_type": "text"
      },
      "source": [
        "**REMOVING DUPLICATE WORDS**"
      ]
    },
    {
      "cell_type": "code",
      "metadata": {
        "id": "lZGQmQNsbPGF",
        "colab_type": "code",
        "colab": {}
      },
      "source": [
        "from collections import OrderedDict"
      ],
      "execution_count": 0,
      "outputs": []
    },
    {
      "cell_type": "code",
      "metadata": {
        "id": "n2sZx86JbPGH",
        "colab_type": "code",
        "colab": {
          "base_uri": "https://localhost:8080/",
          "height": 1000
        },
        "outputId": "f745d231-3cf5-4e73-9d57-608990ea33cc"
      },
      "source": [
        "data['tweet'] = (data['tweet'].str.split().apply(lambda x: OrderedDict.fromkeys(x).keys()).str.join(' '))\n",
        "data\n"
      ],
      "execution_count": 38,
      "outputs": [
        {
          "output_type": "execute_result",
          "data": {
            "text/html": [
              "<div>\n",
              "<style scoped>\n",
              "    .dataframe tbody tr th:only-of-type {\n",
              "        vertical-align: middle;\n",
              "    }\n",
              "\n",
              "    .dataframe tbody tr th {\n",
              "        vertical-align: top;\n",
              "    }\n",
              "\n",
              "    .dataframe thead th {\n",
              "        text-align: right;\n",
              "    }\n",
              "</style>\n",
              "<table border=\"1\" class=\"dataframe\">\n",
              "  <thead>\n",
              "    <tr style=\"text-align: right;\">\n",
              "      <th></th>\n",
              "      <th>id</th>\n",
              "      <th>conversation_id</th>\n",
              "      <th>created_at</th>\n",
              "      <th>date</th>\n",
              "      <th>time</th>\n",
              "      <th>timezone</th>\n",
              "      <th>user_id</th>\n",
              "      <th>username</th>\n",
              "      <th>name</th>\n",
              "      <th>place</th>\n",
              "      <th>tweet</th>\n",
              "      <th>mentions</th>\n",
              "      <th>urls</th>\n",
              "      <th>photos</th>\n",
              "      <th>replies_count</th>\n",
              "      <th>retweets_count</th>\n",
              "      <th>likes_count</th>\n",
              "      <th>hashtags</th>\n",
              "      <th>cashtags</th>\n",
              "      <th>link</th>\n",
              "      <th>retweet</th>\n",
              "      <th>quote_url</th>\n",
              "      <th>video</th>\n",
              "      <th>near</th>\n",
              "      <th>geo</th>\n",
              "      <th>source</th>\n",
              "      <th>user_rt_id</th>\n",
              "      <th>user_rt</th>\n",
              "      <th>retweet_id</th>\n",
              "      <th>reply_to</th>\n",
              "      <th>retweet_date</th>\n",
              "      <th>translate</th>\n",
              "      <th>trans_src</th>\n",
              "      <th>trans_dest</th>\n",
              "      <th>pos_score</th>\n",
              "      <th>neg_score</th>\n",
              "      <th>sentiment_score</th>\n",
              "    </tr>\n",
              "  </thead>\n",
              "  <tbody>\n",
              "    <tr>\n",
              "      <th>0</th>\n",
              "      <td>1244728753617620994</td>\n",
              "      <td>1244728753617620994</td>\n",
              "      <td>1585601435000</td>\n",
              "      <td>2020-03-30</td>\n",
              "      <td>20:50:35</td>\n",
              "      <td>UTC</td>\n",
              "      <td>25073877</td>\n",
              "      <td>realdonaldtrump</td>\n",
              "      <td>Donald J. Trump</td>\n",
              "      <td>NaN</td>\n",
              "      <td>white hous news confer pm eastern thank</td>\n",
              "      <td>[]</td>\n",
              "      <td>[]</td>\n",
              "      <td>[]</td>\n",
              "      <td>16484</td>\n",
              "      <td>14152</td>\n",
              "      <td>103847</td>\n",
              "      <td>[]</td>\n",
              "      <td>[]</td>\n",
              "      <td>https://twitter.com/realDonaldTrump/status/124...</td>\n",
              "      <td>False</td>\n",
              "      <td>NaN</td>\n",
              "      <td>0</td>\n",
              "      <td>NaN</td>\n",
              "      <td>NaN</td>\n",
              "      <td>NaN</td>\n",
              "      <td>NaN</td>\n",
              "      <td>NaN</td>\n",
              "      <td>NaN</td>\n",
              "      <td>[{'user_id': '25073877', 'username': 'realDona...</td>\n",
              "      <td>NaN</td>\n",
              "      <td>NaN</td>\n",
              "      <td>NaN</td>\n",
              "      <td>NaN</td>\n",
              "      <td>0.000</td>\n",
              "      <td>0.000</td>\n",
              "      <td>0</td>\n",
              "    </tr>\n",
              "    <tr>\n",
              "      <th>1</th>\n",
              "      <td>1244673740866191362</td>\n",
              "      <td>1244673740866191362</td>\n",
              "      <td>1585588319000</td>\n",
              "      <td>2020-03-30</td>\n",
              "      <td>17:11:59</td>\n",
              "      <td>UTC</td>\n",
              "      <td>25073877</td>\n",
              "      <td>realdonaldtrump</td>\n",
              "      <td>Donald J. Trump</td>\n",
              "      <td>NaN</td>\n",
              "      <td>recogn remark men woman treat fellow american ...</td>\n",
              "      <td>[]</td>\n",
              "      <td>['https://www.whitehouse.gov/presidential-acti...</td>\n",
              "      <td>[]</td>\n",
              "      <td>10636</td>\n",
              "      <td>18822</td>\n",
              "      <td>77062</td>\n",
              "      <td>['#nationaldoctorsday']</td>\n",
              "      <td>[]</td>\n",
              "      <td>https://twitter.com/realDonaldTrump/status/124...</td>\n",
              "      <td>False</td>\n",
              "      <td>NaN</td>\n",
              "      <td>0</td>\n",
              "      <td>NaN</td>\n",
              "      <td>NaN</td>\n",
              "      <td>NaN</td>\n",
              "      <td>NaN</td>\n",
              "      <td>NaN</td>\n",
              "      <td>NaN</td>\n",
              "      <td>[{'user_id': '25073877', 'username': 'realDona...</td>\n",
              "      <td>NaN</td>\n",
              "      <td>NaN</td>\n",
              "      <td>NaN</td>\n",
              "      <td>NaN</td>\n",
              "      <td>2.250</td>\n",
              "      <td>1.750</td>\n",
              "      <td>1</td>\n",
              "    </tr>\n",
              "    <tr>\n",
              "      <th>2</th>\n",
              "      <td>1244584449309892609</td>\n",
              "      <td>1244584449309892609</td>\n",
              "      <td>1585567030000</td>\n",
              "      <td>2020-03-30</td>\n",
              "      <td>11:17:10</td>\n",
              "      <td>UTC</td>\n",
              "      <td>25073877</td>\n",
              "      <td>realdonaldtrump</td>\n",
              "      <td>Donald J. Trump</td>\n",
              "      <td>NaN</td>\n",
              "      <td>nanci pelosi democrat delay worker helpstimulu...</td>\n",
              "      <td>[]</td>\n",
              "      <td>[]</td>\n",
              "      <td>[]</td>\n",
              "      <td>36794</td>\n",
              "      <td>42337</td>\n",
              "      <td>184864</td>\n",
              "      <td>[]</td>\n",
              "      <td>[]</td>\n",
              "      <td>https://twitter.com/realDonaldTrump/status/124...</td>\n",
              "      <td>False</td>\n",
              "      <td>NaN</td>\n",
              "      <td>0</td>\n",
              "      <td>NaN</td>\n",
              "      <td>NaN</td>\n",
              "      <td>NaN</td>\n",
              "      <td>NaN</td>\n",
              "      <td>NaN</td>\n",
              "      <td>NaN</td>\n",
              "      <td>[{'user_id': '25073877', 'username': 'realDona...</td>\n",
              "      <td>NaN</td>\n",
              "      <td>NaN</td>\n",
              "      <td>NaN</td>\n",
              "      <td>NaN</td>\n",
              "      <td>1.250</td>\n",
              "      <td>1.500</td>\n",
              "      <td>-1</td>\n",
              "    </tr>\n",
              "    <tr>\n",
              "      <th>3</th>\n",
              "      <td>1244581994614398981</td>\n",
              "      <td>1244581994614398981</td>\n",
              "      <td>1585566445000</td>\n",
              "      <td>2020-03-30</td>\n",
              "      <td>11:07:25</td>\n",
              "      <td>UTC</td>\n",
              "      <td>25073877</td>\n",
              "      <td>realdonaldtrump</td>\n",
              "      <td>Donald J. Trump</td>\n",
              "      <td>NaN</td>\n",
              "      <td>thank dr hahn fda fast approv respect ohio com...</td>\n",
              "      <td>['mikedewine']</td>\n",
              "      <td>['https://twitter.com/stevefda/status/12444720...</td>\n",
              "      <td>[]</td>\n",
              "      <td>2145</td>\n",
              "      <td>11491</td>\n",
              "      <td>49055</td>\n",
              "      <td>[]</td>\n",
              "      <td>[]</td>\n",
              "      <td>https://twitter.com/realDonaldTrump/status/124...</td>\n",
              "      <td>False</td>\n",
              "      <td>https://twitter.com/SteveFDA/status/1244472087...</td>\n",
              "      <td>0</td>\n",
              "      <td>NaN</td>\n",
              "      <td>NaN</td>\n",
              "      <td>NaN</td>\n",
              "      <td>NaN</td>\n",
              "      <td>NaN</td>\n",
              "      <td>NaN</td>\n",
              "      <td>[{'user_id': '25073877', 'username': 'realDona...</td>\n",
              "      <td>NaN</td>\n",
              "      <td>NaN</td>\n",
              "      <td>NaN</td>\n",
              "      <td>NaN</td>\n",
              "      <td>0.500</td>\n",
              "      <td>0.375</td>\n",
              "      <td>1</td>\n",
              "    </tr>\n",
              "    <tr>\n",
              "      <th>4</th>\n",
              "      <td>1244493463355342848</td>\n",
              "      <td>1244493463355342848</td>\n",
              "      <td>1585545337000</td>\n",
              "      <td>2020-03-30</td>\n",
              "      <td>05:15:37</td>\n",
              "      <td>UTC</td>\n",
              "      <td>25073877</td>\n",
              "      <td>realdonaldtrump</td>\n",
              "      <td>Donald J. Trump</td>\n",
              "      <td>NaN</td>\n",
              "      <td>interview usa strong</td>\n",
              "      <td>['foxandfriends']</td>\n",
              "      <td>[]</td>\n",
              "      <td>[]</td>\n",
              "      <td>15259</td>\n",
              "      <td>15353</td>\n",
              "      <td>92703</td>\n",
              "      <td>[]</td>\n",
              "      <td>[]</td>\n",
              "      <td>https://twitter.com/realDonaldTrump/status/124...</td>\n",
              "      <td>False</td>\n",
              "      <td>NaN</td>\n",
              "      <td>0</td>\n",
              "      <td>NaN</td>\n",
              "      <td>NaN</td>\n",
              "      <td>NaN</td>\n",
              "      <td>NaN</td>\n",
              "      <td>NaN</td>\n",
              "      <td>NaN</td>\n",
              "      <td>[{'user_id': '25073877', 'username': 'realDona...</td>\n",
              "      <td>NaN</td>\n",
              "      <td>NaN</td>\n",
              "      <td>NaN</td>\n",
              "      <td>NaN</td>\n",
              "      <td>0.250</td>\n",
              "      <td>0.125</td>\n",
              "      <td>1</td>\n",
              "    </tr>\n",
              "    <tr>\n",
              "      <th>...</th>\n",
              "      <td>...</td>\n",
              "      <td>...</td>\n",
              "      <td>...</td>\n",
              "      <td>...</td>\n",
              "      <td>...</td>\n",
              "      <td>...</td>\n",
              "      <td>...</td>\n",
              "      <td>...</td>\n",
              "      <td>...</td>\n",
              "      <td>...</td>\n",
              "      <td>...</td>\n",
              "      <td>...</td>\n",
              "      <td>...</td>\n",
              "      <td>...</td>\n",
              "      <td>...</td>\n",
              "      <td>...</td>\n",
              "      <td>...</td>\n",
              "      <td>...</td>\n",
              "      <td>...</td>\n",
              "      <td>...</td>\n",
              "      <td>...</td>\n",
              "      <td>...</td>\n",
              "      <td>...</td>\n",
              "      <td>...</td>\n",
              "      <td>...</td>\n",
              "      <td>...</td>\n",
              "      <td>...</td>\n",
              "      <td>...</td>\n",
              "      <td>...</td>\n",
              "      <td>...</td>\n",
              "      <td>...</td>\n",
              "      <td>...</td>\n",
              "      <td>...</td>\n",
              "      <td>...</td>\n",
              "      <td>...</td>\n",
              "      <td>...</td>\n",
              "      <td>...</td>\n",
              "    </tr>\n",
              "    <tr>\n",
              "      <th>380</th>\n",
              "      <td>1233990259802767360</td>\n",
              "      <td>1233990259802767360</td>\n",
              "      <td>1583041179000</td>\n",
              "      <td>2020-03-01</td>\n",
              "      <td>05:39:39</td>\n",
              "      <td>UTC</td>\n",
              "      <td>25073877</td>\n",
              "      <td>realdonaldtrump</td>\n",
              "      <td>Donald J. Trump</td>\n",
              "      <td>NaN</td>\n",
              "      <td>would find hard believ fail presidenti candid ...</td>\n",
              "      <td>[]</td>\n",
              "      <td>[]</td>\n",
              "      <td>[]</td>\n",
              "      <td>15157</td>\n",
              "      <td>18587</td>\n",
              "      <td>91078</td>\n",
              "      <td>[]</td>\n",
              "      <td>[]</td>\n",
              "      <td>https://twitter.com/realDonaldTrump/status/123...</td>\n",
              "      <td>False</td>\n",
              "      <td>NaN</td>\n",
              "      <td>0</td>\n",
              "      <td>NaN</td>\n",
              "      <td>NaN</td>\n",
              "      <td>NaN</td>\n",
              "      <td>NaN</td>\n",
              "      <td>NaN</td>\n",
              "      <td>NaN</td>\n",
              "      <td>[{'user_id': '25073877', 'username': 'realDona...</td>\n",
              "      <td>NaN</td>\n",
              "      <td>NaN</td>\n",
              "      <td>NaN</td>\n",
              "      <td>NaN</td>\n",
              "      <td>1.250</td>\n",
              "      <td>1.625</td>\n",
              "      <td>-1</td>\n",
              "    </tr>\n",
              "    <tr>\n",
              "      <th>381</th>\n",
              "      <td>1233987865350148097</td>\n",
              "      <td>1233987865350148097</td>\n",
              "      <td>1583040608000</td>\n",
              "      <td>2020-03-01</td>\n",
              "      <td>05:30:08</td>\n",
              "      <td>UTC</td>\n",
              "      <td>25073877</td>\n",
              "      <td>realdonaldtrump</td>\n",
              "      <td>Donald J. Trump</td>\n",
              "      <td>NaN</td>\n",
              "      <td>tom steyer mini mike bloomberg spent dollar no...</td>\n",
              "      <td>[]</td>\n",
              "      <td>[]</td>\n",
              "      <td>[]</td>\n",
              "      <td>7594</td>\n",
              "      <td>16391</td>\n",
              "      <td>79552</td>\n",
              "      <td>[]</td>\n",
              "      <td>[]</td>\n",
              "      <td>https://twitter.com/realDonaldTrump/status/123...</td>\n",
              "      <td>False</td>\n",
              "      <td>NaN</td>\n",
              "      <td>0</td>\n",
              "      <td>NaN</td>\n",
              "      <td>NaN</td>\n",
              "      <td>NaN</td>\n",
              "      <td>NaN</td>\n",
              "      <td>NaN</td>\n",
              "      <td>NaN</td>\n",
              "      <td>[{'user_id': '25073877', 'username': 'realDona...</td>\n",
              "      <td>NaN</td>\n",
              "      <td>NaN</td>\n",
              "      <td>NaN</td>\n",
              "      <td>NaN</td>\n",
              "      <td>2.194</td>\n",
              "      <td>1.931</td>\n",
              "      <td>1</td>\n",
              "    </tr>\n",
              "    <tr>\n",
              "      <th>382</th>\n",
              "      <td>1233977649552384005</td>\n",
              "      <td>1233977649552384005</td>\n",
              "      <td>1583038172000</td>\n",
              "      <td>2020-03-01</td>\n",
              "      <td>04:49:32</td>\n",
              "      <td>UTC</td>\n",
              "      <td>25073877</td>\n",
              "      <td>realdonaldtrump</td>\n",
              "      <td>Donald J. Trump</td>\n",
              "      <td>NaN</td>\n",
              "      <td>congratul sleepi joe biden</td>\n",
              "      <td>[]</td>\n",
              "      <td>[]</td>\n",
              "      <td>[]</td>\n",
              "      <td>8542</td>\n",
              "      <td>11370</td>\n",
              "      <td>79091</td>\n",
              "      <td>[]</td>\n",
              "      <td>[]</td>\n",
              "      <td>https://twitter.com/realDonaldTrump/status/123...</td>\n",
              "      <td>False</td>\n",
              "      <td>NaN</td>\n",
              "      <td>0</td>\n",
              "      <td>NaN</td>\n",
              "      <td>NaN</td>\n",
              "      <td>NaN</td>\n",
              "      <td>NaN</td>\n",
              "      <td>NaN</td>\n",
              "      <td>NaN</td>\n",
              "      <td>[{'user_id': '25073877', 'username': 'realDona...</td>\n",
              "      <td>NaN</td>\n",
              "      <td>NaN</td>\n",
              "      <td>NaN</td>\n",
              "      <td>NaN</td>\n",
              "      <td>1.000</td>\n",
              "      <td>0.000</td>\n",
              "      <td>1</td>\n",
              "    </tr>\n",
              "    <tr>\n",
              "      <th>383</th>\n",
              "      <td>1233976658572566529</td>\n",
              "      <td>1233976658572566529</td>\n",
              "      <td>1583037936000</td>\n",
              "      <td>2020-03-01</td>\n",
              "      <td>04:45:36</td>\n",
              "      <td>UTC</td>\n",
              "      <td>25073877</td>\n",
              "      <td>realdonaldtrump</td>\n",
              "      <td>Donald J. Trump</td>\n",
              "      <td>NaN</td>\n",
              "      <td>democrat work hard destroy name reput crazi be...</td>\n",
              "      <td>[]</td>\n",
              "      <td>[]</td>\n",
              "      <td>[]</td>\n",
              "      <td>10551</td>\n",
              "      <td>16561</td>\n",
              "      <td>90641</td>\n",
              "      <td>[]</td>\n",
              "      <td>[]</td>\n",
              "      <td>https://twitter.com/realDonaldTrump/status/123...</td>\n",
              "      <td>False</td>\n",
              "      <td>NaN</td>\n",
              "      <td>0</td>\n",
              "      <td>NaN</td>\n",
              "      <td>NaN</td>\n",
              "      <td>NaN</td>\n",
              "      <td>NaN</td>\n",
              "      <td>NaN</td>\n",
              "      <td>NaN</td>\n",
              "      <td>[{'user_id': '25073877', 'username': 'realDona...</td>\n",
              "      <td>NaN</td>\n",
              "      <td>NaN</td>\n",
              "      <td>NaN</td>\n",
              "      <td>NaN</td>\n",
              "      <td>0.625</td>\n",
              "      <td>0.500</td>\n",
              "      <td>1</td>\n",
              "    </tr>\n",
              "    <tr>\n",
              "      <th>384</th>\n",
              "      <td>1233908953026908161</td>\n",
              "      <td>1233908953026908161</td>\n",
              "      <td>1583021793000</td>\n",
              "      <td>2020-03-01</td>\n",
              "      <td>00:16:33</td>\n",
              "      <td>UTC</td>\n",
              "      <td>25073877</td>\n",
              "      <td>realdonaldtrump</td>\n",
              "      <td>Donald J. Trump</td>\n",
              "      <td>NaN</td>\n",
              "      <td>sleepi joe biden victori south carolina democr...</td>\n",
              "      <td>[]</td>\n",
              "      <td>[]</td>\n",
              "      <td>[]</td>\n",
              "      <td>15578</td>\n",
              "      <td>18408</td>\n",
              "      <td>90203</td>\n",
              "      <td>[]</td>\n",
              "      <td>[]</td>\n",
              "      <td>https://twitter.com/realDonaldTrump/status/123...</td>\n",
              "      <td>False</td>\n",
              "      <td>NaN</td>\n",
              "      <td>0</td>\n",
              "      <td>NaN</td>\n",
              "      <td>NaN</td>\n",
              "      <td>NaN</td>\n",
              "      <td>NaN</td>\n",
              "      <td>NaN</td>\n",
              "      <td>NaN</td>\n",
              "      <td>[{'user_id': '25073877', 'username': 'realDona...</td>\n",
              "      <td>NaN</td>\n",
              "      <td>NaN</td>\n",
              "      <td>NaN</td>\n",
              "      <td>NaN</td>\n",
              "      <td>1.625</td>\n",
              "      <td>1.125</td>\n",
              "      <td>1</td>\n",
              "    </tr>\n",
              "  </tbody>\n",
              "</table>\n",
              "<p>385 rows × 37 columns</p>\n",
              "</div>"
            ],
            "text/plain": [
              "                      id      conversation_id  ...  neg_score sentiment_score\n",
              "0    1244728753617620994  1244728753617620994  ...      0.000               0\n",
              "1    1244673740866191362  1244673740866191362  ...      1.750               1\n",
              "2    1244584449309892609  1244584449309892609  ...      1.500              -1\n",
              "3    1244581994614398981  1244581994614398981  ...      0.375               1\n",
              "4    1244493463355342848  1244493463355342848  ...      0.125               1\n",
              "..                   ...                  ...  ...        ...             ...\n",
              "380  1233990259802767360  1233990259802767360  ...      1.625              -1\n",
              "381  1233987865350148097  1233987865350148097  ...      1.931               1\n",
              "382  1233977649552384005  1233977649552384005  ...      0.000               1\n",
              "383  1233976658572566529  1233976658572566529  ...      0.500               1\n",
              "384  1233908953026908161  1233908953026908161  ...      1.125               1\n",
              "\n",
              "[385 rows x 37 columns]"
            ]
          },
          "metadata": {
            "tags": []
          },
          "execution_count": 38
        }
      ]
    },
    {
      "cell_type": "markdown",
      "metadata": {
        "id": "CMaDCgGYbPGJ",
        "colab_type": "text"
      },
      "source": [
        "**MAKING NEW DATAFRAME FOR OPERATION** "
      ]
    },
    {
      "cell_type": "code",
      "metadata": {
        "id": "H-ye4OvWbPGK",
        "colab_type": "code",
        "colab": {}
      },
      "source": [
        "new_data=data[['tweet','likes_count','replies_count','pos_score','neg_score','sentiment_score']]"
      ],
      "execution_count": 0,
      "outputs": []
    },
    {
      "cell_type": "code",
      "metadata": {
        "id": "H31L403-bPGN",
        "colab_type": "code",
        "colab": {
          "base_uri": "https://localhost:8080/",
          "height": 545
        },
        "outputId": "940e8ead-43ea-4d13-bd2c-5a8758b513d3"
      },
      "source": [
        "new_data"
      ],
      "execution_count": 40,
      "outputs": [
        {
          "output_type": "execute_result",
          "data": {
            "text/html": [
              "<div>\n",
              "<style scoped>\n",
              "    .dataframe tbody tr th:only-of-type {\n",
              "        vertical-align: middle;\n",
              "    }\n",
              "\n",
              "    .dataframe tbody tr th {\n",
              "        vertical-align: top;\n",
              "    }\n",
              "\n",
              "    .dataframe thead th {\n",
              "        text-align: right;\n",
              "    }\n",
              "</style>\n",
              "<table border=\"1\" class=\"dataframe\">\n",
              "  <thead>\n",
              "    <tr style=\"text-align: right;\">\n",
              "      <th></th>\n",
              "      <th>tweet</th>\n",
              "      <th>likes_count</th>\n",
              "      <th>replies_count</th>\n",
              "      <th>pos_score</th>\n",
              "      <th>neg_score</th>\n",
              "      <th>sentiment_score</th>\n",
              "    </tr>\n",
              "  </thead>\n",
              "  <tbody>\n",
              "    <tr>\n",
              "      <th>0</th>\n",
              "      <td>white hous news confer pm eastern thank</td>\n",
              "      <td>103847</td>\n",
              "      <td>16484</td>\n",
              "      <td>0.000</td>\n",
              "      <td>0.000</td>\n",
              "      <td>0</td>\n",
              "    </tr>\n",
              "    <tr>\n",
              "      <th>1</th>\n",
              "      <td>recogn remark men woman treat fellow american ...</td>\n",
              "      <td>77062</td>\n",
              "      <td>10636</td>\n",
              "      <td>2.250</td>\n",
              "      <td>1.750</td>\n",
              "      <td>1</td>\n",
              "    </tr>\n",
              "    <tr>\n",
              "      <th>2</th>\n",
              "      <td>nanci pelosi democrat delay worker helpstimulu...</td>\n",
              "      <td>184864</td>\n",
              "      <td>36794</td>\n",
              "      <td>1.250</td>\n",
              "      <td>1.500</td>\n",
              "      <td>-1</td>\n",
              "    </tr>\n",
              "    <tr>\n",
              "      <th>3</th>\n",
              "      <td>thank dr hahn fda fast approv respect ohio com...</td>\n",
              "      <td>49055</td>\n",
              "      <td>2145</td>\n",
              "      <td>0.500</td>\n",
              "      <td>0.375</td>\n",
              "      <td>1</td>\n",
              "    </tr>\n",
              "    <tr>\n",
              "      <th>4</th>\n",
              "      <td>interview usa strong</td>\n",
              "      <td>92703</td>\n",
              "      <td>15259</td>\n",
              "      <td>0.250</td>\n",
              "      <td>0.125</td>\n",
              "      <td>1</td>\n",
              "    </tr>\n",
              "    <tr>\n",
              "      <th>...</th>\n",
              "      <td>...</td>\n",
              "      <td>...</td>\n",
              "      <td>...</td>\n",
              "      <td>...</td>\n",
              "      <td>...</td>\n",
              "      <td>...</td>\n",
              "    </tr>\n",
              "    <tr>\n",
              "      <th>380</th>\n",
              "      <td>would find hard believ fail presidenti candid ...</td>\n",
              "      <td>91078</td>\n",
              "      <td>15157</td>\n",
              "      <td>1.250</td>\n",
              "      <td>1.625</td>\n",
              "      <td>-1</td>\n",
              "    </tr>\n",
              "    <tr>\n",
              "      <th>381</th>\n",
              "      <td>tom steyer mini mike bloomberg spent dollar no...</td>\n",
              "      <td>79552</td>\n",
              "      <td>7594</td>\n",
              "      <td>2.194</td>\n",
              "      <td>1.931</td>\n",
              "      <td>1</td>\n",
              "    </tr>\n",
              "    <tr>\n",
              "      <th>382</th>\n",
              "      <td>congratul sleepi joe biden</td>\n",
              "      <td>79091</td>\n",
              "      <td>8542</td>\n",
              "      <td>1.000</td>\n",
              "      <td>0.000</td>\n",
              "      <td>1</td>\n",
              "    </tr>\n",
              "    <tr>\n",
              "      <th>383</th>\n",
              "      <td>democrat work hard destroy name reput crazi be...</td>\n",
              "      <td>90641</td>\n",
              "      <td>10551</td>\n",
              "      <td>0.625</td>\n",
              "      <td>0.500</td>\n",
              "      <td>1</td>\n",
              "    </tr>\n",
              "    <tr>\n",
              "      <th>384</th>\n",
              "      <td>sleepi joe biden victori south carolina democr...</td>\n",
              "      <td>90203</td>\n",
              "      <td>15578</td>\n",
              "      <td>1.625</td>\n",
              "      <td>1.125</td>\n",
              "      <td>1</td>\n",
              "    </tr>\n",
              "  </tbody>\n",
              "</table>\n",
              "<p>385 rows × 6 columns</p>\n",
              "</div>"
            ],
            "text/plain": [
              "                                                 tweet  ...  sentiment_score\n",
              "0              white hous news confer pm eastern thank  ...                0\n",
              "1    recogn remark men woman treat fellow american ...  ...                1\n",
              "2    nanci pelosi democrat delay worker helpstimulu...  ...               -1\n",
              "3    thank dr hahn fda fast approv respect ohio com...  ...                1\n",
              "4                                 interview usa strong  ...                1\n",
              "..                                                 ...  ...              ...\n",
              "380  would find hard believ fail presidenti candid ...  ...               -1\n",
              "381  tom steyer mini mike bloomberg spent dollar no...  ...                1\n",
              "382                         congratul sleepi joe biden  ...                1\n",
              "383  democrat work hard destroy name reput crazi be...  ...                1\n",
              "384  sleepi joe biden victori south carolina democr...  ...                1\n",
              "\n",
              "[385 rows x 6 columns]"
            ]
          },
          "metadata": {
            "tags": []
          },
          "execution_count": 40
        }
      ]
    },
    {
      "cell_type": "markdown",
      "metadata": {
        "id": "emCDrvDYbPGQ",
        "colab_type": "text"
      },
      "source": [
        "**DOING PROCESS OF VECTORIZATION AND APPLYING THE ALGORITHM** "
      ]
    },
    {
      "cell_type": "code",
      "metadata": {
        "id": "_q7vstMhbPGR",
        "colab_type": "code",
        "colab": {}
      },
      "source": [
        "from nltk.corpus import stopwords\n",
        "from sklearn.feature_extraction.text import TfidfVectorizer\n",
        "\n",
        "vectorizer = TfidfVectorizer (max_features=1000, min_df=7, max_df=0.8, stop_words=stopwords.words('english'))\n",
        "new_data['tweet'] = vectorizer.fit_transform(new_data['tweet']).toarray()"
      ],
      "execution_count": 0,
      "outputs": []
    },
    {
      "cell_type": "code",
      "metadata": {
        "id": "DnKhiiwLbPGW",
        "colab_type": "code",
        "colab": {}
      },
      "source": [
        "new_data['tweet'].unique()\n",
        "\n",
        "labels=new_data['sentiment_score']\n",
        "value_to_pass=new_data.drop(columns=['sentiment_score'])"
      ],
      "execution_count": 0,
      "outputs": []
    },
    {
      "cell_type": "code",
      "metadata": {
        "id": "TPpdtRUXbPGY",
        "colab_type": "code",
        "colab": {}
      },
      "source": [
        "from sklearn.model_selection import train_test_split\n",
        "\n",
        "X_train, X_test, y_train, y_test = train_test_split(value_to_pass, labels, test_size=0.4, random_state=0)\n"
      ],
      "execution_count": 0,
      "outputs": []
    },
    {
      "cell_type": "code",
      "metadata": {
        "id": "5LaK113ZbPGc",
        "colab_type": "code",
        "colab": {}
      },
      "source": [
        "from sklearn.naive_bayes import GaussianNB\n",
        "\n",
        "#Create a Gaussian Classifier\n",
        "model = GaussianNB()\n",
        "\n",
        "# Train the model using the training sets\n",
        "model.fit(value_to_pass,labels)\n",
        "\n",
        "predicted=list(model.predict(X_test))"
      ],
      "execution_count": 0,
      "outputs": []
    },
    {
      "cell_type": "markdown",
      "metadata": {
        "id": "3pKYzK83bPGe",
        "colab_type": "text"
      },
      "source": [
        "**DETERMINING IF THE PERSON IS DEPRESSED OR NOT**"
      ]
    },
    {
      "cell_type": "code",
      "metadata": {
        "id": "URpIC2u4bPGf",
        "colab_type": "code",
        "colab": {
          "base_uri": "https://localhost:8080/",
          "height": 35
        },
        "outputId": "157e070b-19b8-467a-9ca3-8dd359f4c3be"
      },
      "source": [
        "if predicted.count(1)>predicted.count(-1):\n",
        "    print('The person is NOT DEPRESSED')\n",
        "elif predicted.count(1)==predicted.count(-1):\n",
        "    print(\"The person has a NEUTRAL sentiment\")\n",
        "elif predicted.count(1)<predicted.count(-1):\n",
        "    print('The person is DEPRESSED')"
      ],
      "execution_count": 45,
      "outputs": [
        {
          "output_type": "stream",
          "text": [
            "The person is NOT DEPRESSED\n"
          ],
          "name": "stdout"
        }
      ]
    },
    {
      "cell_type": "markdown",
      "metadata": {
        "id": "oFfu4TSbbPGh",
        "colab_type": "text"
      },
      "source": [
        "**SHOWCASING THE MONTHLY, WEEKLY, DAILY TWEETS** "
      ]
    },
    {
      "cell_type": "code",
      "metadata": {
        "id": "5ugHNkhZbPGh",
        "colab_type": "code",
        "colab": {
          "base_uri": "https://localhost:8080/",
          "height": 1000
        },
        "outputId": "bd0d2a5a-748a-43f9-cc6f-3e7b3829e3f4"
      },
      "source": [
        "data "
      ],
      "execution_count": 46,
      "outputs": [
        {
          "output_type": "execute_result",
          "data": {
            "text/html": [
              "<div>\n",
              "<style scoped>\n",
              "    .dataframe tbody tr th:only-of-type {\n",
              "        vertical-align: middle;\n",
              "    }\n",
              "\n",
              "    .dataframe tbody tr th {\n",
              "        vertical-align: top;\n",
              "    }\n",
              "\n",
              "    .dataframe thead th {\n",
              "        text-align: right;\n",
              "    }\n",
              "</style>\n",
              "<table border=\"1\" class=\"dataframe\">\n",
              "  <thead>\n",
              "    <tr style=\"text-align: right;\">\n",
              "      <th></th>\n",
              "      <th>id</th>\n",
              "      <th>conversation_id</th>\n",
              "      <th>created_at</th>\n",
              "      <th>date</th>\n",
              "      <th>time</th>\n",
              "      <th>timezone</th>\n",
              "      <th>user_id</th>\n",
              "      <th>username</th>\n",
              "      <th>name</th>\n",
              "      <th>place</th>\n",
              "      <th>tweet</th>\n",
              "      <th>mentions</th>\n",
              "      <th>urls</th>\n",
              "      <th>photos</th>\n",
              "      <th>replies_count</th>\n",
              "      <th>retweets_count</th>\n",
              "      <th>likes_count</th>\n",
              "      <th>hashtags</th>\n",
              "      <th>cashtags</th>\n",
              "      <th>link</th>\n",
              "      <th>retweet</th>\n",
              "      <th>quote_url</th>\n",
              "      <th>video</th>\n",
              "      <th>near</th>\n",
              "      <th>geo</th>\n",
              "      <th>source</th>\n",
              "      <th>user_rt_id</th>\n",
              "      <th>user_rt</th>\n",
              "      <th>retweet_id</th>\n",
              "      <th>reply_to</th>\n",
              "      <th>retweet_date</th>\n",
              "      <th>translate</th>\n",
              "      <th>trans_src</th>\n",
              "      <th>trans_dest</th>\n",
              "      <th>pos_score</th>\n",
              "      <th>neg_score</th>\n",
              "      <th>sentiment_score</th>\n",
              "    </tr>\n",
              "  </thead>\n",
              "  <tbody>\n",
              "    <tr>\n",
              "      <th>0</th>\n",
              "      <td>1244728753617620994</td>\n",
              "      <td>1244728753617620994</td>\n",
              "      <td>1585601435000</td>\n",
              "      <td>2020-03-30</td>\n",
              "      <td>20:50:35</td>\n",
              "      <td>UTC</td>\n",
              "      <td>25073877</td>\n",
              "      <td>realdonaldtrump</td>\n",
              "      <td>Donald J. Trump</td>\n",
              "      <td>NaN</td>\n",
              "      <td>white hous news confer pm eastern thank</td>\n",
              "      <td>[]</td>\n",
              "      <td>[]</td>\n",
              "      <td>[]</td>\n",
              "      <td>16484</td>\n",
              "      <td>14152</td>\n",
              "      <td>103847</td>\n",
              "      <td>[]</td>\n",
              "      <td>[]</td>\n",
              "      <td>https://twitter.com/realDonaldTrump/status/124...</td>\n",
              "      <td>False</td>\n",
              "      <td>NaN</td>\n",
              "      <td>0</td>\n",
              "      <td>NaN</td>\n",
              "      <td>NaN</td>\n",
              "      <td>NaN</td>\n",
              "      <td>NaN</td>\n",
              "      <td>NaN</td>\n",
              "      <td>NaN</td>\n",
              "      <td>[{'user_id': '25073877', 'username': 'realDona...</td>\n",
              "      <td>NaN</td>\n",
              "      <td>NaN</td>\n",
              "      <td>NaN</td>\n",
              "      <td>NaN</td>\n",
              "      <td>0.000</td>\n",
              "      <td>0.000</td>\n",
              "      <td>0</td>\n",
              "    </tr>\n",
              "    <tr>\n",
              "      <th>1</th>\n",
              "      <td>1244673740866191362</td>\n",
              "      <td>1244673740866191362</td>\n",
              "      <td>1585588319000</td>\n",
              "      <td>2020-03-30</td>\n",
              "      <td>17:11:59</td>\n",
              "      <td>UTC</td>\n",
              "      <td>25073877</td>\n",
              "      <td>realdonaldtrump</td>\n",
              "      <td>Donald J. Trump</td>\n",
              "      <td>NaN</td>\n",
              "      <td>recogn remark men woman treat fellow american ...</td>\n",
              "      <td>[]</td>\n",
              "      <td>['https://www.whitehouse.gov/presidential-acti...</td>\n",
              "      <td>[]</td>\n",
              "      <td>10636</td>\n",
              "      <td>18822</td>\n",
              "      <td>77062</td>\n",
              "      <td>['#nationaldoctorsday']</td>\n",
              "      <td>[]</td>\n",
              "      <td>https://twitter.com/realDonaldTrump/status/124...</td>\n",
              "      <td>False</td>\n",
              "      <td>NaN</td>\n",
              "      <td>0</td>\n",
              "      <td>NaN</td>\n",
              "      <td>NaN</td>\n",
              "      <td>NaN</td>\n",
              "      <td>NaN</td>\n",
              "      <td>NaN</td>\n",
              "      <td>NaN</td>\n",
              "      <td>[{'user_id': '25073877', 'username': 'realDona...</td>\n",
              "      <td>NaN</td>\n",
              "      <td>NaN</td>\n",
              "      <td>NaN</td>\n",
              "      <td>NaN</td>\n",
              "      <td>2.250</td>\n",
              "      <td>1.750</td>\n",
              "      <td>1</td>\n",
              "    </tr>\n",
              "    <tr>\n",
              "      <th>2</th>\n",
              "      <td>1244584449309892609</td>\n",
              "      <td>1244584449309892609</td>\n",
              "      <td>1585567030000</td>\n",
              "      <td>2020-03-30</td>\n",
              "      <td>11:17:10</td>\n",
              "      <td>UTC</td>\n",
              "      <td>25073877</td>\n",
              "      <td>realdonaldtrump</td>\n",
              "      <td>Donald J. Trump</td>\n",
              "      <td>NaN</td>\n",
              "      <td>nanci pelosi democrat delay worker helpstimulu...</td>\n",
              "      <td>[]</td>\n",
              "      <td>[]</td>\n",
              "      <td>[]</td>\n",
              "      <td>36794</td>\n",
              "      <td>42337</td>\n",
              "      <td>184864</td>\n",
              "      <td>[]</td>\n",
              "      <td>[]</td>\n",
              "      <td>https://twitter.com/realDonaldTrump/status/124...</td>\n",
              "      <td>False</td>\n",
              "      <td>NaN</td>\n",
              "      <td>0</td>\n",
              "      <td>NaN</td>\n",
              "      <td>NaN</td>\n",
              "      <td>NaN</td>\n",
              "      <td>NaN</td>\n",
              "      <td>NaN</td>\n",
              "      <td>NaN</td>\n",
              "      <td>[{'user_id': '25073877', 'username': 'realDona...</td>\n",
              "      <td>NaN</td>\n",
              "      <td>NaN</td>\n",
              "      <td>NaN</td>\n",
              "      <td>NaN</td>\n",
              "      <td>1.250</td>\n",
              "      <td>1.500</td>\n",
              "      <td>-1</td>\n",
              "    </tr>\n",
              "    <tr>\n",
              "      <th>3</th>\n",
              "      <td>1244581994614398981</td>\n",
              "      <td>1244581994614398981</td>\n",
              "      <td>1585566445000</td>\n",
              "      <td>2020-03-30</td>\n",
              "      <td>11:07:25</td>\n",
              "      <td>UTC</td>\n",
              "      <td>25073877</td>\n",
              "      <td>realdonaldtrump</td>\n",
              "      <td>Donald J. Trump</td>\n",
              "      <td>NaN</td>\n",
              "      <td>thank dr hahn fda fast approv respect ohio com...</td>\n",
              "      <td>['mikedewine']</td>\n",
              "      <td>['https://twitter.com/stevefda/status/12444720...</td>\n",
              "      <td>[]</td>\n",
              "      <td>2145</td>\n",
              "      <td>11491</td>\n",
              "      <td>49055</td>\n",
              "      <td>[]</td>\n",
              "      <td>[]</td>\n",
              "      <td>https://twitter.com/realDonaldTrump/status/124...</td>\n",
              "      <td>False</td>\n",
              "      <td>https://twitter.com/SteveFDA/status/1244472087...</td>\n",
              "      <td>0</td>\n",
              "      <td>NaN</td>\n",
              "      <td>NaN</td>\n",
              "      <td>NaN</td>\n",
              "      <td>NaN</td>\n",
              "      <td>NaN</td>\n",
              "      <td>NaN</td>\n",
              "      <td>[{'user_id': '25073877', 'username': 'realDona...</td>\n",
              "      <td>NaN</td>\n",
              "      <td>NaN</td>\n",
              "      <td>NaN</td>\n",
              "      <td>NaN</td>\n",
              "      <td>0.500</td>\n",
              "      <td>0.375</td>\n",
              "      <td>1</td>\n",
              "    </tr>\n",
              "    <tr>\n",
              "      <th>4</th>\n",
              "      <td>1244493463355342848</td>\n",
              "      <td>1244493463355342848</td>\n",
              "      <td>1585545337000</td>\n",
              "      <td>2020-03-30</td>\n",
              "      <td>05:15:37</td>\n",
              "      <td>UTC</td>\n",
              "      <td>25073877</td>\n",
              "      <td>realdonaldtrump</td>\n",
              "      <td>Donald J. Trump</td>\n",
              "      <td>NaN</td>\n",
              "      <td>interview usa strong</td>\n",
              "      <td>['foxandfriends']</td>\n",
              "      <td>[]</td>\n",
              "      <td>[]</td>\n",
              "      <td>15259</td>\n",
              "      <td>15353</td>\n",
              "      <td>92703</td>\n",
              "      <td>[]</td>\n",
              "      <td>[]</td>\n",
              "      <td>https://twitter.com/realDonaldTrump/status/124...</td>\n",
              "      <td>False</td>\n",
              "      <td>NaN</td>\n",
              "      <td>0</td>\n",
              "      <td>NaN</td>\n",
              "      <td>NaN</td>\n",
              "      <td>NaN</td>\n",
              "      <td>NaN</td>\n",
              "      <td>NaN</td>\n",
              "      <td>NaN</td>\n",
              "      <td>[{'user_id': '25073877', 'username': 'realDona...</td>\n",
              "      <td>NaN</td>\n",
              "      <td>NaN</td>\n",
              "      <td>NaN</td>\n",
              "      <td>NaN</td>\n",
              "      <td>0.250</td>\n",
              "      <td>0.125</td>\n",
              "      <td>1</td>\n",
              "    </tr>\n",
              "    <tr>\n",
              "      <th>...</th>\n",
              "      <td>...</td>\n",
              "      <td>...</td>\n",
              "      <td>...</td>\n",
              "      <td>...</td>\n",
              "      <td>...</td>\n",
              "      <td>...</td>\n",
              "      <td>...</td>\n",
              "      <td>...</td>\n",
              "      <td>...</td>\n",
              "      <td>...</td>\n",
              "      <td>...</td>\n",
              "      <td>...</td>\n",
              "      <td>...</td>\n",
              "      <td>...</td>\n",
              "      <td>...</td>\n",
              "      <td>...</td>\n",
              "      <td>...</td>\n",
              "      <td>...</td>\n",
              "      <td>...</td>\n",
              "      <td>...</td>\n",
              "      <td>...</td>\n",
              "      <td>...</td>\n",
              "      <td>...</td>\n",
              "      <td>...</td>\n",
              "      <td>...</td>\n",
              "      <td>...</td>\n",
              "      <td>...</td>\n",
              "      <td>...</td>\n",
              "      <td>...</td>\n",
              "      <td>...</td>\n",
              "      <td>...</td>\n",
              "      <td>...</td>\n",
              "      <td>...</td>\n",
              "      <td>...</td>\n",
              "      <td>...</td>\n",
              "      <td>...</td>\n",
              "      <td>...</td>\n",
              "    </tr>\n",
              "    <tr>\n",
              "      <th>380</th>\n",
              "      <td>1233990259802767360</td>\n",
              "      <td>1233990259802767360</td>\n",
              "      <td>1583041179000</td>\n",
              "      <td>2020-03-01</td>\n",
              "      <td>05:39:39</td>\n",
              "      <td>UTC</td>\n",
              "      <td>25073877</td>\n",
              "      <td>realdonaldtrump</td>\n",
              "      <td>Donald J. Trump</td>\n",
              "      <td>NaN</td>\n",
              "      <td>would find hard believ fail presidenti candid ...</td>\n",
              "      <td>[]</td>\n",
              "      <td>[]</td>\n",
              "      <td>[]</td>\n",
              "      <td>15157</td>\n",
              "      <td>18587</td>\n",
              "      <td>91078</td>\n",
              "      <td>[]</td>\n",
              "      <td>[]</td>\n",
              "      <td>https://twitter.com/realDonaldTrump/status/123...</td>\n",
              "      <td>False</td>\n",
              "      <td>NaN</td>\n",
              "      <td>0</td>\n",
              "      <td>NaN</td>\n",
              "      <td>NaN</td>\n",
              "      <td>NaN</td>\n",
              "      <td>NaN</td>\n",
              "      <td>NaN</td>\n",
              "      <td>NaN</td>\n",
              "      <td>[{'user_id': '25073877', 'username': 'realDona...</td>\n",
              "      <td>NaN</td>\n",
              "      <td>NaN</td>\n",
              "      <td>NaN</td>\n",
              "      <td>NaN</td>\n",
              "      <td>1.250</td>\n",
              "      <td>1.625</td>\n",
              "      <td>-1</td>\n",
              "    </tr>\n",
              "    <tr>\n",
              "      <th>381</th>\n",
              "      <td>1233987865350148097</td>\n",
              "      <td>1233987865350148097</td>\n",
              "      <td>1583040608000</td>\n",
              "      <td>2020-03-01</td>\n",
              "      <td>05:30:08</td>\n",
              "      <td>UTC</td>\n",
              "      <td>25073877</td>\n",
              "      <td>realdonaldtrump</td>\n",
              "      <td>Donald J. Trump</td>\n",
              "      <td>NaN</td>\n",
              "      <td>tom steyer mini mike bloomberg spent dollar no...</td>\n",
              "      <td>[]</td>\n",
              "      <td>[]</td>\n",
              "      <td>[]</td>\n",
              "      <td>7594</td>\n",
              "      <td>16391</td>\n",
              "      <td>79552</td>\n",
              "      <td>[]</td>\n",
              "      <td>[]</td>\n",
              "      <td>https://twitter.com/realDonaldTrump/status/123...</td>\n",
              "      <td>False</td>\n",
              "      <td>NaN</td>\n",
              "      <td>0</td>\n",
              "      <td>NaN</td>\n",
              "      <td>NaN</td>\n",
              "      <td>NaN</td>\n",
              "      <td>NaN</td>\n",
              "      <td>NaN</td>\n",
              "      <td>NaN</td>\n",
              "      <td>[{'user_id': '25073877', 'username': 'realDona...</td>\n",
              "      <td>NaN</td>\n",
              "      <td>NaN</td>\n",
              "      <td>NaN</td>\n",
              "      <td>NaN</td>\n",
              "      <td>2.194</td>\n",
              "      <td>1.931</td>\n",
              "      <td>1</td>\n",
              "    </tr>\n",
              "    <tr>\n",
              "      <th>382</th>\n",
              "      <td>1233977649552384005</td>\n",
              "      <td>1233977649552384005</td>\n",
              "      <td>1583038172000</td>\n",
              "      <td>2020-03-01</td>\n",
              "      <td>04:49:32</td>\n",
              "      <td>UTC</td>\n",
              "      <td>25073877</td>\n",
              "      <td>realdonaldtrump</td>\n",
              "      <td>Donald J. Trump</td>\n",
              "      <td>NaN</td>\n",
              "      <td>congratul sleepi joe biden</td>\n",
              "      <td>[]</td>\n",
              "      <td>[]</td>\n",
              "      <td>[]</td>\n",
              "      <td>8542</td>\n",
              "      <td>11370</td>\n",
              "      <td>79091</td>\n",
              "      <td>[]</td>\n",
              "      <td>[]</td>\n",
              "      <td>https://twitter.com/realDonaldTrump/status/123...</td>\n",
              "      <td>False</td>\n",
              "      <td>NaN</td>\n",
              "      <td>0</td>\n",
              "      <td>NaN</td>\n",
              "      <td>NaN</td>\n",
              "      <td>NaN</td>\n",
              "      <td>NaN</td>\n",
              "      <td>NaN</td>\n",
              "      <td>NaN</td>\n",
              "      <td>[{'user_id': '25073877', 'username': 'realDona...</td>\n",
              "      <td>NaN</td>\n",
              "      <td>NaN</td>\n",
              "      <td>NaN</td>\n",
              "      <td>NaN</td>\n",
              "      <td>1.000</td>\n",
              "      <td>0.000</td>\n",
              "      <td>1</td>\n",
              "    </tr>\n",
              "    <tr>\n",
              "      <th>383</th>\n",
              "      <td>1233976658572566529</td>\n",
              "      <td>1233976658572566529</td>\n",
              "      <td>1583037936000</td>\n",
              "      <td>2020-03-01</td>\n",
              "      <td>04:45:36</td>\n",
              "      <td>UTC</td>\n",
              "      <td>25073877</td>\n",
              "      <td>realdonaldtrump</td>\n",
              "      <td>Donald J. Trump</td>\n",
              "      <td>NaN</td>\n",
              "      <td>democrat work hard destroy name reput crazi be...</td>\n",
              "      <td>[]</td>\n",
              "      <td>[]</td>\n",
              "      <td>[]</td>\n",
              "      <td>10551</td>\n",
              "      <td>16561</td>\n",
              "      <td>90641</td>\n",
              "      <td>[]</td>\n",
              "      <td>[]</td>\n",
              "      <td>https://twitter.com/realDonaldTrump/status/123...</td>\n",
              "      <td>False</td>\n",
              "      <td>NaN</td>\n",
              "      <td>0</td>\n",
              "      <td>NaN</td>\n",
              "      <td>NaN</td>\n",
              "      <td>NaN</td>\n",
              "      <td>NaN</td>\n",
              "      <td>NaN</td>\n",
              "      <td>NaN</td>\n",
              "      <td>[{'user_id': '25073877', 'username': 'realDona...</td>\n",
              "      <td>NaN</td>\n",
              "      <td>NaN</td>\n",
              "      <td>NaN</td>\n",
              "      <td>NaN</td>\n",
              "      <td>0.625</td>\n",
              "      <td>0.500</td>\n",
              "      <td>1</td>\n",
              "    </tr>\n",
              "    <tr>\n",
              "      <th>384</th>\n",
              "      <td>1233908953026908161</td>\n",
              "      <td>1233908953026908161</td>\n",
              "      <td>1583021793000</td>\n",
              "      <td>2020-03-01</td>\n",
              "      <td>00:16:33</td>\n",
              "      <td>UTC</td>\n",
              "      <td>25073877</td>\n",
              "      <td>realdonaldtrump</td>\n",
              "      <td>Donald J. Trump</td>\n",
              "      <td>NaN</td>\n",
              "      <td>sleepi joe biden victori south carolina democr...</td>\n",
              "      <td>[]</td>\n",
              "      <td>[]</td>\n",
              "      <td>[]</td>\n",
              "      <td>15578</td>\n",
              "      <td>18408</td>\n",
              "      <td>90203</td>\n",
              "      <td>[]</td>\n",
              "      <td>[]</td>\n",
              "      <td>https://twitter.com/realDonaldTrump/status/123...</td>\n",
              "      <td>False</td>\n",
              "      <td>NaN</td>\n",
              "      <td>0</td>\n",
              "      <td>NaN</td>\n",
              "      <td>NaN</td>\n",
              "      <td>NaN</td>\n",
              "      <td>NaN</td>\n",
              "      <td>NaN</td>\n",
              "      <td>NaN</td>\n",
              "      <td>[{'user_id': '25073877', 'username': 'realDona...</td>\n",
              "      <td>NaN</td>\n",
              "      <td>NaN</td>\n",
              "      <td>NaN</td>\n",
              "      <td>NaN</td>\n",
              "      <td>1.625</td>\n",
              "      <td>1.125</td>\n",
              "      <td>1</td>\n",
              "    </tr>\n",
              "  </tbody>\n",
              "</table>\n",
              "<p>385 rows × 37 columns</p>\n",
              "</div>"
            ],
            "text/plain": [
              "                      id      conversation_id  ...  neg_score sentiment_score\n",
              "0    1244728753617620994  1244728753617620994  ...      0.000               0\n",
              "1    1244673740866191362  1244673740866191362  ...      1.750               1\n",
              "2    1244584449309892609  1244584449309892609  ...      1.500              -1\n",
              "3    1244581994614398981  1244581994614398981  ...      0.375               1\n",
              "4    1244493463355342848  1244493463355342848  ...      0.125               1\n",
              "..                   ...                  ...  ...        ...             ...\n",
              "380  1233990259802767360  1233990259802767360  ...      1.625              -1\n",
              "381  1233987865350148097  1233987865350148097  ...      1.931               1\n",
              "382  1233977649552384005  1233977649552384005  ...      0.000               1\n",
              "383  1233976658572566529  1233976658572566529  ...      0.500               1\n",
              "384  1233908953026908161  1233908953026908161  ...      1.125               1\n",
              "\n",
              "[385 rows x 37 columns]"
            ]
          },
          "metadata": {
            "tags": []
          },
          "execution_count": 46
        }
      ]
    },
    {
      "cell_type": "markdown",
      "metadata": {
        "id": "3ymsQsiSbPGk",
        "colab_type": "text"
      },
      "source": [
        "**MAKING A NEW DATAFRAME WITH DATE AND TIME VALUES**"
      ]
    },
    {
      "cell_type": "code",
      "metadata": {
        "id": "yE3LF4bqbPGk",
        "colab_type": "code",
        "colab": {}
      },
      "source": [
        "calender=data[['tweet','likes_count','replies_count','pos_score','neg_score','sentiment_score','date','time']]"
      ],
      "execution_count": 0,
      "outputs": []
    },
    {
      "cell_type": "code",
      "metadata": {
        "id": "m5PWRJiKbPGn",
        "colab_type": "code",
        "colab": {
          "base_uri": "https://localhost:8080/",
          "height": 35
        },
        "outputId": "52696899-0064-448d-837a-fb0249a5d32e"
      },
      "source": [
        "# calender['date']=calender['date'].astype(\"datetime64[ns]\")\n",
        "calender.shape"
      ],
      "execution_count": 48,
      "outputs": [
        {
          "output_type": "execute_result",
          "data": {
            "text/plain": [
              "(385, 8)"
            ]
          },
          "metadata": {
            "tags": []
          },
          "execution_count": 48
        }
      ]
    },
    {
      "cell_type": "code",
      "metadata": {
        "id": "8siAlL9jbPGr",
        "colab_type": "code",
        "colab": {
          "base_uri": "https://localhost:8080/",
          "height": 35
        },
        "outputId": "85337784-6a8d-4ff6-8413-ca8674542030"
      },
      "source": [
        "calender.date.dtype"
      ],
      "execution_count": 49,
      "outputs": [
        {
          "output_type": "execute_result",
          "data": {
            "text/plain": [
              "dtype('O')"
            ]
          },
          "metadata": {
            "tags": []
          },
          "execution_count": 49
        }
      ]
    },
    {
      "cell_type": "markdown",
      "metadata": {
        "id": "L3zZv139bPGv",
        "colab_type": "text"
      },
      "source": [
        "**FINDING OUT TODAY'S DAY**"
      ]
    },
    {
      "cell_type": "code",
      "metadata": {
        "id": "WYuQBoYXbPGv",
        "colab_type": "code",
        "colab": {
          "base_uri": "https://localhost:8080/",
          "height": 35
        },
        "outputId": "fd2e1eab-537a-4837-9739-0984be6791ae"
      },
      "source": [
        "from datetime import date\n",
        "\n",
        "today = date.today()\n",
        "print(\"Today's date:\", today)"
      ],
      "execution_count": 50,
      "outputs": [
        {
          "output_type": "stream",
          "text": [
            "Today's date: 2020-03-31\n"
          ],
          "name": "stdout"
        }
      ]
    },
    {
      "cell_type": "code",
      "metadata": {
        "id": "iPvjwKs2bPGz",
        "colab_type": "code",
        "colab": {}
      },
      "source": [
        "save=list(calender['date'])\n"
      ],
      "execution_count": 0,
      "outputs": []
    },
    {
      "cell_type": "markdown",
      "metadata": {
        "id": "oqXLj_ffbPG_",
        "colab_type": "text"
      },
      "source": [
        "**GETTING THE NUMBER OF DAYS BEFORE A TWEET WAS TWEETED**"
      ]
    },
    {
      "cell_type": "markdown",
      "metadata": {
        "id": "UI5JPxttbPHI",
        "colab_type": "text"
      },
      "source": [
        "**OBTAINING DAILY TWEETS** "
      ]
    },
    {
      "cell_type": "code",
      "metadata": {
        "id": "RuY6OERbBuTj",
        "colab_type": "code",
        "colab": {
          "base_uri": "https://localhost:8080/",
          "height": 35
        },
        "outputId": "3982d638-27bb-44e4-e33e-675f7ebc903c"
      },
      "source": [
        "data1['date'] = pd.to_datetime(data1['date'])\n",
        "daily=data1[(data1.date.dt.month==today.month) & (data1.date.dt.day==today.day) & (data1.sentiment_score==-1)]\n",
        "daily_tweet=list(daily['tweet'])\n",
        "\n",
        "daily_json=json.dumps(daily_tweet)\n",
        "print(daily_json)\n",
        "\n",
        "with open(\"dail.json\", \"w\") as write_file:\n",
        "    json.dump(daily_json, write_file)"
      ],
      "execution_count": 84,
      "outputs": [
        {
          "output_type": "stream",
          "text": [
            "[]\n"
          ],
          "name": "stdout"
        }
      ]
    },
    {
      "cell_type": "markdown",
      "metadata": {
        "id": "A2KTv8itbPHL",
        "colab_type": "text"
      },
      "source": [
        "**OBTAIING WEEKLY TWEETS**"
      ]
    },
    {
      "cell_type": "code",
      "metadata": {
        "id": "jtyPSDnzbPHL",
        "colab_type": "code",
        "colab": {
          "base_uri": "https://localhost:8080/",
          "height": 72
        },
        "outputId": "e521abc0-cb19-4ef1-f538-c38767908082"
      },
      "source": [
        "import datetime\n",
        "import json\n",
        "weekno=datetime.datetime.utcnow().isocalendar()[1]\n",
        "# print(weekno)\n",
        "data1['date'] = pd.to_datetime(data1['date'])\n",
        "weekly=data1[(data1.date.dt.week==weekno) & (data1.sentiment_score==-1)]\n",
        "weekly_tweet=list(weekly['tweet'])\n",
        "\n",
        "weekly_json=json.dumps(weekly_tweet)\n",
        "print(weekly_json)\n",
        "\n",
        "with open(\"week.json\", \"w\") as write_file:\n",
        "    json.dump(weekly_json, write_file)"
      ],
      "execution_count": 80,
      "outputs": [
        {
          "output_type": "stream",
          "text": [
            "14\n",
            "[\"Nancy Pelosi and the Democrats delayed the Workers Help/Stimulus Bill by over a week, trying to add real \\u201cjunk\\u201d into the Bill. Got some bad things, having nothing to do with those affected by the Virus, included. Republicans need their votes until we WIN BACK THE HOUSE IN 2020!\"]\n"
          ],
          "name": "stdout"
        }
      ]
    },
    {
      "cell_type": "markdown",
      "metadata": {
        "id": "JkOxdJxMbPHO",
        "colab_type": "text"
      },
      "source": [
        "**OBTAINING MONTHLY TWEETS** "
      ]
    },
    {
      "cell_type": "code",
      "metadata": {
        "id": "nKj1O93gbPHP",
        "colab_type": "code",
        "colab": {
          "base_uri": "https://localhost:8080/",
          "height": 55
        },
        "outputId": "8e4d352e-62ee-411b-a815-deb68efdc7f4"
      },
      "source": [
        "data1['date'] = pd.to_datetime(data1['date'])\n",
        "monthly=data1[(data1.date.dt.month==today.month) & (data1.sentiment_score==-1)]\n",
        "\n",
        "\n",
        "monthly_tweet=list(monthly['tweet'])\n",
        "\n",
        "monthly_json=json.dumps(monthly_tweet)\n",
        "print(monthly_json)\n",
        "\n",
        "\n",
        "with open(\"month.json\", \"w\") as write_file:\n",
        "    json.dump(monthly_json, write_file)\n"
      ],
      "execution_count": 83,
      "outputs": [
        {
          "output_type": "stream",
          "text": [
            "[\"Nancy Pelosi and the Democrats delayed the Workers Help/Stimulus Bill by over a week, trying to add real \\u201cjunk\\u201d into the Bill. Got some bad things, having nothing to do with those affected by the Virus, included. Republicans need their votes until we WIN BACK THE HOUSE IN 2020!\", \"I am a great friend and admirer of the Queen & the United Kingdom. It was reported that Harry and Meghan, who left the Kingdom, would reside permanently in Canada. Now they have left Canada for the U.S. however, the U.S. will not pay for their security protection. They must pay!\", \"...alone attracted 6.2 million viewers for the president\\u2019s briefing \\u2014 an astounding number for a 6 p.m. cable broadcast, more akin to the viewership for a popular prime-time sitcom...\", \"Because the \\u201cRatings\\u201d of my News Conferences etc. are so high, \\u201cBachelor finale, Monday Night Football type numbers\\u201d according to the @nytimes, the Lamestream Media is going CRAZY. \\u201cTrump is reaching too many people, we must stop him.\\u201d said one lunatic. See you at 5:00 P.M.!\", \"Polls are showing tremendous disapproval of Lamestream Media coverage of the Virus crisis. The Fake News just hasn\\u2019t figured that out yet!\", \"Hope the FDA can approve Mask Sterilization equipment ASAP. As per Governor @MikeDeWine, there is a company in Ohio, @Battelle, which has equipment that can sterilize masks quickly.\", \"....Federal Government. A quarantine will not be necessary. Full details will be released by CDC tonight. Thank you!\", \"I am giving consideration to a QUARANTINE of developing \\u201chot spots\\u201d, New York, New Jersey, and Connecticut. A decision will be made, one way or another, shortly.\", \"So much of the Lamestream Media is writing and broadcasting stories with facts that are made up and knowingly wrong. They are doing it by quoting unnamed sources that simply do not exist. These are very dangerous & corrupt people, who will do anything to win. NAME YOUR SOURCES!\", \"More Fake News! https://twitter.com/santucci/status/1243708703972433927\\u00a0\\u2026\", \"I love Michigan, one of the reasons we are doing such a GREAT job for them during this horrible Pandemic. Yet your Governor, Gretchen \\u201cHalf\\u201d Whitmer is way in over her head, she doesn\\u2019t have a clue. Likes blaming everyone for her own ineptitude! #MAGA\", \"She is a third rate reporter who has nothing going. A Fake News \\u201cjournalist\\u201d. https://twitter.com/greg_price11/status/1243677737761615872\\u00a0\\u2026\", \"General Motors MUST immediately open their stupidly abandoned Lordstown plant in Ohio, or some other plant, and START MAKING VENTILATORS, NOW!!!!!!  FORD, GET GOING ON VENTILATORS, FAST!!!!!!  @GeneralMotors @Ford\", \"As usual with \\u201cthis\\u201d General Motors, things just never seem to work out. They said they were going to give us 40,000 much needed Ventilators, \\u201cvery quickly\\u201d. Now they are saying it will only be 6000, in late April, and they want top dollar. Always a mess with Mary B. Invoke \\u201cP\\u201d.\", \"By empowering the Radical Left Democrats, do nothing Kentucky politician @RepThomasMassie is making their War on the 2nd Amendment more and more difficult to win (But don\\u2019t worry, we will win anyway!). He is a disaster for America, and for the Great State of Kentucky!\", \"...& costly. Workers & small businesses need money now in order to survive. Virus wasn\\u2019t their fault. It is \\u201cHELL\\u201d dealing with the Dems, had to give up some stupid things in order to get the \\u201cbig picture\\u201d done. 90% GREAT! WIN BACK HOUSE, but throw Massie out of Republican Party!\", \"The world is at war with a hidden enemy. WE WILL WIN! pic.twitter.com/QLceNWcL6Z\", \"Gee, that\\u2019s too bad. Such a fine guy. Presidential aspirations you know! https://twitter.com/GreggJarrett/status/1241950379341840384\\u00a0\\u2026\", \"Congress must approve the deal, without all of the nonsense, today. The longer it takes, the harder it will be to start up our economy. Our workers will be hurt!\", \"This is not about the ridiculous Green New Deal. It is about putting our great workers and companies BACK TO WORK!\", \"The Defense Production Act is in full force, but haven\\u2019t had to use it because no one has said NO! Millions of masks coming as back up to States.\", \"Keep Charlie Number One. Great Book! https://twitter.com/charliekirk11/status/1225159300089143296\\u00a0\\u2026\", \"Buy the book and give Liz some Great Reviews! @OANN https://twitter.com/Liz_Wheeler/status/1159262293009428480\\u00a0\\u2026\", \"The Media is hopeless. Too bad! https://twitter.com/EmeraldRobinson/status/1241901361446486016\\u00a0\\u2026\", \"This will never be approved by me, or any other Republican! https://twitter.com/NRO/status/1242277698904494080\\u00a0\\u2026\", \"....us since the beginning of this crisis.\\u201d They meant the opposite? Forgot to mention that I closed our Country to China (and Europe) very early, long before it was considered acceptable to do so. Sleepy Joe said I was \\u201cxenophobic\\u201d, but I saved thousands of lives! Fake News!\", \"This is the way the @nytimes finished a story on me. \\u201cYou can see the contrast between the steady, assured, informed and strong leadership that VP Biden (Sleepy Joe) has shown, and the bungling, chaotic and dishonest start-stop approach that Mr. (not Pres.) Trump has shown....\", \"....is NOT their fault in any way, shape, or form. They are working closely with us to get rid of it. WE WILL PREVAIL TOGETHER!\", \"A great early result from a drug that will start tomorrow in New York and other places! #COVID\\u30fc19 https://nypost.com/2020/03/22/florida-man-with-coronavirus-says-drug-touted-by-trump-saved-his-life/\\u00a0\\u2026\", \"The New York Times changed headlines 3 times in order to satisfy the Radical Left. What should have been a good story got \\u201cworse & worse\\u201d, until the headline alone made it very unfair. Fake & Corrupt News that is very dangerous for our Country!\", \"THIS IS WHY WE NEED BORDERS!\", \"WE CANNOT LET THE CURE BE WORSE THAN THE PROBLEM ITSELF. AT THE END OF THE 15 DAY PERIOD, WE WILL MAKE A DECISION AS TO WHICH WAY WE WANT TO GO!\", \"The hard working men and women of @UPS are working overtime to maintain our supply chain and deliver medical supplies to those in need. Your work is critical to the health of our nation, keep it up!\", \".@JBPritzker, Governor of Illinois, and a very small group of certain other Governors, together with Fake News @CNN & Concast (MSDNC), shouldn\\u2019t be blaming the Federal Government for their own shortcomings. We are there to back you up should you fail, and always will be!\", \"Thank you to Fred Smith and @FedEx for the rapid emergency deliveries you are making all over our Nation. Keep it going!\", \"....be put in use IMMEDIATELY. PEOPLE ARE DYING, MOVE FAST, and GOD BLESS EVERYONE! @US_FDA @SteveFDA @CDCgov @DHSgov\", \"Great story. Thank you to Mr. Young of Jonesboro, Arkansas! https://twitter.com/Scavino45/status/1240838576641921024\\u00a0\\u2026\", \"Today I spoke with our Nation\\u2019s Small Businesses, which employ nearly half of America\\u2019s workforce. We are taking the MOST aggressive action in history to deliver fast relief to your businesses and workers. We will always protect our Small Businesses! @SBAgov https://twitter.com/IvankaTrump/status/1241095451883065344\\u00a0\\u2026\", \"Steve is one of the very best in the Senate. He is competing against a failed Democrat Presidential candidate who never got close to 1%, and was sent packing. Had to be talked into this run by Schumer. Bad for 2nd A! I strongly Endorse @SteveDaines! https://twitter.com/SenateGOP/status/1240315121383231489\\u00a0\\u2026\", \"I only signed the Defense Production Act to combat the Chinese Virus should we need to invoke it in a worst case scenario in the future. Hopefully there will be no need, but we are all in this TOGETHER!\", \"We will be, by mutual consent, temporarily closing our Northern Border with Canada to non-essential traffic. Trade will not be affected. Details to follow!\", \"95% Approval Rating in the Republican Party, 53% overall. Not bad considering I get nothing but Fake & Corrupt News, day and night. \\u201cRussia, Russia, Russia\\u201d, then \\u201cthe Ukraine Scam (where\\u2019s the Whistleblower?)\\u201d, the \\u201cImpeachment Hoax\\u201d, and more, more, more....\", \"For the people that are now out of work because of the important and necessary containment policies, for instance the shutting down of hotels, bars and restaurants, money will soon be coming to you. The onslaught of the Chinese Virus is not your fault! Will be stronger than ever!\", \"The world is at war with a hidden enemy. WE WILL WIN!\", \"The \\u201cTimes\\u201d is a disgrace to journalism! https://twitter.com/MattWolking/status/1239716039518294016\\u00a0\\u2026\", \"I ask all Americans to band together and support your neighbors by not hoarding unnecessary amounts of food and essentials. TOGETHER we will stay STRONG and overcome this challenge!\", \"Yesterday I spoke with the great American Grocers and Supply Chain Executives. We are confident that supply will continue to meet demand nationwide. These beacons of our community will remain open for you, no matter what. We are working hard to remove any barriers to that effort!\", \"The Fake and Corrupt News never called Google. They said this was not true. Even in times such as these, they are not truthful. Watch for their apology, it won\\u2019t happen. More importantly, thank you to Google! https://twitter.com/Google_Comms/status/1238989156610707456\\u00a0\\u2026\", \"Can\\u2019t believe they are not going after Schumer for the threats he made to our cherished United States Supreme Court, and our two great Justices. If a Republican did that, there would be an endless price to pay. Pathetic!\", \"....The USA was never set up for this, just look at the catastrophe of the H1N1 Swine Flu (Biden in charge, 17,000 people lost, very late response time), but it soon will be. Great decision to close our China, and other, borders early. Saved many lives!\", \"Great Job by Judicial Watch. Potentially a treasure trove. Too bad you are not given more help, but it will all work out! https://twitter.com/JudicialWatch/status/1238574680199573512\\u00a0\\u2026\", \"This took place in the Rose Garden, just coming out of a cold Winter! https://twitter.com/Scavino45/status/1238565759980371969\\u00a0\\u2026\", \"Amazing how the Fake News never covers this. No Interest on Student Loans. The Dems are just talk! https://twitter.com/Scavino45/status/1238652219479789568\\u00a0\\u2026\", \"The @CDCgov has published guidelines on  http://CoronaVirus.gov\\u00a0 to enable every American to respond to this epidemic and to protect themselves, their families and their communities.\", \"Larry, I am not surprised that Candace was great. I would only be surprised if she wasn\\u2019t great! https://twitter.com/larryelder/status/1238286804022775809\\u00a0\\u2026\", \"To unleash the full power of the Federal Government in this effort, today I am officially declaring a National Emergency. pic.twitter.com/yu2GBcxWD6\", \".... Their response to H1N1 Swine Flu was a full scale disaster, with thousands dying, and nothing meaningful done to fix the testing problem, until now. The changes have been made and testing will soon happen on a very large scale basis. All Red Tape has been cut, ready to go!\", \"For decades the @CDCgov looked at, and studied,  its testing system, but did nothing about it. It would always be inadequate and slow for a large scale pandemic, but a pandemic would never happen, they hoped. President Obama made changes that only complicated things further.....\", \"\\u201cThe Obama White House had to immediately issue an apology for Joe Biden\\u2019s remarks, and any alarm that he might have caused, an alarm about a Swine Flu outbreak that took 6 months for President Obama to declare a National Emergency, and that killed 12,000 Americans.\\u201d @LouDobbs\", \"108 countries are dealing with the CoronaVirus problem, some of which we are helping!\", \"Many Republican Senators want me to Veto the FISA Bill until we find out what led to, and happened with, the illegal attempted \\u201ccoup\\u201d of the duly elected President of the United States, and others!\", \"Someone needs to tell the Democrats in Congress that CoronaVirus doesn\\u2019t care what party you are in. We need to protect ALL Americans!\", \"Vanity Fair Magazine, which will soon be out of business, and their third rate Fake reporters, who make up sources which don\\u2019t exist, wrote yet another phony & boring hit piece. The facts are just the opposite. Our team is doing a great job with CoronaVirus!\", \"Tommy Tuberville (@TTuberville) is running for the U.S. Senate from the Great State of Alabama. Tommy was a terrific head football coach at Auburn University. He is a REAL LEADER who will never let MAGA/KAG, or our Country, down! Tommy will protect your Second Amendment....\", \"Nancy Pelosi just said, \\u201cI don\\u2019t know if we can be ready this week.\\u201d In other words, it\\u2019s off to vacation for the Do Nothing Democrats. That\\u2019s been the story with them for 1 1/2 years!\", \"There is another Russia, Russia, Russia meeting today. It is headed up by corrupt politician Adam \\u201cShifty\\u201d Schiff, so I wouldn\\u2019t expect too much! @DHS_Wolf\", \"Going to be a BAD day for Crazy Bernie!\", \"Polls say they BOTH lose to \\u201cTrump\\u201d. https://twitter.com/brooklynnygirl/status/1237313865144123398\\u00a0\\u2026\", \"Wow! @foxandfriends blew away the competition of Morning Joke (which did very poorly) on MSDNC (Another Comcast sleaze production), and @CNN\\u2019s New Day, in the Morning Television Ratings. A total blowout, but that\\u2019s what you get when you treat \\u201cTrump\\u201d fairly!\", \"Going up fast. We need the Wall more than ever! https://twitter.com/charliekirk11/status/1237306970429775872\\u00a0\\u2026\", \"Fake News!! https://twitter.com/bennyjohnson/status/1237155509121298432\\u00a0\\u2026\", \"Congressman @StevenPalazzo is doing a fantastic job for the people of Mississippi. He strongly supports our #MAGA Agenda. Steven will continue to protect your #2A, & Support our INCREDIBLE Vets & Military. Steven has my Complete Endorsement. VOTE for Steven tomorrow, March 10th!\", \"So last year 37,000 Americans died from the common Flu. It averages between 27,000 and 70,000 per year. Nothing is shut down, life & the economy go on. At this moment there are 546 confirmed cases of CoronaVirus, with 22 deaths. Think about that!\", \"Saudi Arabia and Russia are arguing over the price and flow of oil. That, and the Fake News, is the reason for the market drop!\", \"So much FAKE NEWS!\", \"\\u201cTrump has outmastered the Deep State. He\\u2019s light years ahead of us.\\u201d MSDNC. I disagree. We have a long way to go. There are still some very bad, sick people in our government - people who do not love our Country (In fact, they hate our Country!).\", \"Now the Democrats are trying to smear Bernie with Russia, Russia, Russia. They are driving him Crazy!\", \"The Fake News Media and their partner, the Democrat Party, is doing everything within its semi-considerable power (it used to be greater!) to inflame the CoronaVirus situation, far beyond what the facts would warrant. Surgeon General, \\u201cThe risk is low to the average American.\\u201d\", \"Working hard Lori! https://twitter.com/Lrihendry/status/1236889583926771712\\u00a0\\u2026\", \"There are no mixed messages, only political weaponization by people like you and your brother, Fredo! https://twitter.com/MSNBC/status/1236579191900037120\\u00a0\\u2026\", \"The New York Times is an embarrassment to journalism. They were a dead paper before I went into politics, and they will be a dead paper after I leave, which will be in 5 years. Fake News is the Enemy of the people!\", \"We have now learned for sure that the Democrats don\\u2019t want anything to do with Crazy Bernie. Rigged? First @amyklobuchar & @PeteButtigieg quit the race & come out for Sleepy Joe BEFORE Super Tuesday. Pocahontas says NO & quits race AFTER ELECTION, thereby depriving Bernie of at..\", \"It is FAKE NEWS that @HHSGov @SecAzar is \\u201csidelined\\u201d from the great job he is doing on the CoronaVirus Task Force. He has the total confidence of the @VP and myself, and is doing a fantastic job, as the numbers would indicate!\", \"I will protect your Social Security and Medicare, just as I have for the past 3 years. Sleepy Joe Biden will destroy both in very short order, and he won\\u2019t even know he\\u2019s doing it!\", \"Gallup just gave us the highest rating ever for the way we are handling the CoronaVirus situation. The April 2009-10 Swine Flu, where nearly 13,000 people died in the U.S., was poorly handled. Ask MSDNC & lightweight Washington failure @RonaldKlain, who the President was then?\", \"The Department of Education is NOT closing hundreds of schools in rural areas of our Country. This is just more Fake News. We are investing greatly in our schools, and always will!\", \"\\u201cJoe Biden represents the past. President Trump represents the future.\\u201d @LisaMarieBoothe @edhenry @FoxNews\", \"Elizabeth \\u201cPocahontas\\u201d Warren, who was going nowhere except into Mini Mike\\u2019s head, just dropped out of the Democrat Primary...THREE DAYS TOO LATE. She cost Crazy Bernie, at least, Massachusetts, Minnesota and Texas. Probably cost him the nomination! Came in third in Mass.\", \".@GOPLeader Kevin McCarthy informed me that I was 20 for 20 on Tuesday with respect to my Endorsement of candidates. Sadly, I didn\\u2019t get that information from the Fake News Media. They don\\u2019t report those things, or the far more than Dems cumulative votes, despite no opposition!\", \"\\u201cI want to commend the President for how he has handled the CoronaVirus situation, especially his early decision to shut down access into our Country from China, despite strong opposition to that decision.\\u201d @SenTomCotton Thank you Tom!\", \"Schumer has brought great danger to the steps of the United States Supreme Court!\", \"I NEVER said people that are feeling sick should go to work. This is just more Fake News and disinformation put out by the Democrats, in particular MSDNC. Comcast covers the CoronaVirus situation horribly, only looking to do harm to the incredible & successful effort being made!\", \"As per recent Federal Court ruling, the Federal Government will be withholding funds from Sanctuary Cities. They should change their status and go non-Sanctuary. Do not protect criminals!\", \"Retired Four Star General Jack Keane will receive the PRESIDENTIAL MEDAL OF FREEDOM next week!\", \"There can be few things worse in a civilized, law abiding nation, than a United States Senator openly, and for all to see and hear, threatening the Supreme Court or its Justices. This is what Chuck Schumer just did. He must pay a severe price for this!\", \"Pandering Mini Mike Bloomberg, along with his wacky friend, Tom Steyer, have found out the hard way that you can\\u2019t buy the election! They both wish they had it to do over again!\", \"Mini Mike Bloomberg will now FIRE Tim O\\u2019Brien, and all of the fools and truly dumb people who got him into this MESS. This has been the worst, and most embarrassing, experience of his life...and now on to Sleepy Joe!\", \"The Mayor of Los Angeles, @ericgarcetti, is dealing with us trying to get the Federal Government to fix the terrible problem he and the Dems have caused with the homeless, and the horrendous effects it is having on the City, which is a mess. I then watch him talk \\u201ctrash\\u201d on me!\", \"Wow! If Elizabeth Warren wasn\\u2019t in the race, Bernie Sanders would have EASILY won Massachusetts, Minnesota and Texas, not to mention various other states. Our modern day Pocahontas won\\u2019t go down in history as a winner, but she may very well go down as the all time great SPOILER!\", \"This is what happens to someone who loyally gets appointed Attorney General of the United States & then doesn\\u2019t have the wisdom or courage to stare down & end the phony Russia Witch Hunt. Recuses himself on FIRST DAY in office, and the Mueller Scam begins! https://twitter.com/politico/status/1235056416995586048\\u00a0\\u2026\", \"Elizabeth \\u201cPocahontas\\u201d Warren, other than Mini Mike, was the loser of the night. She didn\\u2019t even come close to winning her home state of Massachusetts. Well, now she can just sit back with her husband and have a nice cold beer!\", \"The biggest loser tonight, by far, is Mini Mike Bloomberg. His \\u201cpolitical\\u201d consultants took him for a ride. $700 million washed down the drain, and he got nothing for it but the nickname Mini Mike, and the complete destruction of his reputation. Way to go Mike!\", \"I commend the hard work of Senator @SteveDaines and @SenCoryGardner in protecting funding for the Land and Water Conservation Fund for years to come. The citizens of Montana and Colorado thank you both!\", \"Prayers for all of those affected by the devastating tornadoes in Tennessee. We will continue to monitor the developments. The Federal Government is with you all of the way during this difficult time. https://twitter.com/MarshaBlackburn/status/1234823263429238784\\u00a0\\u2026\", \"Mini Mike Bloomberg can never recover from his incompetent debate performances. Also, as mayor he was very bad under pressure - a choker!\", \"Texas & Oklahoma: Mini Mike Bloomberg will kill your drilling, fracking and pipelines. Petroleum based \\u201canything\\u201d is dead. Energy jobs gone. Don\\u2019t vote for Mini Mike!\", \"....paying higher rates than many others, when we should be paying less. Tough on our exporters and puts the USA at a competitive disadvantage. Must be the other way around. Should ease and cut rate big. Jerome Powell led Federal Reserve has called it wrong from day one. Sad!\", \"Australia\\u2019s Central Bank cut interest rates and stated it will most likely further ease in order to make up for China\\u2019s Coronavirus situation and slowdown. They reduced to 0.5%, a record low. Other countries are doing the same thing, if not more so. Our Federal Reserve has us....\", \"WOW! Sleepy Joe doesn\\u2019t know where he is, or what he\\u2019s doing. Honestly, I don\\u2019t think he even knows what office he's running for! pic.twitter.com/454v9GFpgF\", \"The Democrats in the House should propose a very simple one year Payroll Tax cut. Great for the middle class, great for the USA!\", \"WOW! Thank you, just landed, see everyone soon! #KAG2020\\ud83c\\uddfa\\ud83c\\uddf8 pic.twitter.com/QGdfIsOp4u\", \"Michelle @FischbachMN7 is running for Congress in Minnesota. Michelle will protect the unborn, is Strong on Crime & Borders, Cutting Taxes, your #2A, Loves our Military, Vets, & will stand w/ our Great Farmers. Michelle has my Complete & Total Endorsement! https://secure.winred.com/MichelleFischbach/website-donations\\u00a0\\u2026\", \".@FoxNews is working hard pushing the Radical Left, Do Nothing Democrats. They want to be, unlike their competitors, @CNN & MSDNC (Comcast), Fair & Balanced. When will they ever learn. The Radical Left never even gave @FoxNews permission to partake in their low rated debates!\", \"....competitive disadvantage. We should be leading, not following!\", \"I was criticized by the Democrats when I closed the Country down to China many weeks ahead of what almost everyone recommended. Saved many lives. Dems were working the Impeachment Hoax. They didn\\u2019t have a clue! Now they are fear mongering. Be calm & vigilant!\", \"\\u201cEver since (Mini Mike) Bloomberg\\u2019s bad debate performances, his support has dropped.\\u201d @abcnews  Dropped a lot. Only his highly paid consultants, who are laughing all the way to the bank, still support him...And by the way, he did not poll well as mayor in handling crisis!\", \"Sleepy Eyes Chuck Todd is not at the top of his game! Thank you. https://twitter.com/ErinMPerrine/status/1234156399430635522\\u00a0\\u2026\", \"Sleepy Joe Biden also said that guns killed 150 million Americans last year, wants to win Georgia on Super Tuesday (not up), and got his speaking location wrong again! https://twitter.com/FrancisBrennan/status/1234123094865928193\\u00a0\\u2026\", \"The Black community brilliantly turned their backs on Mini Mike because they know he is a pandering phony who never did right by them! https://twitter.com/jakevcrandall/status/1234179493717213184\\u00a0\\u2026\", \"Mini Mike Bloomberg didn\\u2019t bring NYC back, as he said in his fake ad. It was @RudyGiuliani who brought NYC back and who also, with his endorsement, got Mini Mike elected (with barely a thank you). A boring mayor who the people couldn\\u2019t stand!\", \"People are disgusted and embarrassed by the Fake News Media, as headed by the @nytimes, @washingtonpost, @comcast & MSDNC, @ABC, @CBSNews and more. They no longer believe what they see and read, and for good reason. Fake News is, indeed, THE ENEMY OF THE PEOPLE!\", \".....a very dark and lonely path! Your reputation will never be the same!\", \"Mini Mike Bloomberg\\u2019s consultants and so-called \\u201cadvisors\\u201d(how did that advice work out? Don\\u2019t ask!), are on the \\u201cgravy train\\u201d and all making a fortune for themselves pushing Mini hard, when they knew he never had what it takes. Don\\u2019t pay them anymore Mike, they led you down....\", \"I would find it hard to believe that failed presidential candidates Tom Steyer, or Mini Mike Bloombeg, would contribute to the Democrat Party, even against me, after the way they have been treated - laughed at & mocked. The real politicians ate them up and spit them out!\"]\n"
          ],
          "name": "stdout"
        }
      ]
    },
    {
      "cell_type": "code",
      "metadata": {
        "id": "utCjElw84Gvg",
        "colab_type": "code",
        "colab": {
          "base_uri": "https://localhost:8080/",
          "height": 245
        },
        "outputId": "2048e63c-2428-406e-9065-a6afc5a7a654"
      },
      "source": [
        "! pip install pyphi"
      ],
      "execution_count": 55,
      "outputs": [
        {
          "output_type": "stream",
          "text": [
            "Requirement already satisfied: pyphi in /usr/local/lib/python3.6/dist-packages (1.2.0)\n",
            "Requirement already satisfied: pyemd>=0.3.0 in /usr/local/lib/python3.6/dist-packages (from pyphi) (0.5.1)\n",
            "Requirement already satisfied: pymongo>=2.7.1 in /usr/local/lib/python3.6/dist-packages (from pyphi) (3.10.1)\n",
            "Requirement already satisfied: psutil>=2.1.1 in /usr/local/lib/python3.6/dist-packages (from pyphi) (5.4.8)\n",
            "Requirement already satisfied: redis>=2.10.5 in /usr/local/lib/python3.6/dist-packages (from pyphi) (3.4.1)\n",
            "Requirement already satisfied: pyyaml>=3.13 in /usr/local/lib/python3.6/dist-packages (from pyphi) (3.13)\n",
            "Requirement already satisfied: tblib>=1.3.2 in /usr/local/lib/python3.6/dist-packages (from pyphi) (1.6.0)\n",
            "Requirement already satisfied: decorator>=4.0.0 in /usr/local/lib/python3.6/dist-packages (from pyphi) (4.4.2)\n",
            "Requirement already satisfied: joblib>=0.8.0 in /usr/local/lib/python3.6/dist-packages (from pyphi) (0.14.1)\n",
            "Requirement already satisfied: scipy>=0.13.3 in /usr/local/lib/python3.6/dist-packages (from pyphi) (1.4.1)\n",
            "Requirement already satisfied: tqdm>=4.20.0 in /usr/local/lib/python3.6/dist-packages (from pyphi) (4.38.0)\n",
            "Requirement already satisfied: numpy>=1.11.0 in /usr/local/lib/python3.6/dist-packages (from pyphi) (1.18.2)\n"
          ],
          "name": "stdout"
        }
      ]
    },
    {
      "cell_type": "code",
      "metadata": {
        "id": "wDNfOH9O5D1h",
        "colab_type": "code",
        "colab": {}
      },
      "source": [
        "f=open(\"{}.json\".format(name_of_user),\"w\")"
      ],
      "execution_count": 0,
      "outputs": []
    },
    {
      "cell_type": "code",
      "metadata": {
        "id": "CDf5DpbQ4LnZ",
        "colab_type": "code",
        "colab": {}
      },
      "source": [
        "main1={\"daily\":daily_json,\"weekly\":weekly_json ,\"monthly\":monthly_json}"
      ],
      "execution_count": 0,
      "outputs": []
    },
    {
      "cell_type": "code",
      "metadata": {
        "id": "GkgUwcWS4FHN",
        "colab_type": "code",
        "colab": {}
      },
      "source": [
        "from pyphi import jsonify\n",
        "\n",
        "jsonify.dump(main1,f)\n",
        "f.close()"
      ],
      "execution_count": 0,
      "outputs": []
    },
    {
      "cell_type": "code",
      "metadata": {
        "id": "lHjt3blQH20X",
        "colab_type": "code",
        "colab": {}
      },
      "source": [
        ""
      ],
      "execution_count": 0,
      "outputs": []
    }
  ]
}